{
 "cells": [
  {
   "cell_type": "code",
   "execution_count": 181,
   "metadata": {
    "collapsed": false
   },
   "outputs": [
    {
     "name": "stdout",
     "output_type": "stream",
     "text": [
      "\n"
     ]
    }
   ],
   "source": [
    "import cPickle as pickle\n",
    "import pandas as pd\n",
    "import numpy as np\n",
    "import random \n",
    "\n",
    "from sklearn.linear_model import LogisticRegression\n",
    "from sklearn.ensemble import RandomForestClassifier\n",
    "from sklearn.ensemble import GradientBoostingClassifier\n",
    "from sklearn.svm import SVC\n",
    "from sklearn.tree import DecisionTreeClassifier\n",
    "from sklearn.neighbors import KNeighborsClassifier\n",
    "from sklearn.gaussian_process import GaussianProcessClassifier\n",
    "from sklearn.gaussian_process.kernels import RBF\n",
    "from sklearn.tree import DecisionTreeClassifier\n",
    "from sklearn.ensemble import RandomForestClassifier, AdaBoostClassifier\n",
    "from sklearn.naive_bayes import GaussianNB\n",
    "from sklearn.discriminant_analysis import QuadraticDiscriminantAnalysis\n",
    "from sklearn.neural_network import MLPClassifier\n",
    "\n",
    "from sklearn.model_selection import train_test_split\n",
    "from sklearn.model_selection import KFold\n",
    "from sklearn.grid_search import GridSearchCV\n",
    "from sklearn.model_selection import cross_val_score\n",
    "from sklearn.preprocessing import StandardScaler\n",
    "from sklearn.metrics import confusion_matrix, precision_score, recall_score\n",
    "\n",
    "import matplotlib\n",
    "%matplotlib inline"
   ]
  },
  {
   "cell_type": "code",
   "execution_count": 22,
   "metadata": {
    "collapsed": true
   },
   "outputs": [],
   "source": [
    "def prep(df):\n",
    "\n",
    "    # A few columns have to go for us to build a model (though we use them for user presentation)\n",
    "    df.drop(['YardLineFixed', 'YardLineDirection','Description', 'PlayType', \\\n",
    "             'PassType', 'RushDirection', 'Yards', 'DefenseTeam'], axis=1, inplace=True)\n",
    "\n",
    "    # create dummy variables for formations\n",
    "    form_dummies = pd.get_dummies(df.Formation)\n",
    "    form_dummies.columns = map(lambda x: 'FORMATION_' + x.replace (' ', '_'), form_dummies.columns)\n",
    "\n",
    "    # create dummy variables for teams\n",
    "    team_dummies = pd.get_dummies(df.OffenseTeam)\n",
    "    team_dummies.columns = map(lambda x: 'TEAM_' + str(x), team_dummies.columns)\n",
    "\n",
    "    # combine the dummy variables and drop the categorical versions\n",
    "    df_prepped = pd.concat(\n",
    "        [df.ix[:,['Quarter', 'Minute', 'Second', 'Down', 'ToGo', 'YardLine', 'Play']],\n",
    "        team_dummies,\n",
    "        form_dummies], axis=1)\n",
    "\n",
    "    return df_prepped"
   ]
  },
  {
   "cell_type": "code",
   "execution_count": 6,
   "metadata": {
    "collapsed": true
   },
   "outputs": [],
   "source": [
    "def combine(filenames):\n",
    "\n",
    "    dfs = []\n",
    "    for filename in filenames:\n",
    "        dfs.append(pd.read_csv(filename))\n",
    "\n",
    "    df = pd.concat(dfs)\n",
    "\n",
    "    return df"
   ]
  },
  {
   "cell_type": "code",
   "execution_count": 9,
   "metadata": {
    "collapsed": true
   },
   "outputs": [],
   "source": [
    "def plot_confusion_matrix(cm):\n",
    "    '''Code stolen brazenly from sklearn example.'''\n",
    "    print(cm)\n",
    "\n",
    "    # Show confusion matrix in a separate window\n",
    "    plt.matshow(cm)\n",
    "    plt.title('Confusion matrix')\n",
    "    plt.colorbar()\n",
    "    plt.ylabel('True label')\n",
    "    plt.xlabel('Predicted label')\n",
    "    plt.show()"
   ]
  },
  {
   "cell_type": "markdown",
   "metadata": {},
   "source": [
    "## Split off a validation set for the users and models to compete over"
   ]
  },
  {
   "cell_type": "code",
   "execution_count": 18,
   "metadata": {
    "collapsed": false
   },
   "outputs": [],
   "source": [
    "# read in the cleaned data, combine it, but leave it without dummies\n",
    "filenames = ['data/pbp2016-clean.csv', 'data/pbp2015-clean.csv', 'data/pbp2014-clean.csv', 'data/pbp2013-clean.csv']\n",
    "pbp_raw = combine(filenames)"
   ]
  },
  {
   "cell_type": "code",
   "execution_count": 19,
   "metadata": {
    "collapsed": true
   },
   "outputs": [],
   "source": [
    "pbp_train, pbp_validation = train_test_split(pbp_raw, test_size = 0.1) # 10% is about 13.5k plays"
   ]
  },
  {
   "cell_type": "code",
   "execution_count": 21,
   "metadata": {
    "collapsed": true
   },
   "outputs": [],
   "source": [
    "pbp_train.to_csv('data/pbp-training.csv')"
   ]
  },
  {
   "cell_type": "code",
   "execution_count": 20,
   "metadata": {
    "collapsed": true
   },
   "outputs": [],
   "source": [
    "pbp_validation.to_csv('data/pbp-validation.csv', index=False)"
   ]
  },
  {
   "cell_type": "code",
   "execution_count": 28,
   "metadata": {
    "collapsed": false
   },
   "outputs": [
    {
     "name": "stdout",
     "output_type": "stream",
     "text": [
      "training set:   (121498, 17)\n",
      "validation set: (13500, 17)\n"
     ]
    }
   ],
   "source": [
    "print 'training set:  ', pbp_train.shape\n",
    "print 'validation set:', pbp_validation.shape"
   ]
  },
  {
   "cell_type": "markdown",
   "metadata": {},
   "source": [
    "## Prep the training set"
   ]
  },
  {
   "cell_type": "code",
   "execution_count": 51,
   "metadata": {
    "collapsed": true
   },
   "outputs": [],
   "source": [
    "pbp_train_raw = pd.read_csv('data/pbp-training.csv')"
   ]
  },
  {
   "cell_type": "code",
   "execution_count": 25,
   "metadata": {
    "collapsed": false
   },
   "outputs": [],
   "source": [
    "pbp = prep(pbp_train_raw.copy())"
   ]
  },
  {
   "cell_type": "code",
   "execution_count": 29,
   "metadata": {
    "collapsed": false
   },
   "outputs": [],
   "source": [
    "# split the class from the values\n",
    "y = pbp['Play']\n",
    "X = pbp.drop(['Play'], axis=1).values\n",
    "\n",
    "# save a test set\n",
    "X_train, X_test, y_train, y_test = train_test_split(X, y, random_state=22)"
   ]
  },
  {
   "cell_type": "markdown",
   "metadata": {},
   "source": [
    "### Basic Model Using All Seasons and All Teams"
   ]
  },
  {
   "cell_type": "code",
   "execution_count": 30,
   "metadata": {
    "collapsed": true
   },
   "outputs": [],
   "source": [
    "# gradient boosting classifier\n",
    "gbc = GradientBoostingClassifier()\n",
    "gbc.fit(X_train, y_train)\n",
    "y_pred = gbc.predict(X_test)"
   ]
  },
  {
   "cell_type": "code",
   "execution_count": 31,
   "metadata": {
    "collapsed": false
   },
   "outputs": [
    {
     "data": {
      "text/plain": [
       "0.77125925925925931"
      ]
     },
     "execution_count": 31,
     "metadata": {},
     "output_type": "execute_result"
    }
   ],
   "source": [
    "gbc.score(X_test, y_test)"
   ]
  },
  {
   "cell_type": "code",
   "execution_count": 32,
   "metadata": {
    "collapsed": false
   },
   "outputs": [
    {
     "name": "stdout",
     "output_type": "stream",
     "text": [
      "[[ 2871     1    12]\n",
      " [   10 13351  3540]\n",
      " [    3  3382  7205]]\n"
     ]
    },
    {
     "data": {
      "image/png": "[encoded data removed]",
      "text/plain": [
       "<matplotlib.figure.Figure at 0x1164769d0>"
      ]
     },
     "metadata": {},
     "output_type": "display_data"
    }
   ],
   "source": [
    "plot_confusion_matrix(confusion_matrix(y_test, y_pred))"
   ]
  },
  {
   "cell_type": "code",
   "execution_count": 36,
   "metadata": {
    "collapsed": false
   },
   "outputs": [],
   "source": [
    "# save the model\n",
    "with open('data/gbc-v2.pkl', 'w') as f:\n",
    "    pickle.dump(gbc, f)"
   ]
  },
  {
   "cell_type": "markdown",
   "metadata": {},
   "source": [
    "### Try putting in the season"
   ]
  },
  {
   "cell_type": "code",
   "execution_count": 39,
   "metadata": {
    "collapsed": true
   },
   "outputs": [],
   "source": [
    "df16 = pd.read_csv('data/pbp2016-clean.csv')\n",
    "df15 = pd.read_csv('data/pbp2015-clean.csv')\n",
    "df14 = pd.read_csv('data/pbp2014-clean.csv')\n",
    "df13 = pd.read_csv('data/pbp2013-clean.csv')"
   ]
  },
  {
   "cell_type": "code",
   "execution_count": 40,
   "metadata": {
    "collapsed": true
   },
   "outputs": [],
   "source": [
    "df16['Season'] = 2016\n",
    "df15['Season'] = 2015\n",
    "df14['Season'] = 2014\n",
    "df13['Season'] = 2013"
   ]
  },
  {
   "cell_type": "code",
   "execution_count": 41,
   "metadata": {
    "collapsed": true
   },
   "outputs": [],
   "source": [
    "df = pd.concat([df16, df15, df14, df13])"
   ]
  },
  {
   "cell_type": "code",
   "execution_count": 42,
   "metadata": {
    "collapsed": true
   },
   "outputs": [],
   "source": [
    "df_prepped = prep(df)"
   ]
  },
  {
   "cell_type": "code",
   "execution_count": 44,
   "metadata": {
    "collapsed": true
   },
   "outputs": [],
   "source": [
    "# split the class from the values\n",
    "y = df_prepped['Play']\n",
    "X = df_prepped.drop(['Play'], axis=1).values\n",
    "\n",
    "# save a test set\n",
    "X_train, X_test, y_train, y_test = train_test_split(X, y, random_state=22)"
   ]
  },
  {
   "cell_type": "code",
   "execution_count": 45,
   "metadata": {
    "collapsed": true
   },
   "outputs": [],
   "source": [
    "# gradient boosting classifier\n",
    "gbc = GradientBoostingClassifier()\n",
    "gbc.fit(X_train, y_train)\n",
    "y_pred = gbc.predict(X_test)"
   ]
  },
  {
   "cell_type": "code",
   "execution_count": 46,
   "metadata": {
    "collapsed": false
   },
   "outputs": [
    {
     "data": {
      "text/plain": [
       "0.76352592592592594"
      ]
     },
     "execution_count": 46,
     "metadata": {},
     "output_type": "execute_result"
    }
   ],
   "source": [
    "gbc.score(X_test, y_test)"
   ]
  },
  {
   "cell_type": "code",
   "execution_count": 47,
   "metadata": {
    "collapsed": false
   },
   "outputs": [
    {
     "name": "stdout",
     "output_type": "stream",
     "text": [
      "[[ 3150     3    12]\n",
      " [    6 14807  3999]\n",
      " [    7  3954  7812]]\n"
     ]
    },
    {
     "data": {
      "image/png": "[encoded data removed]",
      "text/plain": [
       "<matplotlib.figure.Figure at 0x1169b16d0>"
      ]
     },
     "metadata": {},
     "output_type": "display_data"
    }
   ],
   "source": [
    "plot_confusion_matrix(confusion_matrix(y_test, y_pred))"
   ]
  },
  {
   "cell_type": "markdown",
   "metadata": {},
   "source": [
    "#### Tried this experiment without the 2016 data and it seems to make things worse"
   ]
  },
  {
   "cell_type": "markdown",
   "metadata": {},
   "source": [
    "### Try losing the offense"
   ]
  },
  {
   "cell_type": "code",
   "execution_count": 64,
   "metadata": {
    "collapsed": true
   },
   "outputs": [],
   "source": [
    "df = pbp_train_raw.copy()"
   ]
  },
  {
   "cell_type": "code",
   "execution_count": 65,
   "metadata": {
    "collapsed": false
   },
   "outputs": [],
   "source": [
    "# A few columns have to go for us to build a model (though we use them for user presentation)\n",
    "df.drop(['YardLineFixed', 'YardLineDirection','Description', 'PlayType', \\\n",
    "         'PassType', 'RushDirection', 'Yards', 'DefenseTeam', 'OffenseTeam'], axis=1, inplace=True)\n",
    "\n",
    "# create dummy variables for formations\n",
    "form_dummies = pd.get_dummies(df.Formation)\n",
    "form_dummies.columns = map(lambda x: 'FORMATION_' + x.replace (' ', '_'), form_dummies.columns)\n",
    "\n",
    "# combine the dummy variables and drop the categorical versions\n",
    "df_prepped = pd.concat(\n",
    "    [df.ix[:,['Quarter', 'Minute', 'Second', 'Down', 'ToGo', 'YardLine', 'Play']],\n",
    "    form_dummies], axis=1)"
   ]
  },
  {
   "cell_type": "code",
   "execution_count": 66,
   "metadata": {
    "collapsed": false
   },
   "outputs": [
    {
     "data": {
      "text/html": [
       "<div>\n",
       "<table border=\"1\" class=\"dataframe\">\n",
       "  <thead>\n",
       "    <tr style=\"text-align: right;\">\n",
       "      <th></th>\n",
       "      <th>Quarter</th>\n",
       "      <th>Minute</th>\n",
       "      <th>Second</th>\n",
       "      <th>Down</th>\n",
       "      <th>ToGo</th>\n",
       "      <th>YardLine</th>\n",
       "      <th>Play</th>\n",
       "      <th>FORMATION_FIELD_GOAL</th>\n",
       "      <th>FORMATION_NO_HUDDLE</th>\n",
       "      <th>FORMATION_NO_HUDDLE_SHOTGUN</th>\n",
       "      <th>FORMATION_PUNT</th>\n",
       "      <th>FORMATION_SHOTGUN</th>\n",
       "      <th>FORMATION_UNDER_CENTER</th>\n",
       "      <th>FORMATION_WILDCAT</th>\n",
       "    </tr>\n",
       "  </thead>\n",
       "  <tbody>\n",
       "    <tr>\n",
       "      <th>0</th>\n",
       "      <td>2</td>\n",
       "      <td>0</td>\n",
       "      <td>29</td>\n",
       "      <td>1</td>\n",
       "      <td>10</td>\n",
       "      <td>1</td>\n",
       "      <td>RUSH</td>\n",
       "      <td>0</td>\n",
       "      <td>0</td>\n",
       "      <td>0</td>\n",
       "      <td>0</td>\n",
       "      <td>0</td>\n",
       "      <td>1</td>\n",
       "      <td>0</td>\n",
       "    </tr>\n",
       "    <tr>\n",
       "      <th>1</th>\n",
       "      <td>2</td>\n",
       "      <td>8</td>\n",
       "      <td>33</td>\n",
       "      <td>2</td>\n",
       "      <td>9</td>\n",
       "      <td>45</td>\n",
       "      <td>PASS</td>\n",
       "      <td>0</td>\n",
       "      <td>0</td>\n",
       "      <td>0</td>\n",
       "      <td>0</td>\n",
       "      <td>1</td>\n",
       "      <td>0</td>\n",
       "      <td>0</td>\n",
       "    </tr>\n",
       "    <tr>\n",
       "      <th>2</th>\n",
       "      <td>2</td>\n",
       "      <td>2</td>\n",
       "      <td>7</td>\n",
       "      <td>1</td>\n",
       "      <td>10</td>\n",
       "      <td>16</td>\n",
       "      <td>PASS</td>\n",
       "      <td>0</td>\n",
       "      <td>0</td>\n",
       "      <td>0</td>\n",
       "      <td>0</td>\n",
       "      <td>1</td>\n",
       "      <td>0</td>\n",
       "      <td>0</td>\n",
       "    </tr>\n",
       "    <tr>\n",
       "      <th>3</th>\n",
       "      <td>3</td>\n",
       "      <td>12</td>\n",
       "      <td>52</td>\n",
       "      <td>1</td>\n",
       "      <td>10</td>\n",
       "      <td>62</td>\n",
       "      <td>PASS</td>\n",
       "      <td>0</td>\n",
       "      <td>0</td>\n",
       "      <td>0</td>\n",
       "      <td>0</td>\n",
       "      <td>0</td>\n",
       "      <td>1</td>\n",
       "      <td>0</td>\n",
       "    </tr>\n",
       "    <tr>\n",
       "      <th>4</th>\n",
       "      <td>1</td>\n",
       "      <td>2</td>\n",
       "      <td>12</td>\n",
       "      <td>2</td>\n",
       "      <td>7</td>\n",
       "      <td>50</td>\n",
       "      <td>RUSH</td>\n",
       "      <td>0</td>\n",
       "      <td>0</td>\n",
       "      <td>0</td>\n",
       "      <td>0</td>\n",
       "      <td>0</td>\n",
       "      <td>1</td>\n",
       "      <td>0</td>\n",
       "    </tr>\n",
       "  </tbody>\n",
       "</table>\n",
       "</div>"
      ],
      "text/plain": [
       "   Quarter  Minute  Second  Down  ToGo  YardLine  Play  FORMATION_FIELD_GOAL  \\\n",
       "0        2       0      29     1    10         1  RUSH                     0   \n",
       "1        2       8      33     2     9        45  PASS                     0   \n",
       "2        2       2       7     1    10        16  PASS                     0   \n",
       "3        3      12      52     1    10        62  PASS                     0   \n",
       "4        1       2      12     2     7        50  RUSH                     0   \n",
       "\n",
       "   FORMATION_NO_HUDDLE  FORMATION_NO_HUDDLE_SHOTGUN  FORMATION_PUNT  \\\n",
       "0                    0                            0               0   \n",
       "1                    0                            0               0   \n",
       "2                    0                            0               0   \n",
       "3                    0                            0               0   \n",
       "4                    0                            0               0   \n",
       "\n",
       "   FORMATION_SHOTGUN  FORMATION_UNDER_CENTER  FORMATION_WILDCAT  \n",
       "0                  0                       1                  0  \n",
       "1                  1                       0                  0  \n",
       "2                  1                       0                  0  \n",
       "3                  0                       1                  0  \n",
       "4                  0                       1                  0  "
      ]
     },
     "execution_count": 66,
     "metadata": {},
     "output_type": "execute_result"
    }
   ],
   "source": [
    "df_prepped.head()"
   ]
  },
  {
   "cell_type": "code",
   "execution_count": 67,
   "metadata": {
    "collapsed": true
   },
   "outputs": [],
   "source": [
    "# split the class from the values\n",
    "y = df_prepped['Play']\n",
    "X = df_prepped.drop(['Play'], axis=1).values\n",
    "\n",
    "# save a test set\n",
    "X_train, X_test, y_train, y_test = train_test_split(X, y, random_state=22)"
   ]
  },
  {
   "cell_type": "code",
   "execution_count": 68,
   "metadata": {
    "collapsed": true
   },
   "outputs": [],
   "source": [
    "# gradient boosting classifier\n",
    "gbc = GradientBoostingClassifier()\n",
    "gbc.fit(X_train, y_train)\n",
    "y_pred = gbc.predict(X_test)"
   ]
  },
  {
   "cell_type": "code",
   "execution_count": 69,
   "metadata": {
    "collapsed": false
   },
   "outputs": [
    {
     "data": {
      "text/plain": [
       "0.77040329218106995"
      ]
     },
     "execution_count": 69,
     "metadata": {},
     "output_type": "execute_result"
    }
   ],
   "source": [
    "gbc.score(X_test, y_test)"
   ]
  },
  {
   "cell_type": "code",
   "execution_count": 70,
   "metadata": {
    "collapsed": false
   },
   "outputs": [
    {
     "name": "stdout",
     "output_type": "stream",
     "text": [
      "[[ 2872     1    11]\n",
      " [   11 13416  3474]\n",
      " [    2  3475  7113]]\n"
     ]
    },
    {
     "data": {
      "image/png": "[encoded data removed]",
      "text/plain": [
       "<matplotlib.figure.Figure at 0x117a6f990>"
      ]
     },
     "metadata": {},
     "output_type": "display_data"
    }
   ],
   "source": [
    "plot_confusion_matrix(confusion_matrix(y_test, y_pred))"
   ]
  },
  {
   "cell_type": "markdown",
   "metadata": {},
   "source": [
    "#### Very slight decline here; this should still be suitable for a prior \"conventional wisdom\" model"
   ]
  },
  {
   "cell_type": "markdown",
   "metadata": {},
   "source": [
    "### Try keeping the defense in"
   ]
  },
  {
   "cell_type": "code",
   "execution_count": 74,
   "metadata": {
    "collapsed": true
   },
   "outputs": [],
   "source": [
    "df = pbp_train_raw.copy()"
   ]
  },
  {
   "cell_type": "code",
   "execution_count": 75,
   "metadata": {
    "collapsed": true
   },
   "outputs": [],
   "source": [
    "# A few columns have to go for us to build a model (though we use them for user presentation)\n",
    "df.drop(['YardLineFixed', 'YardLineDirection','Description', 'PlayType', \\\n",
    "         'PassType', 'RushDirection', 'Yards'], axis=1, inplace=True)\n",
    "\n",
    "# create dummy variables for formations\n",
    "form_dummies = pd.get_dummies(df.Formation)\n",
    "form_dummies.columns = map(lambda x: 'FORMATION_' + x.replace (' ', '_'), form_dummies.columns)\n",
    "\n",
    "# create dummy variables for offensive teams\n",
    "off_team_dummies = pd.get_dummies(df.OffenseTeam)\n",
    "off_team_dummies.columns = map(lambda x: 'OFF_' + str(x), off_team_dummies.columns)\n",
    "\n",
    "# create dummy variables for offensive teams\n",
    "def_team_dummies = pd.get_dummies(df.DefenseTeam)\n",
    "def_team_dummies.columns = map(lambda x: 'DEF_' + str(x), def_team_dummies.columns)\n",
    "\n",
    "# combine the dummy variables and drop the categorical versions\n",
    "df_prepped = pd.concat(\n",
    "    [df.ix[:,['Quarter', 'Minute', 'Second', 'Down', 'ToGo', 'YardLine', 'Play']],\n",
    "    off_team_dummies,\n",
    "    def_team_dummies,\n",
    "    form_dummies], axis=1)"
   ]
  },
  {
   "cell_type": "code",
   "execution_count": 76,
   "metadata": {
    "collapsed": false
   },
   "outputs": [
    {
     "data": {
      "text/plain": [
       "Index([u'Quarter', u'Minute', u'Second', u'Down', u'ToGo', u'YardLine',\n",
       "       u'Play', u'OFF_ARI', u'OFF_ATL', u'OFF_BAL', u'OFF_BUF', u'OFF_CAR',\n",
       "       u'OFF_CHI', u'OFF_CIN', u'OFF_CLE', u'OFF_DAL', u'OFF_DEN', u'OFF_DET',\n",
       "       u'OFF_GB', u'OFF_HOU', u'OFF_IND', u'OFF_JAX', u'OFF_KC', u'OFF_LA',\n",
       "       u'OFF_MIA', u'OFF_MIN', u'OFF_NE', u'OFF_NO', u'OFF_NYG', u'OFF_NYJ',\n",
       "       u'OFF_OAK', u'OFF_PHI', u'OFF_PIT', u'OFF_SD', u'OFF_SEA', u'OFF_SF',\n",
       "       u'OFF_TB', u'OFF_TEN', u'OFF_WAS', u'DEF_ARI', u'DEF_ATL', u'DEF_BAL',\n",
       "       u'DEF_BUF', u'DEF_CAR', u'DEF_CHI', u'DEF_CIN', u'DEF_CLE', u'DEF_DAL',\n",
       "       u'DEF_DEN', u'DEF_DET', u'DEF_GB', u'DEF_HOU', u'DEF_IND', u'DEF_JAX',\n",
       "       u'DEF_KC', u'DEF_LA', u'DEF_MIA', u'DEF_MIN', u'DEF_NE', u'DEF_NO',\n",
       "       u'DEF_NYG', u'DEF_NYJ', u'DEF_OAK', u'DEF_PHI', u'DEF_PIT', u'DEF_SD',\n",
       "       u'DEF_SEA', u'DEF_SF', u'DEF_TB', u'DEF_TEN', u'DEF_WAS',\n",
       "       u'FORMATION_FIELD_GOAL', u'FORMATION_NO_HUDDLE',\n",
       "       u'FORMATION_NO_HUDDLE_SHOTGUN', u'FORMATION_PUNT', u'FORMATION_SHOTGUN',\n",
       "       u'FORMATION_UNDER_CENTER', u'FORMATION_WILDCAT'],\n",
       "      dtype='object')"
      ]
     },
     "execution_count": 76,
     "metadata": {},
     "output_type": "execute_result"
    }
   ],
   "source": [
    "df_prepped.columns"
   ]
  },
  {
   "cell_type": "code",
   "execution_count": 77,
   "metadata": {
    "collapsed": true
   },
   "outputs": [],
   "source": [
    "# split the class from the values\n",
    "y = df_prepped['Play']\n",
    "X = df_prepped.drop(['Play'], axis=1).values\n",
    "\n",
    "# save a test set\n",
    "X_train, X_test, y_train, y_test = train_test_split(X, y, random_state=22)"
   ]
  },
  {
   "cell_type": "code",
   "execution_count": 78,
   "metadata": {
    "collapsed": true
   },
   "outputs": [],
   "source": [
    "# gradient boosting classifier\n",
    "gbc = GradientBoostingClassifier()\n",
    "gbc.fit(X_train, y_train)\n",
    "y_pred = gbc.predict(X_test)"
   ]
  },
  {
   "cell_type": "code",
   "execution_count": 79,
   "metadata": {
    "collapsed": false
   },
   "outputs": [
    {
     "data": {
      "text/plain": [
       "0.77158847736625513"
      ]
     },
     "execution_count": 79,
     "metadata": {},
     "output_type": "execute_result"
    }
   ],
   "source": [
    "gbc.score(X_test, y_test)"
   ]
  },
  {
   "cell_type": "code",
   "execution_count": 80,
   "metadata": {
    "collapsed": false
   },
   "outputs": [
    {
     "name": "stdout",
     "output_type": "stream",
     "text": [
      "[[ 2871     1    12]\n",
      " [   10 13373  3518]\n",
      " [    3  3394  7193]]\n"
     ]
    },
    {
     "data": {
      "image/png": "[encoded data removed]",
      "text/plain": [
       "<matplotlib.figure.Figure at 0x115e4e190>"
      ]
     },
     "metadata": {},
     "output_type": "display_data"
    }
   ],
   "source": [
    "plot_confusion_matrix(confusion_matrix(y_test, y_pred))"
   ]
  },
  {
   "cell_type": "markdown",
   "metadata": {},
   "source": [
    "#### Very slight lift from using the defense; not enough to worry about"
   ]
  },
  {
   "cell_type": "markdown",
   "metadata": {},
   "source": [
    "### Try using the no-offense model as a prior for another team-based model"
   ]
  },
  {
   "cell_type": "markdown",
   "metadata": {},
   "source": [
    "#### Train a no-offense model"
   ]
  },
  {
   "cell_type": "code",
   "execution_count": 81,
   "metadata": {
    "collapsed": true
   },
   "outputs": [],
   "source": [
    "df = pbp_train_raw.copy()"
   ]
  },
  {
   "cell_type": "code",
   "execution_count": 82,
   "metadata": {
    "collapsed": false
   },
   "outputs": [],
   "source": [
    "# A few columns have to go for us to build a model (though we use them for user presentation)\n",
    "df.drop(['YardLineFixed', 'YardLineDirection','Description', 'PlayType', \\\n",
    "         'PassType', 'RushDirection', 'Yards', 'DefenseTeam', 'OffenseTeam'], axis=1, inplace=True)\n",
    "\n",
    "# create dummy variables for formations\n",
    "form_dummies = pd.get_dummies(df.Formation)\n",
    "form_dummies.columns = map(lambda x: 'FORMATION_' + x.replace (' ', '_'), form_dummies.columns)\n",
    "\n",
    "# combine the dummy variables and drop the categorical versions\n",
    "df_prepped = pd.concat(\n",
    "    [df.ix[:,['Quarter', 'Minute', 'Second', 'Down', 'ToGo', 'YardLine', 'Play']],\n",
    "    form_dummies], axis=1)"
   ]
  },
  {
   "cell_type": "code",
   "execution_count": 83,
   "metadata": {
    "collapsed": false
   },
   "outputs": [
    {
     "data": {
      "text/html": [
       "<div>\n",
       "<table border=\"1\" class=\"dataframe\">\n",
       "  <thead>\n",
       "    <tr style=\"text-align: right;\">\n",
       "      <th></th>\n",
       "      <th>Quarter</th>\n",
       "      <th>Minute</th>\n",
       "      <th>Second</th>\n",
       "      <th>Down</th>\n",
       "      <th>ToGo</th>\n",
       "      <th>YardLine</th>\n",
       "      <th>Play</th>\n",
       "      <th>FORMATION_FIELD_GOAL</th>\n",
       "      <th>FORMATION_NO_HUDDLE</th>\n",
       "      <th>FORMATION_NO_HUDDLE_SHOTGUN</th>\n",
       "      <th>FORMATION_PUNT</th>\n",
       "      <th>FORMATION_SHOTGUN</th>\n",
       "      <th>FORMATION_UNDER_CENTER</th>\n",
       "      <th>FORMATION_WILDCAT</th>\n",
       "    </tr>\n",
       "  </thead>\n",
       "  <tbody>\n",
       "    <tr>\n",
       "      <th>0</th>\n",
       "      <td>2</td>\n",
       "      <td>0</td>\n",
       "      <td>29</td>\n",
       "      <td>1</td>\n",
       "      <td>10</td>\n",
       "      <td>1</td>\n",
       "      <td>RUSH</td>\n",
       "      <td>0</td>\n",
       "      <td>0</td>\n",
       "      <td>0</td>\n",
       "      <td>0</td>\n",
       "      <td>0</td>\n",
       "      <td>1</td>\n",
       "      <td>0</td>\n",
       "    </tr>\n",
       "    <tr>\n",
       "      <th>1</th>\n",
       "      <td>2</td>\n",
       "      <td>8</td>\n",
       "      <td>33</td>\n",
       "      <td>2</td>\n",
       "      <td>9</td>\n",
       "      <td>45</td>\n",
       "      <td>PASS</td>\n",
       "      <td>0</td>\n",
       "      <td>0</td>\n",
       "      <td>0</td>\n",
       "      <td>0</td>\n",
       "      <td>1</td>\n",
       "      <td>0</td>\n",
       "      <td>0</td>\n",
       "    </tr>\n",
       "    <tr>\n",
       "      <th>2</th>\n",
       "      <td>2</td>\n",
       "      <td>2</td>\n",
       "      <td>7</td>\n",
       "      <td>1</td>\n",
       "      <td>10</td>\n",
       "      <td>16</td>\n",
       "      <td>PASS</td>\n",
       "      <td>0</td>\n",
       "      <td>0</td>\n",
       "      <td>0</td>\n",
       "      <td>0</td>\n",
       "      <td>1</td>\n",
       "      <td>0</td>\n",
       "      <td>0</td>\n",
       "    </tr>\n",
       "    <tr>\n",
       "      <th>3</th>\n",
       "      <td>3</td>\n",
       "      <td>12</td>\n",
       "      <td>52</td>\n",
       "      <td>1</td>\n",
       "      <td>10</td>\n",
       "      <td>62</td>\n",
       "      <td>PASS</td>\n",
       "      <td>0</td>\n",
       "      <td>0</td>\n",
       "      <td>0</td>\n",
       "      <td>0</td>\n",
       "      <td>0</td>\n",
       "      <td>1</td>\n",
       "      <td>0</td>\n",
       "    </tr>\n",
       "    <tr>\n",
       "      <th>4</th>\n",
       "      <td>1</td>\n",
       "      <td>2</td>\n",
       "      <td>12</td>\n",
       "      <td>2</td>\n",
       "      <td>7</td>\n",
       "      <td>50</td>\n",
       "      <td>RUSH</td>\n",
       "      <td>0</td>\n",
       "      <td>0</td>\n",
       "      <td>0</td>\n",
       "      <td>0</td>\n",
       "      <td>0</td>\n",
       "      <td>1</td>\n",
       "      <td>0</td>\n",
       "    </tr>\n",
       "  </tbody>\n",
       "</table>\n",
       "</div>"
      ],
      "text/plain": [
       "   Quarter  Minute  Second  Down  ToGo  YardLine  Play  FORMATION_FIELD_GOAL  \\\n",
       "0        2       0      29     1    10         1  RUSH                     0   \n",
       "1        2       8      33     2     9        45  PASS                     0   \n",
       "2        2       2       7     1    10        16  PASS                     0   \n",
       "3        3      12      52     1    10        62  PASS                     0   \n",
       "4        1       2      12     2     7        50  RUSH                     0   \n",
       "\n",
       "   FORMATION_NO_HUDDLE  FORMATION_NO_HUDDLE_SHOTGUN  FORMATION_PUNT  \\\n",
       "0                    0                            0               0   \n",
       "1                    0                            0               0   \n",
       "2                    0                            0               0   \n",
       "3                    0                            0               0   \n",
       "4                    0                            0               0   \n",
       "\n",
       "   FORMATION_SHOTGUN  FORMATION_UNDER_CENTER  FORMATION_WILDCAT  \n",
       "0                  0                       1                  0  \n",
       "1                  1                       0                  0  \n",
       "2                  1                       0                  0  \n",
       "3                  0                       1                  0  \n",
       "4                  0                       1                  0  "
      ]
     },
     "execution_count": 83,
     "metadata": {},
     "output_type": "execute_result"
    }
   ],
   "source": [
    "df_prepped.head()"
   ]
  },
  {
   "cell_type": "code",
   "execution_count": 84,
   "metadata": {
    "collapsed": true
   },
   "outputs": [],
   "source": [
    "# split the class from the values\n",
    "y = df_prepped['Play']\n",
    "X = df_prepped.drop(['Play'], axis=1).values"
   ]
  },
  {
   "cell_type": "code",
   "execution_count": 85,
   "metadata": {
    "collapsed": false
   },
   "outputs": [
    {
     "data": {
      "text/plain": [
       "GradientBoostingClassifier(criterion='friedman_mse', init=None,\n",
       "              learning_rate=0.1, loss='deviance', max_depth=3,\n",
       "              max_features=None, max_leaf_nodes=None,\n",
       "              min_impurity_split=1e-07, min_samples_leaf=1,\n",
       "              min_samples_split=2, min_weight_fraction_leaf=0.0,\n",
       "              n_estimators=100, presort='auto', random_state=None,\n",
       "              subsample=1.0, verbose=0, warm_start=False)"
      ]
     },
     "execution_count": 85,
     "metadata": {},
     "output_type": "execute_result"
    }
   ],
   "source": [
    "# gradient boosting classifier\n",
    "gbc_cw = GradientBoostingClassifier()\n",
    "gbc_cw.fit(X,y)"
   ]
  },
  {
   "cell_type": "markdown",
   "metadata": {},
   "source": [
    "#### we want to add 3 columns to the original dataframe: PROB_PASS, PROB_RUSH, PROB_KICK"
   ]
  },
  {
   "cell_type": "code",
   "execution_count": 89,
   "metadata": {
    "collapsed": true
   },
   "outputs": [],
   "source": [
    "def get_probas(record):\n",
    "    \n",
    "    '''\n",
    "    This takes a dataframe and puts it in the format the conventional wisdom model expects.\n",
    "    '''\n",
    "\n",
    "    formations = [\n",
    "    'FIELD_GOAL',\n",
    "    'NO_HUDDLE',\n",
    "    'NO_HUDDLE_SHOTGUN',\n",
    "    'PUNT',\n",
    "    'SHOTGUN',\n",
    "    'UNDER_CENTER',\n",
    "    'WILDCAT']\n",
    "\n",
    "\n",
    "    # Dummy the formation\n",
    "    df1 = pd.get_dummies(record.Formation)\n",
    "    dummies_frame = pd.get_dummies(formations)\n",
    "    df1 = df1.reindex(columns=dummies_frame.columns, fill_value=0)\n",
    "    df1.columns = map(lambda x: 'FORMATION_' + x.replace (' ', '_'), df1.columns)\n",
    "\n",
    "    # Combine the dummy variables and drop the categorical versions\n",
    "    record = pd.concat(\n",
    "        [record.ix[:,['Quarter', 'Minute', 'Second', 'Down', 'ToGo', 'YardLine', 'Play']],\n",
    "        df1], axis=1)\n",
    "    \n",
    "    # split the class from the values and run it through the model\n",
    "    return gbc_cw.predict_proba(record.drop(['Play'], axis=1).values)"
   ]
  },
  {
   "cell_type": "markdown",
   "metadata": {},
   "source": [
    "#### try out the procedure on one record"
   ]
  },
  {
   "cell_type": "code",
   "execution_count": 121,
   "metadata": {
    "collapsed": true
   },
   "outputs": [],
   "source": [
    "df_new = pbp_train_raw.copy()"
   ]
  },
  {
   "cell_type": "code",
   "execution_count": 98,
   "metadata": {
    "collapsed": false
   },
   "outputs": [],
   "source": [
    "# pick a random play out of the data\n",
    "rand_play = pd.DataFrame(df_new.iloc[random.randint(0,df_new.shape[0])]).T"
   ]
  },
  {
   "cell_type": "code",
   "execution_count": 100,
   "metadata": {
    "collapsed": false
   },
   "outputs": [
    {
     "data": {
      "text/plain": [
       "array([  2.57920670e-04,   7.67674490e-01,   2.32067589e-01])"
      ]
     },
     "execution_count": 100,
     "metadata": {},
     "output_type": "execute_result"
    }
   ],
   "source": [
    "get_probas(rand_play)[0] # [kick, pass, rush]"
   ]
  },
  {
   "cell_type": "markdown",
   "metadata": {},
   "source": [
    "#### apply it to the whole dataframe"
   ]
  },
  {
   "cell_type": "code",
   "execution_count": 122,
   "metadata": {
    "collapsed": true
   },
   "outputs": [],
   "source": [
    "probas = get_probas(df_new)"
   ]
  },
  {
   "cell_type": "code",
   "execution_count": 123,
   "metadata": {
    "collapsed": false
   },
   "outputs": [],
   "source": [
    "df_new['PROB_KICK'] = probas[:,0]\n",
    "df_new['PROB_PASS'] = probas[:,1]\n",
    "df_new['PROB_RUSH'] = probas[:,2]"
   ]
  },
  {
   "cell_type": "code",
   "execution_count": 124,
   "metadata": {
    "collapsed": false
   },
   "outputs": [
    {
     "data": {
      "text/plain": [
       "Unnamed: 0                                                       33671\n",
       "Quarter                                                              2\n",
       "Minute                                                               4\n",
       "Second                                                               5\n",
       "OffenseTeam                                                        NYJ\n",
       "DefenseTeam                                                        MIA\n",
       "Down                                                                 3\n",
       "ToGo                                                                 2\n",
       "YardLine                                                            94\n",
       "Description          (4:05) (SHOTGUN) 7-G.SMITH RIGHT TACKLE TO MIA...\n",
       "Yards                                                                5\n",
       "Formation                                                      SHOTGUN\n",
       "PlayType                                                          RUSH\n",
       "PassType                                                           NaN\n",
       "RushDirection                                             RIGHT TACKLE\n",
       "YardLineFixed                                                        6\n",
       "YardLineDirection                                                  OPP\n",
       "Play                                                              RUSH\n",
       "PROB_KICK                                                   0.00033104\n",
       "PROB_PASS                                                     0.835353\n",
       "PROB_RUSH                                                     0.164316\n",
       "Name: 69817, dtype: object"
      ]
     },
     "execution_count": 124,
     "metadata": {},
     "output_type": "execute_result"
    }
   ],
   "source": [
    "df_new.iloc[random.randint(0,df_new.shape[0])]"
   ]
  },
  {
   "cell_type": "markdown",
   "metadata": {},
   "source": [
    "#### now, dummy out the teams and formations and train a new model"
   ]
  },
  {
   "cell_type": "code",
   "execution_count": 125,
   "metadata": {
    "collapsed": false
   },
   "outputs": [],
   "source": [
    "# A few columns have to go for us to build a model (though we use them for user presentation)\n",
    "df_new.drop(['YardLineFixed', 'YardLineDirection','Description', 'PlayType', \\\n",
    "         'PassType', 'RushDirection', 'Yards', 'DefenseTeam'], axis=1, inplace=True)\n",
    "\n",
    "# create dummy variables for formations\n",
    "form_dummies = pd.get_dummies(df_new.Formation)\n",
    "form_dummies.columns = map(lambda x: 'FORMATION_' + x.replace (' ', '_'), form_dummies.columns)\n",
    "\n",
    "# create dummy variables for teams\n",
    "team_dummies = pd.get_dummies(df_new.OffenseTeam)\n",
    "team_dummies.columns = map(lambda x: 'TEAM_' + str(x), team_dummies.columns)\n",
    "\n",
    "# combine the dummy variables and drop the categorical versions\n",
    "df_new_prepped = pd.concat(\n",
    "    [df_new.ix[:,['Quarter', 'Minute', 'Second', 'Down', 'ToGo', 'YardLine', 'PROB_KICK','PROB_PASS','PROB_RUSH', 'Play']],\n",
    "    team_dummies,\n",
    "    form_dummies], axis=1)"
   ]
  },
  {
   "cell_type": "code",
   "execution_count": 127,
   "metadata": {
    "collapsed": false
   },
   "outputs": [
    {
     "name": "stdout",
     "output_type": "stream",
     "text": [
      "<class 'pandas.core.frame.DataFrame'>\n",
      "RangeIndex: 121498 entries, 0 to 121497\n",
      "Data columns (total 49 columns):\n",
      "Quarter                        121498 non-null int64\n",
      "Minute                         121498 non-null int64\n",
      "Second                         121498 non-null int64\n",
      "Down                           121498 non-null int64\n",
      "ToGo                           121498 non-null int64\n",
      "YardLine                       121498 non-null int64\n",
      "PROB_KICK                      121498 non-null float64\n",
      "PROB_PASS                      121498 non-null float64\n",
      "PROB_RUSH                      121498 non-null float64\n",
      "Play                           121498 non-null object\n",
      "TEAM_ARI                       121498 non-null uint8\n",
      "TEAM_ATL                       121498 non-null uint8\n",
      "TEAM_BAL                       121498 non-null uint8\n",
      "TEAM_BUF                       121498 non-null uint8\n",
      "TEAM_CAR                       121498 non-null uint8\n",
      "TEAM_CHI                       121498 non-null uint8\n",
      "TEAM_CIN                       121498 non-null uint8\n",
      "TEAM_CLE                       121498 non-null uint8\n",
      "TEAM_DAL                       121498 non-null uint8\n",
      "TEAM_DEN                       121498 non-null uint8\n",
      "TEAM_DET                       121498 non-null uint8\n",
      "TEAM_GB                        121498 non-null uint8\n",
      "TEAM_HOU                       121498 non-null uint8\n",
      "TEAM_IND                       121498 non-null uint8\n",
      "TEAM_JAX                       121498 non-null uint8\n",
      "TEAM_KC                        121498 non-null uint8\n",
      "TEAM_LA                        121498 non-null uint8\n",
      "TEAM_MIA                       121498 non-null uint8\n",
      "TEAM_MIN                       121498 non-null uint8\n",
      "TEAM_NE                        121498 non-null uint8\n",
      "TEAM_NO                        121498 non-null uint8\n",
      "TEAM_NYG                       121498 non-null uint8\n",
      "TEAM_NYJ                       121498 non-null uint8\n",
      "TEAM_OAK                       121498 non-null uint8\n",
      "TEAM_PHI                       121498 non-null uint8\n",
      "TEAM_PIT                       121498 non-null uint8\n",
      "TEAM_SD                        121498 non-null uint8\n",
      "TEAM_SEA                       121498 non-null uint8\n",
      "TEAM_SF                        121498 non-null uint8\n",
      "TEAM_TB                        121498 non-null uint8\n",
      "TEAM_TEN                       121498 non-null uint8\n",
      "TEAM_WAS                       121498 non-null uint8\n",
      "FORMATION_FIELD_GOAL           121498 non-null uint8\n",
      "FORMATION_NO_HUDDLE            121498 non-null uint8\n",
      "FORMATION_NO_HUDDLE_SHOTGUN    121498 non-null uint8\n",
      "FORMATION_PUNT                 121498 non-null uint8\n",
      "FORMATION_SHOTGUN              121498 non-null uint8\n",
      "FORMATION_UNDER_CENTER         121498 non-null uint8\n",
      "FORMATION_WILDCAT              121498 non-null uint8\n",
      "dtypes: float64(3), int64(6), object(1), uint8(39)\n",
      "memory usage: 13.8+ MB\n"
     ]
    }
   ],
   "source": [
    "df_new_prepped.info()"
   ]
  },
  {
   "cell_type": "code",
   "execution_count": 128,
   "metadata": {
    "collapsed": true
   },
   "outputs": [],
   "source": [
    "# split the class from the values\n",
    "y = df_new_prepped['Play']\n",
    "X = df_new_prepped.drop(['Play'], axis=1).values\n",
    "\n",
    "# save a test set\n",
    "X_train, X_test, y_train, y_test = train_test_split(X, y, random_state=22)"
   ]
  },
  {
   "cell_type": "code",
   "execution_count": 129,
   "metadata": {
    "collapsed": true
   },
   "outputs": [],
   "source": [
    "# gradient boosting classifier\n",
    "gbc = GradientBoostingClassifier()\n",
    "gbc.fit(X_train, y_train)\n",
    "y_pred = gbc.predict(X_test)"
   ]
  },
  {
   "cell_type": "code",
   "execution_count": 130,
   "metadata": {
    "collapsed": false
   },
   "outputs": [
    {
     "data": {
      "text/plain": [
       "0.77254320987654324"
      ]
     },
     "execution_count": 130,
     "metadata": {},
     "output_type": "execute_result"
    }
   ],
   "source": [
    "gbc.score(X_test, y_test)"
   ]
  },
  {
   "cell_type": "code",
   "execution_count": 131,
   "metadata": {
    "collapsed": false,
    "scrolled": true
   },
   "outputs": [
    {
     "name": "stdout",
     "output_type": "stream",
     "text": [
      "[[ 2873     1    10]\n",
      " [   10 13381  3510]\n",
      " [    3  3375  7212]]\n"
     ]
    },
    {
     "data": {
      "image/png": "[encoded data removed]",
      "text/plain": [
       "<matplotlib.figure.Figure at 0x115e2f6d0>"
      ]
     },
     "metadata": {},
     "output_type": "display_data"
    }
   ],
   "source": [
    "plot_confusion_matrix(confusion_matrix(y_test, y_pred))"
   ]
  },
  {
   "cell_type": "markdown",
   "metadata": {},
   "source": [
    "#### This shows a .15% improvement, which is nominal.  Formation went into the prior model... it probably shouldn't have, since that decision is offense-specific."
   ]
  },
  {
   "cell_type": "markdown",
   "metadata": {},
   "source": [
    "### Try again, but leave formation out of the prior model."
   ]
  },
  {
   "cell_type": "code",
   "execution_count": 141,
   "metadata": {
    "collapsed": true
   },
   "outputs": [],
   "source": [
    "df = pbp_train_raw.copy()"
   ]
  },
  {
   "cell_type": "code",
   "execution_count": 142,
   "metadata": {
    "collapsed": false
   },
   "outputs": [],
   "source": [
    "# A few columns have to go for us to build a model (though we use them for user presentation)\n",
    "df.drop(['YardLineFixed', 'YardLineDirection','Description', 'PlayType', \\\n",
    "         'PassType', 'RushDirection', 'Yards', 'DefenseTeam', 'OffenseTeam', \\\n",
    "         'Formation', 'Unnamed: 0'], axis=1, inplace=True)"
   ]
  },
  {
   "cell_type": "code",
   "execution_count": 143,
   "metadata": {
    "collapsed": false
   },
   "outputs": [
    {
     "data": {
      "text/html": [
       "<div>\n",
       "<table border=\"1\" class=\"dataframe\">\n",
       "  <thead>\n",
       "    <tr style=\"text-align: right;\">\n",
       "      <th></th>\n",
       "      <th>Quarter</th>\n",
       "      <th>Minute</th>\n",
       "      <th>Second</th>\n",
       "      <th>Down</th>\n",
       "      <th>ToGo</th>\n",
       "      <th>YardLine</th>\n",
       "      <th>Play</th>\n",
       "    </tr>\n",
       "  </thead>\n",
       "  <tbody>\n",
       "    <tr>\n",
       "      <th>0</th>\n",
       "      <td>2</td>\n",
       "      <td>0</td>\n",
       "      <td>29</td>\n",
       "      <td>1</td>\n",
       "      <td>10</td>\n",
       "      <td>1</td>\n",
       "      <td>RUSH</td>\n",
       "    </tr>\n",
       "    <tr>\n",
       "      <th>1</th>\n",
       "      <td>2</td>\n",
       "      <td>8</td>\n",
       "      <td>33</td>\n",
       "      <td>2</td>\n",
       "      <td>9</td>\n",
       "      <td>45</td>\n",
       "      <td>PASS</td>\n",
       "    </tr>\n",
       "    <tr>\n",
       "      <th>2</th>\n",
       "      <td>2</td>\n",
       "      <td>2</td>\n",
       "      <td>7</td>\n",
       "      <td>1</td>\n",
       "      <td>10</td>\n",
       "      <td>16</td>\n",
       "      <td>PASS</td>\n",
       "    </tr>\n",
       "    <tr>\n",
       "      <th>3</th>\n",
       "      <td>3</td>\n",
       "      <td>12</td>\n",
       "      <td>52</td>\n",
       "      <td>1</td>\n",
       "      <td>10</td>\n",
       "      <td>62</td>\n",
       "      <td>PASS</td>\n",
       "    </tr>\n",
       "    <tr>\n",
       "      <th>4</th>\n",
       "      <td>1</td>\n",
       "      <td>2</td>\n",
       "      <td>12</td>\n",
       "      <td>2</td>\n",
       "      <td>7</td>\n",
       "      <td>50</td>\n",
       "      <td>RUSH</td>\n",
       "    </tr>\n",
       "  </tbody>\n",
       "</table>\n",
       "</div>"
      ],
      "text/plain": [
       "   Quarter  Minute  Second  Down  ToGo  YardLine  Play\n",
       "0        2       0      29     1    10         1  RUSH\n",
       "1        2       8      33     2     9        45  PASS\n",
       "2        2       2       7     1    10        16  PASS\n",
       "3        3      12      52     1    10        62  PASS\n",
       "4        1       2      12     2     7        50  RUSH"
      ]
     },
     "execution_count": 143,
     "metadata": {},
     "output_type": "execute_result"
    }
   ],
   "source": [
    "df.head()"
   ]
  },
  {
   "cell_type": "code",
   "execution_count": 153,
   "metadata": {
    "collapsed": true
   },
   "outputs": [],
   "source": [
    "# split the class from the values\n",
    "y = df['Play']\n",
    "X = df.drop(['Play'], axis=1).values"
   ]
  },
  {
   "cell_type": "code",
   "execution_count": 154,
   "metadata": {
    "collapsed": false
   },
   "outputs": [
    {
     "data": {
      "text/plain": [
       "GradientBoostingClassifier(criterion='friedman_mse', init=None,\n",
       "              learning_rate=0.1, loss='deviance', max_depth=3,\n",
       "              max_features=None, max_leaf_nodes=None,\n",
       "              min_impurity_split=1e-07, min_samples_leaf=1,\n",
       "              min_samples_split=2, min_weight_fraction_leaf=0.0,\n",
       "              n_estimators=100, presort='auto', random_state=None,\n",
       "              subsample=1.0, verbose=0, warm_start=False)"
      ]
     },
     "execution_count": 154,
     "metadata": {},
     "output_type": "execute_result"
    }
   ],
   "source": [
    "# gradient boosting classifier\n",
    "gbc_cw = GradientBoostingClassifier()\n",
    "gbc_cw.fit(X,y)"
   ]
  },
  {
   "cell_type": "markdown",
   "metadata": {},
   "source": [
    "#### we want to add 3 columns to the original dataframe: PROB_PASS, PROB_RUSH, PROB_KICK"
   ]
  },
  {
   "cell_type": "code",
   "execution_count": 155,
   "metadata": {
    "collapsed": true
   },
   "outputs": [],
   "source": [
    "def get_probas(record):\n",
    "    \n",
    "    # A few columns have to go for us to build a model (though we use them for user presentation)\n",
    "    record.drop(['YardLineFixed', 'YardLineDirection','Description', 'PlayType', \\\n",
    "         'PassType', 'RushDirection', 'Yards', 'DefenseTeam', 'OffenseTeam', \\\n",
    "         'Formation', 'Unnamed: 0'], axis=1, inplace=True)\n",
    "    \n",
    "    # split the class from the values and run it through the model\n",
    "    return gbc_cw.predict_proba(record.drop(['Play'], axis=1).values)"
   ]
  },
  {
   "cell_type": "markdown",
   "metadata": {},
   "source": [
    "#### try out the procedure on one record"
   ]
  },
  {
   "cell_type": "code",
   "execution_count": 162,
   "metadata": {
    "collapsed": true
   },
   "outputs": [],
   "source": [
    "df_new = pbp_train_raw.copy()"
   ]
  },
  {
   "cell_type": "code",
   "execution_count": 163,
   "metadata": {
    "collapsed": false
   },
   "outputs": [],
   "source": [
    "# pick a random play out of the data\n",
    "rand_play = pd.DataFrame(df_new.iloc[random.randint(0,df_new.shape[0])]).T"
   ]
  },
  {
   "cell_type": "code",
   "execution_count": 158,
   "metadata": {
    "collapsed": false
   },
   "outputs": [
    {
     "data": {
      "text/plain": [
       "array([ 0.00110132,  0.31112659,  0.6877721 ])"
      ]
     },
     "execution_count": 158,
     "metadata": {},
     "output_type": "execute_result"
    }
   ],
   "source": [
    "get_probas(rand_play)[0] # [kick, pass, rush]"
   ]
  },
  {
   "cell_type": "markdown",
   "metadata": {},
   "source": [
    "#### apply it to the whole dataframe"
   ]
  },
  {
   "cell_type": "code",
   "execution_count": 164,
   "metadata": {
    "collapsed": true
   },
   "outputs": [],
   "source": [
    "probas = get_probas(df_new.copy())"
   ]
  },
  {
   "cell_type": "code",
   "execution_count": 165,
   "metadata": {
    "collapsed": false
   },
   "outputs": [],
   "source": [
    "df_new['PROB_KICK'] = probas[:,0]\n",
    "df_new['PROB_PASS'] = probas[:,1]\n",
    "df_new['PROB_RUSH'] = probas[:,2]"
   ]
  },
  {
   "cell_type": "code",
   "execution_count": 166,
   "metadata": {
    "collapsed": false
   },
   "outputs": [
    {
     "data": {
      "text/plain": [
       "Unnamed: 0                                                        2620\n",
       "Quarter                                                              2\n",
       "Minute                                                               0\n",
       "Second                                                              51\n",
       "OffenseTeam                                                        CIN\n",
       "DefenseTeam                                                        ATL\n",
       "Down                                                                 1\n",
       "ToGo                                                                10\n",
       "YardLine                                                            43\n",
       "Description          (:51) (SHOTGUN) 25-G.BERNARD LEFT TACKLE TO CI...\n",
       "Yards                                                               -1\n",
       "Formation                                                      SHOTGUN\n",
       "PlayType                                                          RUSH\n",
       "PassType                                                           NaN\n",
       "RushDirection                                              LEFT TACKLE\n",
       "YardLineFixed                                                       43\n",
       "YardLineDirection                                                  OWN\n",
       "Play                                                              RUSH\n",
       "PROB_KICK                                                   0.00125519\n",
       "PROB_PASS                                                     0.753151\n",
       "PROB_RUSH                                                     0.245593\n",
       "Name: 46471, dtype: object"
      ]
     },
     "execution_count": 166,
     "metadata": {},
     "output_type": "execute_result"
    }
   ],
   "source": [
    "df_new.iloc[random.randint(0,df_new.shape[0])]"
   ]
  },
  {
   "cell_type": "markdown",
   "metadata": {},
   "source": [
    "#### now, dummy out the teams and formations and train a new model"
   ]
  },
  {
   "cell_type": "code",
   "execution_count": 167,
   "metadata": {
    "collapsed": false
   },
   "outputs": [],
   "source": [
    "# A few columns have to go for us to build a model (though we use them for user presentation)\n",
    "df_new.drop(['YardLineFixed', 'YardLineDirection','Description', 'PlayType', \\\n",
    "         'PassType', 'RushDirection', 'Yards', 'DefenseTeam'], axis=1, inplace=True)\n",
    "\n",
    "# create dummy variables for formations\n",
    "form_dummies = pd.get_dummies(df_new.Formation)\n",
    "form_dummies.columns = map(lambda x: 'FORMATION_' + x.replace (' ', '_'), form_dummies.columns)\n",
    "\n",
    "# create dummy variables for teams\n",
    "team_dummies = pd.get_dummies(df_new.OffenseTeam)\n",
    "team_dummies.columns = map(lambda x: 'TEAM_' + str(x), team_dummies.columns)\n",
    "\n",
    "# combine the dummy variables and drop the categorical versions\n",
    "df_new_prepped = pd.concat(\n",
    "    [df_new.ix[:,['Quarter', 'Minute', 'Second', 'Down', 'ToGo', 'YardLine', 'PROB_KICK','PROB_PASS','PROB_RUSH', 'Play']],\n",
    "    team_dummies,\n",
    "    form_dummies], axis=1)"
   ]
  },
  {
   "cell_type": "code",
   "execution_count": 168,
   "metadata": {
    "collapsed": false
   },
   "outputs": [
    {
     "name": "stdout",
     "output_type": "stream",
     "text": [
      "<class 'pandas.core.frame.DataFrame'>\n",
      "RangeIndex: 121498 entries, 0 to 121497\n",
      "Data columns (total 49 columns):\n",
      "Quarter                        121498 non-null int64\n",
      "Minute                         121498 non-null int64\n",
      "Second                         121498 non-null int64\n",
      "Down                           121498 non-null int64\n",
      "ToGo                           121498 non-null int64\n",
      "YardLine                       121498 non-null int64\n",
      "PROB_KICK                      121498 non-null float64\n",
      "PROB_PASS                      121498 non-null float64\n",
      "PROB_RUSH                      121498 non-null float64\n",
      "Play                           121498 non-null object\n",
      "TEAM_ARI                       121498 non-null uint8\n",
      "TEAM_ATL                       121498 non-null uint8\n",
      "TEAM_BAL                       121498 non-null uint8\n",
      "TEAM_BUF                       121498 non-null uint8\n",
      "TEAM_CAR                       121498 non-null uint8\n",
      "TEAM_CHI                       121498 non-null uint8\n",
      "TEAM_CIN                       121498 non-null uint8\n",
      "TEAM_CLE                       121498 non-null uint8\n",
      "TEAM_DAL                       121498 non-null uint8\n",
      "TEAM_DEN                       121498 non-null uint8\n",
      "TEAM_DET                       121498 non-null uint8\n",
      "TEAM_GB                        121498 non-null uint8\n",
      "TEAM_HOU                       121498 non-null uint8\n",
      "TEAM_IND                       121498 non-null uint8\n",
      "TEAM_JAX                       121498 non-null uint8\n",
      "TEAM_KC                        121498 non-null uint8\n",
      "TEAM_LA                        121498 non-null uint8\n",
      "TEAM_MIA                       121498 non-null uint8\n",
      "TEAM_MIN                       121498 non-null uint8\n",
      "TEAM_NE                        121498 non-null uint8\n",
      "TEAM_NO                        121498 non-null uint8\n",
      "TEAM_NYG                       121498 non-null uint8\n",
      "TEAM_NYJ                       121498 non-null uint8\n",
      "TEAM_OAK                       121498 non-null uint8\n",
      "TEAM_PHI                       121498 non-null uint8\n",
      "TEAM_PIT                       121498 non-null uint8\n",
      "TEAM_SD                        121498 non-null uint8\n",
      "TEAM_SEA                       121498 non-null uint8\n",
      "TEAM_SF                        121498 non-null uint8\n",
      "TEAM_TB                        121498 non-null uint8\n",
      "TEAM_TEN                       121498 non-null uint8\n",
      "TEAM_WAS                       121498 non-null uint8\n",
      "FORMATION_FIELD_GOAL           121498 non-null uint8\n",
      "FORMATION_NO_HUDDLE            121498 non-null uint8\n",
      "FORMATION_NO_HUDDLE_SHOTGUN    121498 non-null uint8\n",
      "FORMATION_PUNT                 121498 non-null uint8\n",
      "FORMATION_SHOTGUN              121498 non-null uint8\n",
      "FORMATION_UNDER_CENTER         121498 non-null uint8\n",
      "FORMATION_WILDCAT              121498 non-null uint8\n",
      "dtypes: float64(3), int64(6), object(1), uint8(39)\n",
      "memory usage: 13.8+ MB\n"
     ]
    }
   ],
   "source": [
    "df_new_prepped.info()"
   ]
  },
  {
   "cell_type": "code",
   "execution_count": 169,
   "metadata": {
    "collapsed": true
   },
   "outputs": [],
   "source": [
    "# split the class from the values\n",
    "y = df_new_prepped['Play']\n",
    "X = df_new_prepped.drop(['Play'], axis=1).values\n",
    "\n",
    "# save a test set\n",
    "X_train, X_test, y_train, y_test = train_test_split(X, y, random_state=22)"
   ]
  },
  {
   "cell_type": "code",
   "execution_count": 170,
   "metadata": {
    "collapsed": true
   },
   "outputs": [],
   "source": [
    "# gradient boosting classifier\n",
    "gbc = GradientBoostingClassifier()\n",
    "gbc.fit(X_train, y_train)\n",
    "y_pred = gbc.predict(X_test)"
   ]
  },
  {
   "cell_type": "code",
   "execution_count": 171,
   "metadata": {
    "collapsed": false
   },
   "outputs": [
    {
     "data": {
      "text/plain": [
       "0.77204938271604939"
      ]
     },
     "execution_count": 171,
     "metadata": {},
     "output_type": "execute_result"
    }
   ],
   "source": [
    "gbc.score(X_test, y_test)"
   ]
  },
  {
   "cell_type": "code",
   "execution_count": 172,
   "metadata": {
    "collapsed": false,
    "scrolled": true
   },
   "outputs": [
    {
     "name": "stdout",
     "output_type": "stream",
     "text": [
      "[[ 2869     7     8]\n",
      " [   12 13352  3537]\n",
      " [    7  3353  7230]]\n"
     ]
    },
    {
     "data": {
      "image/png": "[encoded data removed]",
      "text/plain": [
       "<matplotlib.figure.Figure at 0x11db6fb90>"
      ]
     },
     "metadata": {},
     "output_type": "display_data"
    }
   ],
   "source": [
    "plot_confusion_matrix(confusion_matrix(y_test, y_pred))"
   ]
  },
  {
   "cell_type": "markdown",
   "metadata": {},
   "source": [
    "#### Less improvement than leaving formation in, but a fraction of a percent (0.08%) better than the basic model"
   ]
  },
  {
   "cell_type": "markdown",
   "metadata": {},
   "source": [
    "### Throw the kitchen sink at the data and see if any other models show promise"
   ]
  },
  {
   "cell_type": "code",
   "execution_count": 176,
   "metadata": {
    "collapsed": false
   },
   "outputs": [],
   "source": [
    "names = [\"Nearest Neighbors\", \"Linear SVM\", \"RBF SVM\", \"Gaussian Process\",\n",
    "         \"Decision Tree\", \"Random Forest\", \"Neural Net\", \"AdaBoost\",\n",
    "         \"Naive Bayes\", \"QDA\", \"Gradient Boosting\", \"Logistic Regression\"]\n",
    "\n",
    "classifiers = [\n",
    "    KNeighborsClassifier(3),\n",
    "    SVC(kernel=\"linear\", C=0.025),\n",
    "    SVC(gamma=2, C=1),\n",
    "    GaussianProcessClassifier(1.0 * RBF(1.0), warm_start=True),\n",
    "    DecisionTreeClassifier(max_depth=5),\n",
    "    RandomForestClassifier(max_depth=5, n_estimators=10, max_features=1),\n",
    "    MLPClassifier(alpha=1),\n",
    "    AdaBoostClassifier(),\n",
    "    GaussianNB(),\n",
    "    QuadraticDiscriminantAnalysis(),\n",
    "    GradientBoostingClassifier(),\n",
    "    LogisticRegression()]\n"
   ]
  },
  {
   "cell_type": "code",
   "execution_count": 186,
   "metadata": {
    "collapsed": true
   },
   "outputs": [],
   "source": [
    "def get_scores(model, X_train, X_test, y_train, y_test, labels):\n",
    "    model.fit(X_train, y_train)\n",
    "    y_predict = model.predict(X_test)\n",
    "    return model.score(X_test, y_test), \\\n",
    "           precision_score(y_test, y_predict, average='weighted', labels=labels), \\\n",
    "           recall_score(y_test, y_predict, average='weighted', labels=labels)"
   ]
  },
  {
   "cell_type": "code",
   "execution_count": 178,
   "metadata": {
    "collapsed": true
   },
   "outputs": [],
   "source": [
    "# prep the data\n",
    "pbp = prep(pbp_train_raw.copy())\n",
    "\n",
    "# split the class from the values\n",
    "y = pbp['Play']\n",
    "X = pbp.drop(['Play'], axis=1).values\n",
    "\n",
    "# save a test set\n",
    "X_train, X_test, y_train, y_test = train_test_split(X, y, random_state=22)"
   ]
  },
  {
   "cell_type": "code",
   "execution_count": 185,
   "metadata": {
    "collapsed": true
   },
   "outputs": [],
   "source": [
    "labels = gbc_cw.classes_"
   ]
  },
  {
   "cell_type": "code",
   "execution_count": null,
   "metadata": {
    "collapsed": false
   },
   "outputs": [
    {
     "name": "stdout",
     "output_type": "stream",
     "text": [
      "Nearest Neighbors : (0.61359670781893005, 0.61060484521224889, 0.61359670781893005)\n",
      "Linear SVM :"
     ]
    }
   ],
   "source": [
    "# try out each of the classifiers\n",
    "for name, clf in zip(names, classifiers):\n",
    "    print name, \":\", get_scores(clf, X_train, X_test, y_train, y_test, labels)"
   ]
  },
  {
   "cell_type": "code",
   "execution_count": null,
   "metadata": {
    "collapsed": true
   },
   "outputs": [],
   "source": []
  }
 ],
 "metadata": {
  "anaconda-cloud": {},
  "kernelspec": {
   "display_name": "Python [conda root]",
   "language": "python",
   "name": "conda-root-py"
  },
  "language_info": {
   "codemirror_mode": {
    "name": "ipython",
    "version": 2
   },
   "file_extension": ".py",
   "mimetype": "text/x-python",
   "name": "python",
   "nbconvert_exporter": "python",
   "pygments_lexer": "ipython2",
   "version": "2.7.12"
  }
 },
 "nbformat": 4,
 "nbformat_minor": 1
}
