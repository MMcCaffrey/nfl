{
 "cells": [
  {
   "cell_type": "code",
   "execution_count": 17,
   "metadata": {
    "collapsed": true
   },
   "outputs": [],
   "source": [
    "# typical imports\n",
    "import pandas as pd\n",
    "import matplotlib\n",
    "\n",
    "from sklearn.linear_model import LogisticRegression\n",
    "from sklearn.ensemble import RandomForestClassifier\n",
    "from sklearn.ensemble import GradientBoostingClassifier\n",
    "from sklearn.svm import SVC\n",
    "from sklearn.tree import DecisionTreeClassifier\n",
    "from sklearn.neighbors import KNeighborsClassifier\n",
    "from sklearn.cross_validation import train_test_split\n",
    "from sklearn.cross_validation import KFold\n",
    "from sklearn.grid_search import GridSearchCV\n",
    "from sklearn.cross_validation import cross_val_score\n",
    "from sklearn.preprocessing import StandardScaler\n",
    "\n",
    "%matplotlib inline\n",
    "\n"
   ]
  },
  {
   "cell_type": "code",
   "execution_count": 190,
   "metadata": {
    "collapsed": false
   },
   "outputs": [],
   "source": [
    "pbp2015 = pd.read_csv('pbp-2015.csv')\n",
    "pbp2014 = pd.read_csv('pbp-2014.csv')\n",
    "#pbp2013 = pd.read_csv('pbp-2013.csv')"
   ]
  },
  {
   "cell_type": "markdown",
   "metadata": {},
   "source": [
    "- Check descriptions for NaN formations --> They were timeouts or 2-min warnings\n",
    "* We could bin up ToGo 1, 2-5, 6-10, 10-15, 15+\n",
    "- Combine No Huddle with corresponding formations --> There's a straight 'NO HUDDLE' formation, so nothing would be left\n",
    "- Combine IsRush/IsPass with other outcomes (punt, field goal, etc.) and make that the target\n",
    "* Train GBC on it\n",
    "* Bayesian classifier?"
   ]
  },
  {
   "cell_type": "code",
   "execution_count": 191,
   "metadata": {
    "collapsed": false
   },
   "outputs": [
    {
     "name": "stdout",
     "output_type": "stream",
     "text": [
      "GameId [2015091000 2015091300 2015091301 2015091302 2015091303 2015091304\n",
      " 2015091305 2015091306 2015091307 2015091308 2015091309 2015091310\n",
      " 2015091311 2015091312 2015091400 2015091401 2015091700 2015092000\n",
      " 2015092001 2015092002 2015092003 2015092004 2015092005 2015092006\n",
      " 2015092007 2015092008 2015092009 2015092010 2015092011 2015092012\n",
      " 2015092013 2015092100 2015092400 2015092700 2015092701 2015092702\n",
      " 2015092703 2015092704 2015092705 2015092706 2015092707 2015092708\n",
      " 2015092709 2015092710 2015092711 2015092712 2015092713 2015092800\n",
      " 2015100100 2015100400 2015100401 2015100402 2015100403 2015100404\n",
      " 2015100405 2015100406 2015100407 2015100408 2015100409 2015100410\n",
      " 2015100411 2015100412 2015100500 2015100800 2015101100 2015101101\n",
      " 2015101102 2015101103 2015101104 2015101105 2015101106 2015101107\n",
      " 2015101108 2015101109 2015101110 2015101111 2015101200 2015101500\n",
      " 2015101800 2015101801 2015101802 2015101803 2015101804 2015101805\n",
      " 2015101806 2015101807 2015101808 2015101809 2015101810 2015101811\n",
      " 2015101900 2015102200 2015102500 2015102501 2015102502 2015102503\n",
      " 2015102504 2015102505 2015102506 2015102507 2015102508 2015102509\n",
      " 2015102510 2015102511 2015102600 2015102900 2015110100 2015110101\n",
      " 2015110102 2015110103 2015110104 2015110105 2015110106 2015110107\n",
      " 2015110108 2015110109 2015110110 2015110111 2015110200 2015110500\n",
      " 2015110800 2015110801 2015122005 2015110802 2015110803 2015110804\n",
      " 2015110805 2015110806 2015110807 2015110808 2015110809 2015110810\n",
      " 2015110900 2015111200 2015111500 2015111501 2015111502 2015111503\n",
      " 2015111504 2015111505 2015111506 2015111507 2015111508 2015111509\n",
      " 2015111510 2015111511 2015111600 2015111900 2015112200 2015112201\n",
      " 2015112202 2015112203 2015112204 2015112205 2015112206 2015112207\n",
      " 2015112209 2015112210 2015112211 2015112300 2015112600 2015112601\n",
      " 2015112602 2015112900 2015112901 2015112902 2015112903 2015112904\n",
      " 2015112905 2015112906 2015112907 2015112908 2015112909 2015112910\n",
      " 2015112911 2015113000 2015120300 2015120600 2015120601 2015120602\n",
      " 2015120603 2015120604 2015120605 2015120606 2015120607 2015120608\n",
      " 2015120609 2015120610 2015120611 2015120612 2015120613 2015120700\n",
      " 2015121000 2015121300 2015121301 2015121302 2015121303 2015121304\n",
      " 2015122003 2016010304 2015121305 2015122700 2015121306 2015121307\n",
      " 2015121308 2015121309 2015121310 2015121311 2015121312 2015121313\n",
      " 2015121400 2015121700 2015121900 2015122000 2015122001 2015122002\n",
      " 2015122004 2015122006 2015122007 2015122008 2015122009 2015122010\n",
      " 2015122011 2015122012 2015122100 2015122400 2015122600 2015122701\n",
      " 2015122702 2015122703 2015122704 2015122705 2015122706 2015122707\n",
      " 2015122708 2015122709 2015122710 2015122711 2015122712 2015122800\n",
      " 2016010300 2016010301 2016010302 2016010303 2016010305 2016010306\n",
      " 2016010307 2016010308 2016010309 2016010310 2016010311 2016010312\n",
      " 2016010313 2016010314 2016010315 2015112208]\n",
      "GameDate ['2015-09-10' '2015-09-13' '2015-09-14' '2015-09-17' '2015-09-20'\n",
      " '2015-09-21' '2015-09-24' '2015-09-27' '2015-09-28' '2015-10-01'\n",
      " '2015-10-04' '2015-10-05' '2015-10-08' '2015-10-11' '2015-10-12'\n",
      " '2015-10-15' '2015-10-18' '2015-10-19' '2015-10-22' '2015-10-25'\n",
      " '2015-10-26' '2015-10-29' '2015-11-01' '2015-11-02' '2015-11-05'\n",
      " '2015-11-08' '2015-12-20' '2015-11-09' '2015-11-12' '2015-11-15'\n",
      " '2015-11-16' '2015-11-19' '2015-11-22' '2015-11-23' '2015-11-26'\n",
      " '2015-11-29' '2015-11-30' '2015-12-03' '2015-12-06' '2015-12-07'\n",
      " '2015-12-10' '2015-12-13' '2016-01-03' '2015-12-27' '2015-12-14'\n",
      " '2015-12-17' '2015-12-19' '2015-12-21' '2015-12-24' '2015-12-26'\n",
      " '2015-12-28']\n",
      "Quarter [2 3 4 1 5]\n",
      "Minute [ 2  4  0  9 12 14 13  8  7 10  3  1  5  6 15 11]\n",
      "Second [ 0 50 48 13 33 57 24  4 27 20 26 52 49 42 22  2 28 12 41 47 16 39 21 36 11\n",
      "  5 56 30 58 51 43 35 19 53 18  6 15 10 25 54 46 55  7 17 23 29 38  3 14 45\n",
      " 34 31  1 40 32 44 59  9 37  8]\n",
      "OffenseTeam [nan 'WAS' 'BUF' 'CLE' 'NYJ' 'KC' 'NO' 'SD' 'BAL' 'OAK' 'CIN' 'TEN' 'TB'\n",
      " 'DAL' 'NYG' 'ATL' 'PHI' 'SF' 'MIN' 'DEN' 'HOU' 'CAR' 'NE' 'CHI' 'ARI'\n",
      " 'DET' 'PIT' 'JAX' 'MIA' 'SEA' 'GB' 'IND' 'LA']\n",
      "DefenseTeam ['PIT' 'GB' 'SEA' 'CAR' 'MIA' 'IND' 'NYJ' 'CLE' 'KC' 'HOU' 'ARI' 'DET'\n",
      " 'BAL' 'DEN' 'CIN' 'OAK' 'TB' 'TEN' 'NYG' 'DAL' 'PHI' 'ATL' 'MIN' 'SF' 'NE'\n",
      " 'BUF' 'SD' 'LA' 'CHI' 'NO' 'JAX' 'WAS']\n",
      "Down [0 2 1 4 3]\n",
      "ToGo [ 0  2 10 11 20  7 17  1  9  6 15  5  8 14 16 13  3  4 19 12 25 21 27 18 36\n",
      " 22 30 24 28 32 38 31 26 23 29 42 33 34 40]\n",
      "YardLine [ 0 20 24 76 37 68 71 13 28 40 47 35 50 41 43 15 32 93 73 60 16 85 12 23 92\n",
      " 30 25 31 77 26 52 22 62 59 39  9 64 27 97 67 53 42 65 70 90 72 58 48 44 36\n",
      " 54 51 55  8 33 46 63 91 18 94 99 61 78 83 34 29 89 11 81 98 10 17 19 84 49\n",
      " 38  2 75 56 87 45 95 57 66 88  7 79 80 74  4 69  6 14 21 96 82 86  1  5  3]\n",
      "Unnamed: 10 [ nan]\n",
      "SeriesFirstDown [1 0]\n",
      "Unnamed: 12 [ nan]\n",
      "NextScore [0]\n",
      "Description ['TWO-MINUTE WARNING' 'TIMEOUT AT 04:50.' 'END GAME' ...,\n",
      " '(5:00) 4-G.ZUERLEIN 48 YARD FIELD GOAL IS BLOCKED (36-D.JOHNSON), CENTER-44-J.MCQUAIDE, HOLDER-6-J.HEKKER, RECOVERED BY SF-25-J.WARD AT SF 8. 25-J.WARD PUSHED OB AT SF 26 FOR 18 YARDS (46-C.HARKEY).'\n",
      " '(4:14) (SHOTGUN) 2-B.GABBERT PASS SHORT RIGHT TO 11-Q.PATTON TO STL 5 FOR 33 YARDS (97-E.SIMS). CAUGHT AT STL 40.  35-YDS YAC'\n",
      " '(3:31) 9-P.DAWSON 23 YARD FIELD GOAL IS GOOD, CENTER-86-K.NELSON, HOLDER-5-B.PINION.']\n",
      "TeamWin [0]\n",
      "Unnamed: 16 [ nan]\n",
      "Unnamed: 17 [ nan]\n",
      "SeasonYear [2015]\n",
      "Yards [  0   4  22   3  -1  11   8  18   2  -3   7   5   1   9  -2  13  36  23\n",
      "  15  12   6  -8  17  -6  10  41  48  16  19  28  14  20  27 -11  -5  -7\n",
      "  33  -9 -14  -4  21  25  42  45  24  29  31  58  35 -13  49  44  59  68\n",
      "  39  80  76  32 -10  56  37  30  40  38  57  53  26 -15  69 -12  66  67\n",
      "  34 -18  50  74  46  47  84  43  82  71  90 -17  72 101  65  60  52  51\n",
      "  54  63  55  75  64  91  61  62  70  88  85  87  93  78  83 -22 -19  77\n",
      "  99 -16]\n",
      "Formation ['UNDER CENTER' nan 'SHOTGUN' 'PUNT' 'NO HUDDLE SHOTGUN' 'NO HUDDLE'\n",
      " 'FIELD GOAL' 'WILDCAT']\n",
      "PlayType [nan 'RUSH' 'PASS' 'TIMEOUT' 'PUNT' 'QB KNEEL' 'KICK OFF' 'NO PLAY'\n",
      " 'SCRAMBLE' 'FIELD GOAL' 'SACK' 'EXTRA POINT' 'TWO-POINT CONVERSION'\n",
      " 'EXCEPTION' 'FUMBLES' 'CLOCK STOP' 'PENALTY']\n",
      "IsRush [0 1]\n",
      "IsPass [0 1]\n",
      "IsIncomplete [0 1]\n",
      "IsTouchdown [0 1]\n",
      "PassType [nan 'DEEP MIDDLE' 'SHORT LEFT' 'SHORT RIGHT' 'SHORT MIDDLE' 'DEEP LEFT'\n",
      " 'DEEP RIGHT' 'INTENDED FOR' 'RIGHT TO' '(6:44) (SHOTGUN)' 'LEFT TO'\n",
      " 'PASS RULING,' '(13:19) 5-TTAYLOR' 'IN 119' 'INTERCEPTED BY' 'NOT LISTED'\n",
      " '(10:14) 17-PRIVERS' '(10:01) (SHOTGUN)' '[20-C.GRAHAM]. THROWN'\n",
      " 'MIDDLE TO' '[55-S.TULLOCH]. PENALTY' '(:21) 5-TBRIDGEWATER'\n",
      " '[31-M.ALEXANDER]. PENALTY' '(4:54) 2-JMANZIEL' '[58-V.MILLER]. THE']\n",
      "IsSack [0 1]\n",
      "IsChallenge [0 1]\n",
      "IsChallengeReversed [0 1]\n",
      "Challenger [ nan]\n",
      "IsMeasurement [0]\n",
      "IsInterception [0 1]\n",
      "IsFumble [0 1]\n",
      "IsPenalty [0 1]\n",
      "IsTwoPointConversion [0 1]\n",
      "IsTwoPointConversionSuccessful [0 1]\n",
      "RushDirection [nan 'LEFT TACKLE' 'LEFT GUARD' 'CENTER' 'RIGHT GUARD' 'RIGHT END'\n",
      " 'LEFT END' 'RIGHT TACKLE']\n",
      "YardLineFixed [ 0 20 24 37 32 29 13 28 40 47 35 50 41 43 15  7 27 16 12 23  8 30 25 31 26\n",
      " 48 22 38 39  9 36  3 33 42 10 44 46 49 45 18  6  1 17 34 11 19  2  5 21  4\n",
      " 14]\n",
      "YardLineDirection ['OWN' 'OPP']\n",
      "IsPenaltyAccepted [0 1]\n",
      "PenaltyTeam [nan 'NO' 'OAK' 'SF' 'DEN' 'CAR' 'BUF' 'NE' 'SD' 'CIN' 'CHI' 'ARI' 'MIA'\n",
      " 'DAL' 'PHI' 'NYJ' 'IND' 'NYG' 'HOU' 'BAL' 'CLE' 'KC' 'GB' 'ATL' 'STL'\n",
      " 'SEA' 'TB' 'MIN' 'DET' 'PIT' 'TEN' 'WAS' 'JAC']\n",
      "IsNoPlay [0 1]\n",
      "PenaltyType [nan 'OFFENSIVE HOLDING' 'DEFENSIVE HOLDING' 'FALSE START'\n",
      " 'UNNECESSARY ROUGHNESS' 'ILLEGAL USE OF HANDS' 'DEFENSIVE OFFSIDE'\n",
      " 'OFFENSIVE PASS INTERFERENCE' 'DEFENSIVE PASS INTERFERENCE'\n",
      " 'ILLEGAL CONTACT' 'ILLEGAL FORMATION' 'NEUTRAL ZONE INFRACTION'\n",
      " 'DELAY OF GAME' 'TRIPPING' 'UNSPORTSMANLIKE CONDUCT'\n",
      " 'FACE MASK (15 YARDS)' 'ROUGHING THE KICKER' 'DEFENSIVE 12 ON-FIELD'\n",
      " 'RUNNING INTO THE KICKER' 'OFFENSIVE 12 ON-FIELD'\n",
      " 'ILLEGAL BLOCK ABOVE THE WAIST' 'ROUGHING THE PASSER' 'ENCROACHMENT'\n",
      " 'ILLEGAL SHIFT' 'INTENTIONAL GROUNDING' 'ILLEGAL FORWARD PASS'\n",
      " 'ILLEGAL TOUCH PASS' 'FAIR CATCH INTERFERENCE' 'INELIGIBLE DOWNFIELD KICK'\n",
      " 'TAUNTING' 'INELIGIBLE DOWNFIELD PASS' 'ILLEGAL MOTION' 'LEAPING'\n",
      " 'HORSE COLLAR TACKLE' 'OFFSIDE ON FREE KICK' 'CLIPPING'\n",
      " 'ILLEGAL SUBSTITUTION' 'CHOP BLOCK' 'ILLEGAL BLINDSIDE BLOCK'\n",
      " 'OFFENSIVE OFFSIDE' 'PLAYER OUT OF BOUNDS ON PUNT'\n",
      " 'INVALID FAIR CATCH SIGNAL' 'DEFENSIVE DELAY OF GAME' 'ILLEGAL PEELBACK'\n",
      " 'LOW BLOCK' 'ILLEGAL CRACKBACK'\n",
      " 'BUT OFFICIALS HUDDLED AND DID NOT CALL A PENALTY.' 'ILLEGAL TOUCH KICK'\n",
      " 'INTERFERENCE WITH OPPORTUNITY TO CATCH' 'LEVERAGE' 'DISQUALIFICATION'\n",
      " 'YAC 14.  A FLAG WAS THROWN']\n",
      "PenaltyYards [ 0 10  5 15 22 14  7  2 26  3  6 18  8  4 11 12  9 37  1 27 34 13 24 20 47\n",
      " 16 28 23 39 30 42 38 40 17 52 36 29 32 48 21 45 33 44 50 49 31 25 19]\n"
     ]
    }
   ],
   "source": [
    "for column in pbp2015:\n",
    "    print column, pbp2015[column].unique()"
   ]
  },
  {
   "cell_type": "code",
   "execution_count": 192,
   "metadata": {
    "collapsed": false
   },
   "outputs": [],
   "source": [
    "# drop all columns with no info\n",
    "pbp2015.drop(['Unnamed: 10', 'Unnamed: 12','Unnamed: 16', 'Unnamed: 17', 'Challenger'], axis=1, inplace=True)\n",
    "pbp2015.drop(['IsMeasurement', 'NextScore', 'TeamWin'], axis=1, inplace=True)"
   ]
  },
  {
   "cell_type": "code",
   "execution_count": 193,
   "metadata": {
    "collapsed": true
   },
   "outputs": [],
   "source": [
    "# drop all columns we won't use\n",
    "pbp2015.drop(['IsIncomplete', 'IsTouchdown','IsSack', 'IsChallenge', 'IsChallengeReversed'], axis=1, inplace=True)\n",
    "pbp2015.drop(['IsInterception', 'IsPenalty', 'IsTwoPointConversion', 'SeriesFirstDown'], axis=1, inplace=True)\n",
    "pbp2015.drop(['IsTwoPointConversionSuccessful', 'IsPenaltyAccepted', 'PenaltyTeam'], axis=1, inplace=True)\n",
    "pbp2015.drop(['IsFumble', 'PenaltyType', 'PenaltyYards', 'SeasonYear', 'GameId', 'GameDate'], axis=1, inplace=True)"
   ]
  },
  {
   "cell_type": "code",
   "execution_count": 194,
   "metadata": {
    "collapsed": false
   },
   "outputs": [
    {
     "data": {
      "text/plain": [
       "array([nan, 'RUSH', 'PASS', 'TIMEOUT', 'PUNT', 'QB KNEEL', 'KICK OFF',\n",
       "       'NO PLAY', 'SCRAMBLE', 'FIELD GOAL', 'SACK', 'EXTRA POINT',\n",
       "       'TWO-POINT CONVERSION', 'EXCEPTION', 'FUMBLES', 'CLOCK STOP',\n",
       "       'PENALTY'], dtype=object)"
      ]
     },
     "execution_count": 194,
     "metadata": {},
     "output_type": "execute_result"
    }
   ],
   "source": [
    "pbp2015.PlayType.unique()"
   ]
  },
  {
   "cell_type": "code",
   "execution_count": 195,
   "metadata": {
    "collapsed": false
   },
   "outputs": [],
   "source": [
    "# get rid of all the kicks except punts and field goals\n",
    "pbp2015 = pbp2015[(pbp2015.PlayType != 'KICK OFF') & (pbp2015.PlayType != 'EXTRA POINT') & (pbp2015.PlayType != 'TWO-POINT CONVERSION')]\n",
    "\n",
    "# get rid of all the timeout plays\n",
    "pbp2015 = pbp2015[pbp2015.OffenseTeam.notnull()]\n",
    "\n",
    "# get rid of all of the no-plays\n",
    "pbp2015 = pbp2015[(pbp2015.PlayType != 'NO PLAY') & (pbp2015.PlayType != 'EXCEPTION') & (pbp2015.PlayType != 'CLOCK STOP')& (pbp2015.PlayType != 'PENALTY')]\n",
    "\n",
    "# replace the nan PlayTypes with 'DIRECT SNAP' (they are...)\n",
    "pbp2015.PlayType = pbp2015.PlayType.fillna('DIRECT SNAP')"
   ]
  },
  {
   "cell_type": "code",
   "execution_count": 196,
   "metadata": {
    "collapsed": false
   },
   "outputs": [
    {
     "data": {
      "text/plain": [
       "array(['RUSH', 'PASS', 'PUNT', 'QB KNEEL', 'SCRAMBLE', 'FIELD GOAL',\n",
       "       'SACK', 'FUMBLES', 'DIRECT SNAP'], dtype=object)"
      ]
     },
     "execution_count": 196,
     "metadata": {},
     "output_type": "execute_result"
    }
   ],
   "source": [
    "pbp2015.PlayType.unique()"
   ]
  },
  {
   "cell_type": "code",
   "execution_count": 197,
   "metadata": {
    "collapsed": false
   },
   "outputs": [],
   "source": [
    "# drop the existing IsRush/IsPass and create new ones\n",
    "pbp2015.drop(['IsRush', 'IsPass'], axis=1, inplace=True)\n",
    "\n",
    "play_to_rush = {\n",
    "    'RUSH': 1,\n",
    "    'PASS' : 0,\n",
    "    'PUNT' : 0,\n",
    "    'QB KNEEL' : 1,\n",
    "    'SCRAMBLE' : 0,\n",
    "    'FIELD GOAL' : 0,\n",
    "    'SACK' : 0,\n",
    "    'FUMBLES' : 1,\n",
    "    'DIRECT SNAP' : 1\n",
    "}\n",
    "\n",
    "pbp2015['IsRush'] = pbp2015['PlayType'].map(play_to_rush)\n",
    "\n",
    "play_to_pass = {\n",
    "    'RUSH': 0,\n",
    "    'PASS' : 1,\n",
    "    'PUNT' : 0,\n",
    "    'QB KNEEL' : 0,\n",
    "    'SCRAMBLE' : 1,\n",
    "    'FIELD GOAL' : 0,\n",
    "    'SACK' : 1,\n",
    "    'FUMBLES' : 0,\n",
    "    'DIRECT SNAP' : 0\n",
    "}\n",
    "\n",
    "pbp2015['IsPass'] = pbp2015['PlayType'].map(play_to_pass)\n",
    "\n",
    "play_to_kick = {\n",
    "    'RUSH': 0,\n",
    "    'PASS' : 0,\n",
    "    'PUNT' : 1,\n",
    "    'QB KNEEL' : 0,\n",
    "    'SCRAMBLE' : 0,\n",
    "    'FIELD GOAL' : 1,\n",
    "    'SACK' : 0,\n",
    "    'FUMBLES' : 0,\n",
    "    'DIRECT SNAP' : 0\n",
    "}\n",
    "\n",
    "pbp2015['IsKick'] = pbp2015['PlayType'].map(play_to_kick)"
   ]
  },
  {
   "cell_type": "code",
   "execution_count": 198,
   "metadata": {
    "collapsed": false
   },
   "outputs": [
    {
     "name": "stdout",
     "output_type": "stream",
     "text": [
      "<class 'pandas.core.frame.DataFrame'>\n",
      "Int64Index: 38027 entries, 5 to 46276\n",
      "Data columns (total 20 columns):\n",
      "Quarter              38027 non-null int64\n",
      "Minute               38027 non-null int64\n",
      "Second               38027 non-null int64\n",
      "OffenseTeam          38027 non-null object\n",
      "DefenseTeam          38027 non-null object\n",
      "Down                 38027 non-null int64\n",
      "ToGo                 38027 non-null int64\n",
      "YardLine             38027 non-null int64\n",
      "Description          38027 non-null object\n",
      "Yards                38027 non-null int64\n",
      "Formation            38027 non-null object\n",
      "PlayType             38027 non-null object\n",
      "PassType             19351 non-null object\n",
      "RushDirection        12543 non-null object\n",
      "YardLineFixed        38027 non-null int64\n",
      "YardLineDirection    38027 non-null object\n",
      "IsNoPlay             38027 non-null int64\n",
      "IsRush               38027 non-null int64\n",
      "IsPass               38027 non-null int64\n",
      "IsKick               38027 non-null int64\n",
      "dtypes: int64(12), object(8)\n",
      "memory usage: 6.1+ MB\n"
     ]
    }
   ],
   "source": [
    "pbp2015.info()"
   ]
  },
  {
   "cell_type": "code",
   "execution_count": 199,
   "metadata": {
    "collapsed": false
   },
   "outputs": [
    {
     "data": {
      "text/plain": [
       "(38027, 20)"
      ]
     },
     "execution_count": 199,
     "metadata": {},
     "output_type": "execute_result"
    }
   ],
   "source": [
    "pbp2015.shape"
   ]
  },
  {
   "cell_type": "code",
   "execution_count": null,
   "metadata": {
    "collapsed": true
   },
   "outputs": [],
   "source": []
  }
 ],
 "metadata": {
  "anaconda-cloud": {},
  "kernelspec": {
   "display_name": "Python [conda root]",
   "language": "python",
   "name": "conda-root-py"
  },
  "language_info": {
   "codemirror_mode": {
    "name": "ipython",
    "version": 2
   },
   "file_extension": ".py",
   "mimetype": "text/x-python",
   "name": "python",
   "nbconvert_exporter": "python",
   "pygments_lexer": "ipython2",
   "version": "2.7.12"
  }
 },
 "nbformat": 4,
 "nbformat_minor": 1
}
