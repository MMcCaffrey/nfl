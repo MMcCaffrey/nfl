{
 "cells": [
  {
   "cell_type": "markdown",
   "metadata": {},
   "source": [
    "## To Do:\n",
    "#### Adding the current score of the game would be useful (more aggressive when losing, especially when time runs low)\n",
    "#### Use the whole dataset to train a model to use as a prior probability to each team model.  How do we stack?  Pr(NE pass ! Conv wisdom pass)\n",
    "#### Add rush L/R and pass SHORT/DEEP back in as classes"
   ]
  },
  {
   "cell_type": "code",
   "execution_count": 145,
   "metadata": {
    "collapsed": false
   },
   "outputs": [],
   "source": [
    "# typical imports\n",
    "import pandas as pd\n",
    "import numpy as np\n",
    "import matplotlib\n",
    "\n",
    "import random \n",
    "\n",
    "from sklearn.linear_model import LogisticRegression\n",
    "from sklearn.ensemble import RandomForestClassifier\n",
    "from sklearn.ensemble import GradientBoostingClassifier\n",
    "from sklearn.svm import SVC\n",
    "from sklearn.tree import DecisionTreeClassifier\n",
    "from sklearn.neighbors import KNeighborsClassifier\n",
    "from sklearn.model_selection import train_test_split\n",
    "from sklearn.model_selection import KFold\n",
    "from sklearn.grid_search import GridSearchCV\n",
    "from sklearn.cross_validation import cross_val_score\n",
    "from sklearn.preprocessing import StandardScaler\n",
    "from sklearn.metrics import confusion_matrix\n",
    "\n",
    "%matplotlib inline"
   ]
  },
  {
   "cell_type": "code",
   "execution_count": 156,
   "metadata": {
    "collapsed": false
   },
   "outputs": [
    {
     "ename": "CParserError",
     "evalue": "Error tokenizing data. C error: Expected 45 fields in line 2331, saw 48\n",
     "output_type": "error",
     "traceback": [
      "\u001b[0;31m---------------------------------------------------------------------------\u001b[0m",
      "\u001b[0;31mCParserError\u001b[0m                              Traceback (most recent call last)",
      "\u001b[0;32m<ipython-input-156-3a8c86b32789>\u001b[0m in \u001b[0;36m<module>\u001b[0;34m()\u001b[0m\n\u001b[1;32m      1\u001b[0m \u001b[0;31m#pbp2015 = pd.read_csv('data/pbp-2015.csv')\u001b[0m\u001b[0;34m\u001b[0m\u001b[0;34m\u001b[0m\u001b[0m\n\u001b[1;32m      2\u001b[0m \u001b[0;31m#pbp2014 = pd.read_csv('data/pbp-2014.csv')\u001b[0m\u001b[0;34m\u001b[0m\u001b[0;34m\u001b[0m\u001b[0m\n\u001b[0;32m----> 3\u001b[0;31m \u001b[0mpbp2013\u001b[0m \u001b[0;34m=\u001b[0m \u001b[0mpd\u001b[0m\u001b[0;34m.\u001b[0m\u001b[0mread_csv\u001b[0m\u001b[0;34m(\u001b[0m\u001b[0;34m'data/pbp-2013.csv'\u001b[0m\u001b[0;34m)\u001b[0m\u001b[0;34m\u001b[0m\u001b[0m\n\u001b[0m",
      "\u001b[0;32m/Users/zgreyn/.local/lib/python2.7/site-packages/pandas/io/parsers.pyc\u001b[0m in \u001b[0;36mparser_f\u001b[0;34m(filepath_or_buffer, sep, delimiter, header, names, index_col, usecols, squeeze, prefix, mangle_dupe_cols, dtype, engine, converters, true_values, false_values, skipinitialspace, skiprows, nrows, na_values, keep_default_na, na_filter, verbose, skip_blank_lines, parse_dates, infer_datetime_format, keep_date_col, date_parser, dayfirst, iterator, chunksize, compression, thousands, decimal, lineterminator, quotechar, quoting, escapechar, comment, encoding, dialect, tupleize_cols, error_bad_lines, warn_bad_lines, skipfooter, skip_footer, doublequote, delim_whitespace, as_recarray, compact_ints, use_unsigned, low_memory, buffer_lines, memory_map, float_precision)\u001b[0m\n\u001b[1;32m    643\u001b[0m                     skip_blank_lines=skip_blank_lines)\n\u001b[1;32m    644\u001b[0m \u001b[0;34m\u001b[0m\u001b[0m\n\u001b[0;32m--> 645\u001b[0;31m         \u001b[0;32mreturn\u001b[0m \u001b[0m_read\u001b[0m\u001b[0;34m(\u001b[0m\u001b[0mfilepath_or_buffer\u001b[0m\u001b[0;34m,\u001b[0m \u001b[0mkwds\u001b[0m\u001b[0;34m)\u001b[0m\u001b[0;34m\u001b[0m\u001b[0m\n\u001b[0m\u001b[1;32m    646\u001b[0m \u001b[0;34m\u001b[0m\u001b[0m\n\u001b[1;32m    647\u001b[0m     \u001b[0mparser_f\u001b[0m\u001b[0;34m.\u001b[0m\u001b[0m__name__\u001b[0m \u001b[0;34m=\u001b[0m \u001b[0mname\u001b[0m\u001b[0;34m\u001b[0m\u001b[0m\n",
      "\u001b[0;32m/Users/zgreyn/.local/lib/python2.7/site-packages/pandas/io/parsers.pyc\u001b[0m in \u001b[0;36m_read\u001b[0;34m(filepath_or_buffer, kwds)\u001b[0m\n\u001b[1;32m    398\u001b[0m         \u001b[0;32mreturn\u001b[0m \u001b[0mparser\u001b[0m\u001b[0;34m\u001b[0m\u001b[0m\n\u001b[1;32m    399\u001b[0m \u001b[0;34m\u001b[0m\u001b[0m\n\u001b[0;32m--> 400\u001b[0;31m     \u001b[0mdata\u001b[0m \u001b[0;34m=\u001b[0m \u001b[0mparser\u001b[0m\u001b[0;34m.\u001b[0m\u001b[0mread\u001b[0m\u001b[0;34m(\u001b[0m\u001b[0;34m)\u001b[0m\u001b[0;34m\u001b[0m\u001b[0m\n\u001b[0m\u001b[1;32m    401\u001b[0m     \u001b[0mparser\u001b[0m\u001b[0;34m.\u001b[0m\u001b[0mclose\u001b[0m\u001b[0;34m(\u001b[0m\u001b[0;34m)\u001b[0m\u001b[0;34m\u001b[0m\u001b[0m\n\u001b[1;32m    402\u001b[0m     \u001b[0;32mreturn\u001b[0m \u001b[0mdata\u001b[0m\u001b[0;34m\u001b[0m\u001b[0m\n",
      "\u001b[0;32m/Users/zgreyn/.local/lib/python2.7/site-packages/pandas/io/parsers.pyc\u001b[0m in \u001b[0;36mread\u001b[0;34m(self, nrows)\u001b[0m\n\u001b[1;32m    936\u001b[0m                 \u001b[0;32mraise\u001b[0m \u001b[0mValueError\u001b[0m\u001b[0;34m(\u001b[0m\u001b[0;34m'skipfooter not supported for iteration'\u001b[0m\u001b[0;34m)\u001b[0m\u001b[0;34m\u001b[0m\u001b[0m\n\u001b[1;32m    937\u001b[0m \u001b[0;34m\u001b[0m\u001b[0m\n\u001b[0;32m--> 938\u001b[0;31m         \u001b[0mret\u001b[0m \u001b[0;34m=\u001b[0m \u001b[0mself\u001b[0m\u001b[0;34m.\u001b[0m\u001b[0m_engine\u001b[0m\u001b[0;34m.\u001b[0m\u001b[0mread\u001b[0m\u001b[0;34m(\u001b[0m\u001b[0mnrows\u001b[0m\u001b[0;34m)\u001b[0m\u001b[0;34m\u001b[0m\u001b[0m\n\u001b[0m\u001b[1;32m    939\u001b[0m \u001b[0;34m\u001b[0m\u001b[0m\n\u001b[1;32m    940\u001b[0m         \u001b[0;32mif\u001b[0m \u001b[0mself\u001b[0m\u001b[0;34m.\u001b[0m\u001b[0moptions\u001b[0m\u001b[0;34m.\u001b[0m\u001b[0mget\u001b[0m\u001b[0;34m(\u001b[0m\u001b[0;34m'as_recarray'\u001b[0m\u001b[0;34m)\u001b[0m\u001b[0;34m:\u001b[0m\u001b[0;34m\u001b[0m\u001b[0m\n",
      "\u001b[0;32m/Users/zgreyn/.local/lib/python2.7/site-packages/pandas/io/parsers.pyc\u001b[0m in \u001b[0;36mread\u001b[0;34m(self, nrows)\u001b[0m\n\u001b[1;32m   1503\u001b[0m     \u001b[0;32mdef\u001b[0m \u001b[0mread\u001b[0m\u001b[0;34m(\u001b[0m\u001b[0mself\u001b[0m\u001b[0;34m,\u001b[0m \u001b[0mnrows\u001b[0m\u001b[0;34m=\u001b[0m\u001b[0mNone\u001b[0m\u001b[0;34m)\u001b[0m\u001b[0;34m:\u001b[0m\u001b[0;34m\u001b[0m\u001b[0m\n\u001b[1;32m   1504\u001b[0m         \u001b[0;32mtry\u001b[0m\u001b[0;34m:\u001b[0m\u001b[0;34m\u001b[0m\u001b[0m\n\u001b[0;32m-> 1505\u001b[0;31m             \u001b[0mdata\u001b[0m \u001b[0;34m=\u001b[0m \u001b[0mself\u001b[0m\u001b[0;34m.\u001b[0m\u001b[0m_reader\u001b[0m\u001b[0;34m.\u001b[0m\u001b[0mread\u001b[0m\u001b[0;34m(\u001b[0m\u001b[0mnrows\u001b[0m\u001b[0;34m)\u001b[0m\u001b[0;34m\u001b[0m\u001b[0m\n\u001b[0m\u001b[1;32m   1506\u001b[0m         \u001b[0;32mexcept\u001b[0m \u001b[0mStopIteration\u001b[0m\u001b[0;34m:\u001b[0m\u001b[0;34m\u001b[0m\u001b[0m\n\u001b[1;32m   1507\u001b[0m             \u001b[0;32mif\u001b[0m \u001b[0mself\u001b[0m\u001b[0;34m.\u001b[0m\u001b[0m_first_chunk\u001b[0m\u001b[0;34m:\u001b[0m\u001b[0;34m\u001b[0m\u001b[0m\n",
      "\u001b[0;32mpandas/parser.pyx\u001b[0m in \u001b[0;36mpandas.parser.TextReader.read (pandas/parser.c:9884)\u001b[0;34m()\u001b[0m\n",
      "\u001b[0;32mpandas/parser.pyx\u001b[0m in \u001b[0;36mpandas.parser.TextReader._read_low_memory (pandas/parser.c:10142)\u001b[0;34m()\u001b[0m\n",
      "\u001b[0;32mpandas/parser.pyx\u001b[0m in \u001b[0;36mpandas.parser.TextReader._read_rows (pandas/parser.c:10870)\u001b[0;34m()\u001b[0m\n",
      "\u001b[0;32mpandas/parser.pyx\u001b[0m in \u001b[0;36mpandas.parser.TextReader._tokenize_rows (pandas/parser.c:10741)\u001b[0;34m()\u001b[0m\n",
      "\u001b[0;32mpandas/parser.pyx\u001b[0m in \u001b[0;36mpandas.parser.raise_parser_error (pandas/parser.c:25878)\u001b[0;34m()\u001b[0m\n",
      "\u001b[0;31mCParserError\u001b[0m: Error tokenizing data. C error: Expected 45 fields in line 2331, saw 48\n"
     ]
    }
   ],
   "source": [
    "#pbp2015 = pd.read_csv('data/pbp-2015.csv')\n",
    "#pbp2014 = pd.read_csv('data/pbp-2014.csv')\n",
    "pbp2013 = pd.read_csv('data/pbp-2013.csv')"
   ]
  },
  {
   "cell_type": "markdown",
   "metadata": {},
   "source": [
    "- Check descriptions for NaN formations --> They were timeouts or 2-min warnings\n",
    "* We could bin up ToGo 1, 2-5, 6-10, 10-15, 15+\n",
    "- Combine No Huddle with corresponding formations --> There's a straight 'NO HUDDLE' formation, so nothing would be left\n",
    "- Combine IsRush/IsPass with other outcomes (punt, field goal, etc.) and make that the target\n",
    "* Train GBC on it\n",
    "* Bayesian classifier?"
   ]
  },
  {
   "cell_type": "markdown",
   "metadata": {},
   "source": [
    "## EDA and Cleaning"
   ]
  },
  {
   "cell_type": "code",
   "execution_count": 99,
   "metadata": {
    "collapsed": false,
    "scrolled": true
   },
   "outputs": [
    {
     "name": "stdout",
     "output_type": "stream",
     "text": [
      "GameId [2015091000 2015091300 2015091301 2015091302 2015091303 2015091304\n",
      " 2015091305 2015091306 2015091307 2015091308 2015091309 2015091310\n",
      " 2015091311 2015091312 2015091400 2015091401 2015091700 2015092000\n",
      " 2015092001 2015092002 2015092003 2015092004 2015092005 2015092006\n",
      " 2015092007 2015092008 2015092009 2015092010 2015092011 2015092012\n",
      " 2015092013 2015092100 2015092400 2015092700 2015092701 2015092702\n",
      " 2015092703 2015092704 2015092705 2015092706 2015092707 2015092708\n",
      " 2015092709 2015092710 2015092711 2015092712 2015092713 2015092800\n",
      " 2015100100 2015100400 2015100401 2015100402 2015100403 2015100404\n",
      " 2015100405 2015100406 2015100407 2015100408 2015100409 2015100410\n",
      " 2015100411 2015100412 2015100500 2015100800 2015101100 2015101101\n",
      " 2015101102 2015101103 2015101104 2015101105 2015101106 2015101107\n",
      " 2015101108 2015101109 2015101110 2015101111 2015101200 2015101500\n",
      " 2015101800 2015101801 2015101802 2015101803 2015101804 2015101805\n",
      " 2015101806 2015101807 2015101808 2015101809 2015101810 2015101811\n",
      " 2015101900 2015102200 2015102500 2015102501 2015102502 2015102503\n",
      " 2015102504 2015102505 2015102506 2015102507 2015102508 2015102509\n",
      " 2015102510 2015102511 2015102600 2015102900 2015110100 2015110101\n",
      " 2015110102 2015110103 2015110104 2015110105 2015110106 2015110107\n",
      " 2015110108 2015110109 2015110110 2015110111 2015110200 2015110500\n",
      " 2015110800 2015110801 2015122005 2015110802 2015110803 2015110804\n",
      " 2015110805 2015110806 2015110807 2015110808 2015110809 2015110810\n",
      " 2015110900 2015111200 2015111500 2015111501 2015111502 2015111503\n",
      " 2015111504 2015111505 2015111506 2015111507 2015111508 2015111509\n",
      " 2015111510 2015111511 2015111600 2015111900 2015112200 2015112201\n",
      " 2015112202 2015112203 2015112204 2015112205 2015112206 2015112207\n",
      " 2015112209 2015112210 2015112211 2015112300 2015112600 2015112601\n",
      " 2015112602 2015112900 2015112901 2015112902 2015112903 2015112904\n",
      " 2015112905 2015112906 2015112907 2015112908 2015112909 2015112910\n",
      " 2015112911 2015113000 2015120300 2015120600 2015120601 2015120602\n",
      " 2015120603 2015120604 2015120605 2015120606 2015120607 2015120608\n",
      " 2015120609 2015120610 2015120611 2015120612 2015120613 2015120700\n",
      " 2015121000 2015121300 2015121301 2015121302 2015121303 2015121304\n",
      " 2015122003 2016010304 2015121305 2015122700 2015121306 2015121307\n",
      " 2015121308 2015121309 2015121310 2015121311 2015121312 2015121313\n",
      " 2015121400 2015121700 2015121900 2015122000 2015122001 2015122002\n",
      " 2015122004 2015122006 2015122007 2015122008 2015122009 2015122010\n",
      " 2015122011 2015122012 2015122100 2015122400 2015122600 2015122701\n",
      " 2015122702 2015122703 2015122704 2015122705 2015122706 2015122707\n",
      " 2015122708 2015122709 2015122710 2015122711 2015122712 2015122800\n",
      " 2016010300 2016010301 2016010302 2016010303 2016010305 2016010306\n",
      " 2016010307 2016010308 2016010309 2016010310 2016010311 2016010312\n",
      " 2016010313 2016010314 2016010315 2015112208]\n",
      "GameDate ['2015-09-10' '2015-09-13' '2015-09-14' '2015-09-17' '2015-09-20'\n",
      " '2015-09-21' '2015-09-24' '2015-09-27' '2015-09-28' '2015-10-01'\n",
      " '2015-10-04' '2015-10-05' '2015-10-08' '2015-10-11' '2015-10-12'\n",
      " '2015-10-15' '2015-10-18' '2015-10-19' '2015-10-22' '2015-10-25'\n",
      " '2015-10-26' '2015-10-29' '2015-11-01' '2015-11-02' '2015-11-05'\n",
      " '2015-11-08' '2015-12-20' '2015-11-09' '2015-11-12' '2015-11-15'\n",
      " '2015-11-16' '2015-11-19' '2015-11-22' '2015-11-23' '2015-11-26'\n",
      " '2015-11-29' '2015-11-30' '2015-12-03' '2015-12-06' '2015-12-07'\n",
      " '2015-12-10' '2015-12-13' '2016-01-03' '2015-12-27' '2015-12-14'\n",
      " '2015-12-17' '2015-12-19' '2015-12-21' '2015-12-24' '2015-12-26'\n",
      " '2015-12-28']\n",
      "Quarter [2 3 4 1 5]\n",
      "Minute [ 2  4  0  9 12 14 13  8  7 10  3  1  5  6 15 11]\n",
      "Second [ 0 50 48 13 33 57 24  4 27 20 26 52 49 42 22  2 28 12 41 47 16 39 21 36 11\n",
      "  5 56 30 58 51 43 35 19 53 18  6 15 10 25 54 46 55  7 17 23 29 38  3 14 45\n",
      " 34 31  1 40 32 44 59  9 37  8]\n",
      "OffenseTeam [nan 'WAS' 'BUF' 'CLE' 'NYJ' 'KC' 'NO' 'SD' 'BAL' 'OAK' 'CIN' 'TEN' 'TB'\n",
      " 'DAL' 'NYG' 'ATL' 'PHI' 'SF' 'MIN' 'DEN' 'HOU' 'CAR' 'NE' 'CHI' 'ARI'\n",
      " 'DET' 'PIT' 'JAX' 'MIA' 'SEA' 'GB' 'IND' 'LA']\n",
      "DefenseTeam ['PIT' 'GB' 'SEA' 'CAR' 'MIA' 'IND' 'NYJ' 'CLE' 'KC' 'HOU' 'ARI' 'DET'\n",
      " 'BAL' 'DEN' 'CIN' 'OAK' 'TB' 'TEN' 'NYG' 'DAL' 'PHI' 'ATL' 'MIN' 'SF' 'NE'\n",
      " 'BUF' 'SD' 'LA' 'CHI' 'NO' 'JAX' 'WAS']\n",
      "Down [0 2 1 4 3]\n",
      "ToGo [ 0  2 10 11 20  7 17  1  9  6 15  5  8 14 16 13  3  4 19 12 25 21 27 18 36\n",
      " 22 30 24 28 32 38 31 26 23 29 42 33 34 40]\n",
      "YardLine [ 0 20 24 76 37 68 71 13 28 40 47 35 50 41 43 15 32 93 73 60 16 85 12 23 92\n",
      " 30 25 31 77 26 52 22 62 59 39  9 64 27 97 67 53 42 65 70 90 72 58 48 44 36\n",
      " 54 51 55  8 33 46 63 91 18 94 99 61 78 83 34 29 89 11 81 98 10 17 19 84 49\n",
      " 38  2 75 56 87 45 95 57 66 88  7 79 80 74  4 69  6 14 21 96 82 86  1  5  3]\n",
      "Unnamed: 10 [ nan]\n",
      "SeriesFirstDown [1 0]\n",
      "Unnamed: 12 [ nan]\n",
      "NextScore [0]\n",
      "Description ['TWO-MINUTE WARNING' 'TIMEOUT AT 04:50.' 'END GAME' ...,\n",
      " '(5:00) 4-G.ZUERLEIN 48 YARD FIELD GOAL IS BLOCKED (36-D.JOHNSON), CENTER-44-J.MCQUAIDE, HOLDER-6-J.HEKKER, RECOVERED BY SF-25-J.WARD AT SF 8. 25-J.WARD PUSHED OB AT SF 26 FOR 18 YARDS (46-C.HARKEY).'\n",
      " '(4:14) (SHOTGUN) 2-B.GABBERT PASS SHORT RIGHT TO 11-Q.PATTON TO STL 5 FOR 33 YARDS (97-E.SIMS). CAUGHT AT STL 40.  35-YDS YAC'\n",
      " '(3:31) 9-P.DAWSON 23 YARD FIELD GOAL IS GOOD, CENTER-86-K.NELSON, HOLDER-5-B.PINION.']\n",
      "TeamWin [0]\n",
      "Unnamed: 16 [ nan]\n",
      "Unnamed: 17 [ nan]\n",
      "SeasonYear [2015]\n",
      "Yards [  0   4  22   3  -1  11   8  18   2  -3   7   5   1   9  -2  13  36  23\n",
      "  15  12   6  -8  17  -6  10  41  48  16  19  28  14  20  27 -11  -5  -7\n",
      "  33  -9 -14  -4  21  25  42  45  24  29  31  58  35 -13  49  44  59  68\n",
      "  39  80  76  32 -10  56  37  30  40  38  57  53  26 -15  69 -12  66  67\n",
      "  34 -18  50  74  46  47  84  43  82  71  90 -17  72 101  65  60  52  51\n",
      "  54  63  55  75  64  91  61  62  70  88  85  87  93  78  83 -22 -19  77\n",
      "  99 -16]\n",
      "Formation ['UNDER CENTER' nan 'SHOTGUN' 'PUNT' 'NO HUDDLE SHOTGUN' 'NO HUDDLE'\n",
      " 'FIELD GOAL' 'WILDCAT']\n",
      "PlayType [nan 'RUSH' 'PASS' 'TIMEOUT' 'PUNT' 'QB KNEEL' 'KICK OFF' 'NO PLAY'\n",
      " 'SCRAMBLE' 'FIELD GOAL' 'SACK' 'EXTRA POINT' 'TWO-POINT CONVERSION'\n",
      " 'EXCEPTION' 'FUMBLES' 'CLOCK STOP' 'PENALTY']\n",
      "IsRush [0 1]\n",
      "IsPass [0 1]\n",
      "IsIncomplete [0 1]\n",
      "IsTouchdown [0 1]\n",
      "PassType [nan 'DEEP MIDDLE' 'SHORT LEFT' 'SHORT RIGHT' 'SHORT MIDDLE' 'DEEP LEFT'\n",
      " 'DEEP RIGHT' 'INTENDED FOR' 'RIGHT TO' '(6:44) (SHOTGUN)' 'LEFT TO'\n",
      " 'PASS RULING,' '(13:19) 5-TTAYLOR' 'IN 119' 'INTERCEPTED BY' 'NOT LISTED'\n",
      " '(10:14) 17-PRIVERS' '(10:01) (SHOTGUN)' '[20-C.GRAHAM]. THROWN'\n",
      " 'MIDDLE TO' '[55-S.TULLOCH]. PENALTY' '(:21) 5-TBRIDGEWATER'\n",
      " '[31-M.ALEXANDER]. PENALTY' '(4:54) 2-JMANZIEL' '[58-V.MILLER]. THE']\n",
      "IsSack [0 1]\n",
      "IsChallenge [0 1]\n",
      "IsChallengeReversed [0 1]\n",
      "Challenger [ nan]\n",
      "IsMeasurement [0]\n",
      "IsInterception [0 1]\n",
      "IsFumble [0 1]\n",
      "IsPenalty [0 1]\n",
      "IsTwoPointConversion [0 1]\n",
      "IsTwoPointConversionSuccessful [0 1]\n",
      "RushDirection [nan 'LEFT TACKLE' 'LEFT GUARD' 'CENTER' 'RIGHT GUARD' 'RIGHT END'\n",
      " 'LEFT END' 'RIGHT TACKLE']\n",
      "YardLineFixed [ 0 20 24 37 32 29 13 28 40 47 35 50 41 43 15  7 27 16 12 23  8 30 25 31 26\n",
      " 48 22 38 39  9 36  3 33 42 10 44 46 49 45 18  6  1 17 34 11 19  2  5 21  4\n",
      " 14]\n",
      "YardLineDirection ['OWN' 'OPP']\n",
      "IsPenaltyAccepted [0 1]\n",
      "PenaltyTeam [nan 'NO' 'OAK' 'SF' 'DEN' 'CAR' 'BUF' 'NE' 'SD' 'CIN' 'CHI' 'ARI' 'MIA'\n",
      " 'DAL' 'PHI' 'NYJ' 'IND' 'NYG' 'HOU' 'BAL' 'CLE' 'KC' 'GB' 'ATL' 'STL'\n",
      " 'SEA' 'TB' 'MIN' 'DET' 'PIT' 'TEN' 'WAS' 'JAC']\n",
      "IsNoPlay [0 1]\n",
      "PenaltyType [nan 'OFFENSIVE HOLDING' 'DEFENSIVE HOLDING' 'FALSE START'\n",
      " 'UNNECESSARY ROUGHNESS' 'ILLEGAL USE OF HANDS' 'DEFENSIVE OFFSIDE'\n",
      " 'OFFENSIVE PASS INTERFERENCE' 'DEFENSIVE PASS INTERFERENCE'\n",
      " 'ILLEGAL CONTACT' 'ILLEGAL FORMATION' 'NEUTRAL ZONE INFRACTION'\n",
      " 'DELAY OF GAME' 'TRIPPING' 'UNSPORTSMANLIKE CONDUCT'\n",
      " 'FACE MASK (15 YARDS)' 'ROUGHING THE KICKER' 'DEFENSIVE 12 ON-FIELD'\n",
      " 'RUNNING INTO THE KICKER' 'OFFENSIVE 12 ON-FIELD'\n",
      " 'ILLEGAL BLOCK ABOVE THE WAIST' 'ROUGHING THE PASSER' 'ENCROACHMENT'\n",
      " 'ILLEGAL SHIFT' 'INTENTIONAL GROUNDING' 'ILLEGAL FORWARD PASS'\n",
      " 'ILLEGAL TOUCH PASS' 'FAIR CATCH INTERFERENCE' 'INELIGIBLE DOWNFIELD KICK'\n",
      " 'TAUNTING' 'INELIGIBLE DOWNFIELD PASS' 'ILLEGAL MOTION' 'LEAPING'\n",
      " 'HORSE COLLAR TACKLE' 'OFFSIDE ON FREE KICK' 'CLIPPING'\n",
      " 'ILLEGAL SUBSTITUTION' 'CHOP BLOCK' 'ILLEGAL BLINDSIDE BLOCK'\n",
      " 'OFFENSIVE OFFSIDE' 'PLAYER OUT OF BOUNDS ON PUNT'\n",
      " 'INVALID FAIR CATCH SIGNAL' 'DEFENSIVE DELAY OF GAME' 'ILLEGAL PEELBACK'\n",
      " 'LOW BLOCK' 'ILLEGAL CRACKBACK'\n",
      " 'BUT OFFICIALS HUDDLED AND DID NOT CALL A PENALTY.' 'ILLEGAL TOUCH KICK'\n",
      " 'INTERFERENCE WITH OPPORTUNITY TO CATCH' 'LEVERAGE' 'DISQUALIFICATION'\n",
      " 'YAC 14.  A FLAG WAS THROWN']\n",
      "PenaltyYards [ 0 10  5 15 22 14  7  2 26  3  6 18  8  4 11 12  9 37  1 27 34 13 24 20 47\n",
      " 16 28 23 39 30 42 38 40 17 52 36 29 32 48 21 45 33 44 50 49 31 25 19]\n"
     ]
    }
   ],
   "source": [
    "for column in pbp2015:\n",
    "    print column, pbp2015[column].unique()"
   ]
  },
  {
   "cell_type": "code",
   "execution_count": 100,
   "metadata": {
    "collapsed": false
   },
   "outputs": [],
   "source": [
    "# drop all columns with no info\n",
    "pbp2015.drop(['Unnamed: 10', 'Unnamed: 12','Unnamed: 16', 'Unnamed: 17', 'Challenger'], axis=1, inplace=True)\n",
    "pbp2015.drop(['IsMeasurement', 'NextScore', 'TeamWin'], axis=1, inplace=True)"
   ]
  },
  {
   "cell_type": "code",
   "execution_count": 101,
   "metadata": {
    "collapsed": false
   },
   "outputs": [],
   "source": [
    "# drop all columns we won't use\n",
    "pbp2015.drop(['IsIncomplete', 'IsTouchdown','IsSack', 'IsChallenge', 'IsChallengeReversed'], axis=1, inplace=True)\n",
    "pbp2015.drop(['IsInterception', 'IsPenalty', 'IsTwoPointConversion', 'SeriesFirstDown'], axis=1, inplace=True)\n",
    "pbp2015.drop(['IsTwoPointConversionSuccessful', 'IsPenaltyAccepted', 'PenaltyTeam'], axis=1, inplace=True)\n",
    "pbp2015.drop(['IsFumble', 'PenaltyType', 'PenaltyYards', 'SeasonYear', 'GameId', 'GameDate'], axis=1, inplace=True)\n",
    "pbp2015.drop(['IsNoPlay'], axis=1, inplace=True)"
   ]
  },
  {
   "cell_type": "code",
   "execution_count": 102,
   "metadata": {
    "collapsed": false
   },
   "outputs": [
    {
     "data": {
      "text/plain": [
       "array([nan, 'RUSH', 'PASS', 'TIMEOUT', 'PUNT', 'QB KNEEL', 'KICK OFF',\n",
       "       'NO PLAY', 'SCRAMBLE', 'FIELD GOAL', 'SACK', 'EXTRA POINT',\n",
       "       'TWO-POINT CONVERSION', 'EXCEPTION', 'FUMBLES', 'CLOCK STOP',\n",
       "       'PENALTY'], dtype=object)"
      ]
     },
     "execution_count": 102,
     "metadata": {},
     "output_type": "execute_result"
    }
   ],
   "source": [
    "pbp2015.PlayType.unique()"
   ]
  },
  {
   "cell_type": "code",
   "execution_count": 103,
   "metadata": {
    "collapsed": false
   },
   "outputs": [
    {
     "data": {
      "text/plain": [
       "array([nan, 'DEEP MIDDLE', 'SHORT LEFT', 'SHORT RIGHT', 'SHORT MIDDLE',\n",
       "       'DEEP LEFT', 'DEEP RIGHT', 'INTENDED FOR', 'RIGHT TO',\n",
       "       '(6:44) (SHOTGUN)', 'LEFT TO', 'PASS RULING,', '(13:19) 5-TTAYLOR',\n",
       "       'IN 119', 'INTERCEPTED BY', 'NOT LISTED', '(10:14) 17-PRIVERS',\n",
       "       '(10:01) (SHOTGUN)', '[20-C.GRAHAM]. THROWN', 'MIDDLE TO',\n",
       "       '[55-S.TULLOCH]. PENALTY', '(:21) 5-TBRIDGEWATER',\n",
       "       '[31-M.ALEXANDER]. PENALTY', '(4:54) 2-JMANZIEL',\n",
       "       '[58-V.MILLER]. THE'], dtype=object)"
      ]
     },
     "execution_count": 103,
     "metadata": {},
     "output_type": "execute_result"
    }
   ],
   "source": [
    "pbp2015.PassType.unique()"
   ]
  },
  {
   "cell_type": "code",
   "execution_count": 104,
   "metadata": {
    "collapsed": false
   },
   "outputs": [],
   "source": [
    "# get rid of all the kicks except punts and field goals\n",
    "pbp2015 = pbp2015[(pbp2015.PlayType != 'KICK OFF') & (pbp2015.PlayType != 'EXTRA POINT') & (pbp2015.PlayType != 'TWO-POINT CONVERSION')]\n",
    "\n",
    "# get rid of all the timeout plays\n",
    "pbp2015 = pbp2015[pbp2015.OffenseTeam.notnull()]\n",
    "\n",
    "# get rid of all of the no-plays\n",
    "pbp2015 = pbp2015[(pbp2015.PlayType != 'NO PLAY') & (pbp2015.PlayType != 'EXCEPTION') & (pbp2015.PlayType != 'CLOCK STOP')& (pbp2015.PlayType != 'PENALTY')]\n",
    "\n",
    "# get rid of all the malformed pass types\n",
    "passtypes = ['DEEP MIDDLE', 'SHORT LEFT', 'SHORT RIGHT', 'SHORT MIDDLE', 'DEEP LEFT', 'DEEP RIGHT']\n",
    "pbp2015 = pbp2015[(pbp2015['PassType'].isin(passtypes)) | (pbp2015['PassType'].isnull())]\n",
    "\n",
    "# replace the nan PlayTypes with 'DIRECT SNAP' (they are...)\n",
    "pbp2015.PlayType = pbp2015.PlayType.fillna('DIRECT SNAP')"
   ]
  },
  {
   "cell_type": "code",
   "execution_count": 105,
   "metadata": {
    "collapsed": false
   },
   "outputs": [
    {
     "data": {
      "text/plain": [
       "array(['RUSH', 'PASS', 'PUNT', 'QB KNEEL', 'SCRAMBLE', 'FIELD GOAL',\n",
       "       'SACK', 'FUMBLES', 'DIRECT SNAP'], dtype=object)"
      ]
     },
     "execution_count": 105,
     "metadata": {},
     "output_type": "execute_result"
    }
   ],
   "source": [
    "pbp2015.PlayType.unique()"
   ]
  },
  {
   "cell_type": "code",
   "execution_count": 106,
   "metadata": {
    "collapsed": false
   },
   "outputs": [],
   "source": [
    "# drop the existing IsRush/IsPass and create new ones\n",
    "pbp2015.drop(['IsRush', 'IsPass'], axis=1, inplace=True)\n",
    "\n",
    "play_to_rush = {\n",
    "    'RUSH': 1,\n",
    "    'PASS' : 0,\n",
    "    'PUNT' : 0,\n",
    "    'QB KNEEL' : 1,\n",
    "    'SCRAMBLE' : 0,\n",
    "    'FIELD GOAL' : 0,\n",
    "    'SACK' : 0,\n",
    "    'FUMBLES' : 1,\n",
    "    'DIRECT SNAP' : 1\n",
    "}\n",
    "\n",
    "pbp2015['IsRush'] = pbp2015['PlayType'].map(play_to_rush)\n",
    "\n",
    "play_to_pass = {\n",
    "    'RUSH': 0,\n",
    "    'PASS' : 1,\n",
    "    'PUNT' : 0,\n",
    "    'QB KNEEL' : 0,\n",
    "    'SCRAMBLE' : 1,\n",
    "    'FIELD GOAL' : 0,\n",
    "    'SACK' : 1,\n",
    "    'FUMBLES' : 0,\n",
    "    'DIRECT SNAP' : 0\n",
    "}\n",
    "\n",
    "pbp2015['IsPass'] = pbp2015['PlayType'].map(play_to_pass)\n",
    "\n",
    "play_to_kick = {\n",
    "    'RUSH': 0,\n",
    "    'PASS' : 0,\n",
    "    'PUNT' : 1,\n",
    "    'QB KNEEL' : 0,\n",
    "    'SCRAMBLE' : 0,\n",
    "    'FIELD GOAL' : 1,\n",
    "    'SACK' : 0,\n",
    "    'FUMBLES' : 0,\n",
    "    'DIRECT SNAP' : 0\n",
    "}\n",
    "\n",
    "pbp2015['IsKick'] = pbp2015['PlayType'].map(play_to_kick)"
   ]
  },
  {
   "cell_type": "code",
   "execution_count": 107,
   "metadata": {
    "collapsed": false
   },
   "outputs": [],
   "source": [
    "# Combine the dummy classes into one var and drop the dummies\n",
    "def play_type(x):\n",
    "    if x.IsRush == 1:\n",
    "        return 'RUSH'\n",
    "    if x.IsPass == 1:\n",
    "        return 'PASS'\n",
    "    if x.IsKick == 1:\n",
    "        return 'KICK'\n",
    "    else:\n",
    "        return 'NaN'\n",
    "    \n",
    "pbp2015['Play'] = pbp2015.apply(lambda x: play_type(x), axis=1)\n",
    "\n",
    "pbp2015.drop(['IsRush', 'IsPass', 'IsKick'], axis=1, inplace=True)"
   ]
  },
  {
   "cell_type": "code",
   "execution_count": 108,
   "metadata": {
    "collapsed": true
   },
   "outputs": [],
   "source": [
    "# Convert some columns to categorical\n",
    "pbp2015.Formation = pbp2015.Formation.astype(\"category\")\n",
    "pbp2015.OffenseTeam = pbp2015.OffenseTeam.astype(\"category\")\n",
    "pbp2015.DefenseTeam = pbp2015.DefenseTeam.astype(\"category\")\n",
    "pbp2015.Play = pbp2015.Play.astype(\"category\")"
   ]
  },
  {
   "cell_type": "code",
   "execution_count": 109,
   "metadata": {
    "collapsed": false
   },
   "outputs": [],
   "source": [
    "# These have to go for us to build a model, but we will want to use them for user presentation\n",
    "pbp2015.drop(['YardLineFixed', 'YardLineDirection','Description', 'PlayType', 'PassType', 'RushDirection', 'Yards', 'DefenseTeam'], axis=1, inplace=True)"
   ]
  },
  {
   "cell_type": "code",
   "execution_count": 110,
   "metadata": {
    "collapsed": false
   },
   "outputs": [],
   "source": [
    "# Write out the data frame as-is, since it's nice and clean\n",
    "pbp2015.to_csv('pbp2015-clean.csv')"
   ]
  },
  {
   "cell_type": "code",
   "execution_count": 121,
   "metadata": {
    "collapsed": false
   },
   "outputs": [
    {
     "name": "stdout",
     "output_type": "stream",
     "text": [
      "<class 'pandas.core.frame.DataFrame'>\n",
      "Int64Index: 37987 entries, 5 to 46276\n",
      "Data columns (total 9 columns):\n",
      "Quarter        37987 non-null int64\n",
      "Minute         37987 non-null int64\n",
      "Second         37987 non-null int64\n",
      "OffenseTeam    37987 non-null category\n",
      "Down           37987 non-null int64\n",
      "ToGo           37987 non-null int64\n",
      "YardLine       37987 non-null int64\n",
      "Formation      37987 non-null category\n",
      "Play           37987 non-null category\n",
      "dtypes: category(3), int64(6)\n",
      "memory usage: 2.1 MB\n"
     ]
    }
   ],
   "source": [
    "pbp2015.info()"
   ]
  },
  {
   "cell_type": "code",
   "execution_count": 112,
   "metadata": {
    "collapsed": false,
    "scrolled": true
   },
   "outputs": [
    {
     "data": {
      "text/html": [
       "<div>\n",
       "<table border=\"1\" class=\"dataframe\">\n",
       "  <thead>\n",
       "    <tr style=\"text-align: right;\">\n",
       "      <th></th>\n",
       "      <th>Quarter</th>\n",
       "      <th>Minute</th>\n",
       "      <th>Second</th>\n",
       "      <th>Down</th>\n",
       "      <th>ToGo</th>\n",
       "      <th>YardLine</th>\n",
       "    </tr>\n",
       "  </thead>\n",
       "  <tbody>\n",
       "    <tr>\n",
       "      <th>Quarter</th>\n",
       "      <td>1.000000</td>\n",
       "      <td>-0.010695</td>\n",
       "      <td>-0.015966</td>\n",
       "      <td>0.008742</td>\n",
       "      <td>0.015385</td>\n",
       "      <td>0.045802</td>\n",
       "    </tr>\n",
       "    <tr>\n",
       "      <th>Minute</th>\n",
       "      <td>-0.010695</td>\n",
       "      <td>1.000000</td>\n",
       "      <td>-0.061672</td>\n",
       "      <td>-0.025250</td>\n",
       "      <td>0.008104</td>\n",
       "      <td>-0.109124</td>\n",
       "    </tr>\n",
       "    <tr>\n",
       "      <th>Second</th>\n",
       "      <td>-0.015966</td>\n",
       "      <td>-0.061672</td>\n",
       "      <td>1.000000</td>\n",
       "      <td>-0.006492</td>\n",
       "      <td>0.010013</td>\n",
       "      <td>-0.008569</td>\n",
       "    </tr>\n",
       "    <tr>\n",
       "      <th>Down</th>\n",
       "      <td>0.008742</td>\n",
       "      <td>-0.025250</td>\n",
       "      <td>-0.006492</td>\n",
       "      <td>1.000000</td>\n",
       "      <td>-0.239329</td>\n",
       "      <td>0.048688</td>\n",
       "    </tr>\n",
       "    <tr>\n",
       "      <th>ToGo</th>\n",
       "      <td>0.015385</td>\n",
       "      <td>0.008104</td>\n",
       "      <td>0.010013</td>\n",
       "      <td>-0.239329</td>\n",
       "      <td>1.000000</td>\n",
       "      <td>-0.221771</td>\n",
       "    </tr>\n",
       "    <tr>\n",
       "      <th>YardLine</th>\n",
       "      <td>0.045802</td>\n",
       "      <td>-0.109124</td>\n",
       "      <td>-0.008569</td>\n",
       "      <td>0.048688</td>\n",
       "      <td>-0.221771</td>\n",
       "      <td>1.000000</td>\n",
       "    </tr>\n",
       "  </tbody>\n",
       "</table>\n",
       "</div>"
      ],
      "text/plain": [
       "           Quarter    Minute    Second      Down      ToGo  YardLine\n",
       "Quarter   1.000000 -0.010695 -0.015966  0.008742  0.015385  0.045802\n",
       "Minute   -0.010695  1.000000 -0.061672 -0.025250  0.008104 -0.109124\n",
       "Second   -0.015966 -0.061672  1.000000 -0.006492  0.010013 -0.008569\n",
       "Down      0.008742 -0.025250 -0.006492  1.000000 -0.239329  0.048688\n",
       "ToGo      0.015385  0.008104  0.010013 -0.239329  1.000000 -0.221771\n",
       "YardLine  0.045802 -0.109124 -0.008569  0.048688 -0.221771  1.000000"
      ]
     },
     "execution_count": 112,
     "metadata": {},
     "output_type": "execute_result"
    }
   ],
   "source": [
    "pbp2015.corr()"
   ]
  },
  {
   "cell_type": "code",
   "execution_count": 113,
   "metadata": {
    "collapsed": false,
    "scrolled": true
   },
   "outputs": [
    {
     "data": {
      "text/html": [
       "<div>\n",
       "<table border=\"1\" class=\"dataframe\">\n",
       "  <thead>\n",
       "    <tr style=\"text-align: right;\">\n",
       "      <th></th>\n",
       "      <th>count</th>\n",
       "      <th>mean</th>\n",
       "      <th>std</th>\n",
       "      <th>min</th>\n",
       "      <th>25%</th>\n",
       "      <th>50%</th>\n",
       "      <th>75%</th>\n",
       "      <th>max</th>\n",
       "    </tr>\n",
       "  </thead>\n",
       "  <tbody>\n",
       "    <tr>\n",
       "      <th>Quarter</th>\n",
       "      <td>37987.0</td>\n",
       "      <td>2.570932</td>\n",
       "      <td>1.135593</td>\n",
       "      <td>1.0</td>\n",
       "      <td>2.0</td>\n",
       "      <td>3.0</td>\n",
       "      <td>4.0</td>\n",
       "      <td>5.0</td>\n",
       "    </tr>\n",
       "    <tr>\n",
       "      <th>Minute</th>\n",
       "      <td>37987.0</td>\n",
       "      <td>6.706031</td>\n",
       "      <td>4.537663</td>\n",
       "      <td>0.0</td>\n",
       "      <td>3.0</td>\n",
       "      <td>7.0</td>\n",
       "      <td>11.0</td>\n",
       "      <td>15.0</td>\n",
       "    </tr>\n",
       "    <tr>\n",
       "      <th>Second</th>\n",
       "      <td>37987.0</td>\n",
       "      <td>28.398189</td>\n",
       "      <td>17.746927</td>\n",
       "      <td>0.0</td>\n",
       "      <td>13.0</td>\n",
       "      <td>28.0</td>\n",
       "      <td>44.0</td>\n",
       "      <td>59.0</td>\n",
       "    </tr>\n",
       "    <tr>\n",
       "      <th>Down</th>\n",
       "      <td>37987.0</td>\n",
       "      <td>1.997262</td>\n",
       "      <td>1.006033</td>\n",
       "      <td>0.0</td>\n",
       "      <td>1.0</td>\n",
       "      <td>2.0</td>\n",
       "      <td>3.0</td>\n",
       "      <td>4.0</td>\n",
       "    </tr>\n",
       "    <tr>\n",
       "      <th>ToGo</th>\n",
       "      <td>37987.0</td>\n",
       "      <td>8.653671</td>\n",
       "      <td>4.139411</td>\n",
       "      <td>0.0</td>\n",
       "      <td>6.0</td>\n",
       "      <td>10.0</td>\n",
       "      <td>10.0</td>\n",
       "      <td>42.0</td>\n",
       "    </tr>\n",
       "    <tr>\n",
       "      <th>YardLine</th>\n",
       "      <td>37987.0</td>\n",
       "      <td>46.732777</td>\n",
       "      <td>24.721835</td>\n",
       "      <td>1.0</td>\n",
       "      <td>26.0</td>\n",
       "      <td>43.0</td>\n",
       "      <td>66.0</td>\n",
       "      <td>99.0</td>\n",
       "    </tr>\n",
       "  </tbody>\n",
       "</table>\n",
       "</div>"
      ],
      "text/plain": [
       "            count       mean        std  min   25%   50%   75%   max\n",
       "Quarter   37987.0   2.570932   1.135593  1.0   2.0   3.0   4.0   5.0\n",
       "Minute    37987.0   6.706031   4.537663  0.0   3.0   7.0  11.0  15.0\n",
       "Second    37987.0  28.398189  17.746927  0.0  13.0  28.0  44.0  59.0\n",
       "Down      37987.0   1.997262   1.006033  0.0   1.0   2.0   3.0   4.0\n",
       "ToGo      37987.0   8.653671   4.139411  0.0   6.0  10.0  10.0  42.0\n",
       "YardLine  37987.0  46.732777  24.721835  1.0  26.0  43.0  66.0  99.0"
      ]
     },
     "execution_count": 113,
     "metadata": {},
     "output_type": "execute_result"
    }
   ],
   "source": [
    "pbp2015.describe().T"
   ]
  },
  {
   "cell_type": "markdown",
   "metadata": {},
   "source": [
    "## Modeling"
   ]
  },
  {
   "cell_type": "code",
   "execution_count": 116,
   "metadata": {
    "collapsed": false
   },
   "outputs": [],
   "source": [
    "# SkLearn doesn't support categorical features, so convert to numeric\n",
    "\n",
    "# NOTE: after trying this, I don't think that going with numeric features is great for teams \n",
    "# or formations is right, because it can imply ordering that's not there.  Dummies will be\n",
    "# more appropriate\n",
    "\n",
    "# from sklearn.preprocessing import LabelEncoder\n",
    "\n",
    "# teamEncoder = LabelEncoder()\n",
    "# teamEncoder.fit(pbp2015.OffenseTeam)\n",
    "\n",
    "# print teamEncoder.classes_\n",
    "\n",
    "# pbp2015['OffenseTeam'] = teamEncoder.transform(pbp2015.OffenseTeam)\n",
    "# pbp2015['DefenseTeam'] = teamEncoder.transform(pbp2015.DefenseTeam)\n",
    "\n",
    "# formationEncoder = LabelEncoder()\n",
    "# formationEncoder.fit(pbp2015.Formation)\n",
    "\n",
    "# print formationEncoder.classes_\n",
    "\n",
    "# pbp2015['Formation'] = formationEncoder.transform(pbp2015.Formation)"
   ]
  },
  {
   "cell_type": "code",
   "execution_count": 119,
   "metadata": {
    "collapsed": false
   },
   "outputs": [
    {
     "data": {
      "text/html": [
       "<div>\n",
       "<table border=\"1\" class=\"dataframe\">\n",
       "  <thead>\n",
       "    <tr style=\"text-align: right;\">\n",
       "      <th></th>\n",
       "      <th>FORMATION_FIELD_GOAL</th>\n",
       "      <th>FORMATION_NO_HUDDLE</th>\n",
       "      <th>FORMATION_NO_HUDDLE_SHOTGUN</th>\n",
       "      <th>FORMATION_PUNT</th>\n",
       "      <th>FORMATION_SHOTGUN</th>\n",
       "      <th>FORMATION_UNDER_CENTER</th>\n",
       "    </tr>\n",
       "  </thead>\n",
       "  <tbody>\n",
       "    <tr>\n",
       "      <th>5</th>\n",
       "      <td>0</td>\n",
       "      <td>0</td>\n",
       "      <td>0</td>\n",
       "      <td>0</td>\n",
       "      <td>0</td>\n",
       "      <td>1</td>\n",
       "    </tr>\n",
       "    <tr>\n",
       "      <th>6</th>\n",
       "      <td>0</td>\n",
       "      <td>0</td>\n",
       "      <td>0</td>\n",
       "      <td>0</td>\n",
       "      <td>0</td>\n",
       "      <td>1</td>\n",
       "    </tr>\n",
       "    <tr>\n",
       "      <th>7</th>\n",
       "      <td>0</td>\n",
       "      <td>0</td>\n",
       "      <td>0</td>\n",
       "      <td>0</td>\n",
       "      <td>1</td>\n",
       "      <td>0</td>\n",
       "    </tr>\n",
       "    <tr>\n",
       "      <th>8</th>\n",
       "      <td>0</td>\n",
       "      <td>0</td>\n",
       "      <td>0</td>\n",
       "      <td>0</td>\n",
       "      <td>0</td>\n",
       "      <td>1</td>\n",
       "    </tr>\n",
       "    <tr>\n",
       "      <th>10</th>\n",
       "      <td>0</td>\n",
       "      <td>0</td>\n",
       "      <td>0</td>\n",
       "      <td>0</td>\n",
       "      <td>0</td>\n",
       "      <td>1</td>\n",
       "    </tr>\n",
       "  </tbody>\n",
       "</table>\n",
       "</div>"
      ],
      "text/plain": [
       "    FORMATION_FIELD_GOAL  FORMATION_NO_HUDDLE  FORMATION_NO_HUDDLE_SHOTGUN  \\\n",
       "5                      0                    0                            0   \n",
       "6                      0                    0                            0   \n",
       "7                      0                    0                            0   \n",
       "8                      0                    0                            0   \n",
       "10                     0                    0                            0   \n",
       "\n",
       "    FORMATION_PUNT  FORMATION_SHOTGUN  FORMATION_UNDER_CENTER  \n",
       "5                0                  0                       1  \n",
       "6                0                  0                       1  \n",
       "7                0                  1                       0  \n",
       "8                0                  0                       1  \n",
       "10               0                  0                       1  "
      ]
     },
     "execution_count": 119,
     "metadata": {},
     "output_type": "execute_result"
    }
   ],
   "source": [
    "form_dummies = pd.get_dummies(pbp2015.Formation)\n",
    "form_dummies.columns = map(lambda x: 'FORMATION_' + x.replace (' ', '_'), form_dummies.columns)\n",
    "form_dummies.head()"
   ]
  },
  {
   "cell_type": "code",
   "execution_count": 122,
   "metadata": {
    "collapsed": false
   },
   "outputs": [
    {
     "data": {
      "text/html": [
       "<div>\n",
       "<table border=\"1\" class=\"dataframe\">\n",
       "  <thead>\n",
       "    <tr style=\"text-align: right;\">\n",
       "      <th></th>\n",
       "      <th>TEAM_ARI</th>\n",
       "      <th>TEAM_ATL</th>\n",
       "      <th>TEAM_BAL</th>\n",
       "      <th>TEAM_BUF</th>\n",
       "      <th>TEAM_CAR</th>\n",
       "      <th>TEAM_CHI</th>\n",
       "      <th>TEAM_CIN</th>\n",
       "      <th>TEAM_CLE</th>\n",
       "      <th>TEAM_DAL</th>\n",
       "      <th>TEAM_DEN</th>\n",
       "      <th>...</th>\n",
       "      <th>TEAM_NYJ</th>\n",
       "      <th>TEAM_OAK</th>\n",
       "      <th>TEAM_PHI</th>\n",
       "      <th>TEAM_PIT</th>\n",
       "      <th>TEAM_SD</th>\n",
       "      <th>TEAM_SEA</th>\n",
       "      <th>TEAM_SF</th>\n",
       "      <th>TEAM_TB</th>\n",
       "      <th>TEAM_TEN</th>\n",
       "      <th>TEAM_WAS</th>\n",
       "    </tr>\n",
       "  </thead>\n",
       "  <tbody>\n",
       "    <tr>\n",
       "      <th>5</th>\n",
       "      <td>0</td>\n",
       "      <td>0</td>\n",
       "      <td>0</td>\n",
       "      <td>0</td>\n",
       "      <td>0</td>\n",
       "      <td>0</td>\n",
       "      <td>0</td>\n",
       "      <td>0</td>\n",
       "      <td>0</td>\n",
       "      <td>0</td>\n",
       "      <td>...</td>\n",
       "      <td>0</td>\n",
       "      <td>0</td>\n",
       "      <td>0</td>\n",
       "      <td>0</td>\n",
       "      <td>0</td>\n",
       "      <td>0</td>\n",
       "      <td>0</td>\n",
       "      <td>0</td>\n",
       "      <td>0</td>\n",
       "      <td>1</td>\n",
       "    </tr>\n",
       "    <tr>\n",
       "      <th>6</th>\n",
       "      <td>0</td>\n",
       "      <td>0</td>\n",
       "      <td>0</td>\n",
       "      <td>0</td>\n",
       "      <td>0</td>\n",
       "      <td>0</td>\n",
       "      <td>0</td>\n",
       "      <td>0</td>\n",
       "      <td>0</td>\n",
       "      <td>0</td>\n",
       "      <td>...</td>\n",
       "      <td>0</td>\n",
       "      <td>0</td>\n",
       "      <td>0</td>\n",
       "      <td>0</td>\n",
       "      <td>0</td>\n",
       "      <td>0</td>\n",
       "      <td>0</td>\n",
       "      <td>0</td>\n",
       "      <td>0</td>\n",
       "      <td>1</td>\n",
       "    </tr>\n",
       "    <tr>\n",
       "      <th>7</th>\n",
       "      <td>0</td>\n",
       "      <td>0</td>\n",
       "      <td>0</td>\n",
       "      <td>0</td>\n",
       "      <td>0</td>\n",
       "      <td>0</td>\n",
       "      <td>0</td>\n",
       "      <td>0</td>\n",
       "      <td>0</td>\n",
       "      <td>0</td>\n",
       "      <td>...</td>\n",
       "      <td>0</td>\n",
       "      <td>0</td>\n",
       "      <td>0</td>\n",
       "      <td>0</td>\n",
       "      <td>0</td>\n",
       "      <td>0</td>\n",
       "      <td>0</td>\n",
       "      <td>0</td>\n",
       "      <td>0</td>\n",
       "      <td>1</td>\n",
       "    </tr>\n",
       "    <tr>\n",
       "      <th>8</th>\n",
       "      <td>0</td>\n",
       "      <td>0</td>\n",
       "      <td>0</td>\n",
       "      <td>1</td>\n",
       "      <td>0</td>\n",
       "      <td>0</td>\n",
       "      <td>0</td>\n",
       "      <td>0</td>\n",
       "      <td>0</td>\n",
       "      <td>0</td>\n",
       "      <td>...</td>\n",
       "      <td>0</td>\n",
       "      <td>0</td>\n",
       "      <td>0</td>\n",
       "      <td>0</td>\n",
       "      <td>0</td>\n",
       "      <td>0</td>\n",
       "      <td>0</td>\n",
       "      <td>0</td>\n",
       "      <td>0</td>\n",
       "      <td>0</td>\n",
       "    </tr>\n",
       "    <tr>\n",
       "      <th>10</th>\n",
       "      <td>0</td>\n",
       "      <td>0</td>\n",
       "      <td>0</td>\n",
       "      <td>1</td>\n",
       "      <td>0</td>\n",
       "      <td>0</td>\n",
       "      <td>0</td>\n",
       "      <td>0</td>\n",
       "      <td>0</td>\n",
       "      <td>0</td>\n",
       "      <td>...</td>\n",
       "      <td>0</td>\n",
       "      <td>0</td>\n",
       "      <td>0</td>\n",
       "      <td>0</td>\n",
       "      <td>0</td>\n",
       "      <td>0</td>\n",
       "      <td>0</td>\n",
       "      <td>0</td>\n",
       "      <td>0</td>\n",
       "      <td>0</td>\n",
       "    </tr>\n",
       "  </tbody>\n",
       "</table>\n",
       "<p>5 rows × 32 columns</p>\n",
       "</div>"
      ],
      "text/plain": [
       "    TEAM_ARI  TEAM_ATL  TEAM_BAL  TEAM_BUF  TEAM_CAR  TEAM_CHI  TEAM_CIN  \\\n",
       "5          0         0         0         0         0         0         0   \n",
       "6          0         0         0         0         0         0         0   \n",
       "7          0         0         0         0         0         0         0   \n",
       "8          0         0         0         1         0         0         0   \n",
       "10         0         0         0         1         0         0         0   \n",
       "\n",
       "    TEAM_CLE  TEAM_DAL  TEAM_DEN    ...     TEAM_NYJ  TEAM_OAK  TEAM_PHI  \\\n",
       "5          0         0         0    ...            0         0         0   \n",
       "6          0         0         0    ...            0         0         0   \n",
       "7          0         0         0    ...            0         0         0   \n",
       "8          0         0         0    ...            0         0         0   \n",
       "10         0         0         0    ...            0         0         0   \n",
       "\n",
       "    TEAM_PIT  TEAM_SD  TEAM_SEA  TEAM_SF  TEAM_TB  TEAM_TEN  TEAM_WAS  \n",
       "5          0        0         0        0        0         0         1  \n",
       "6          0        0         0        0        0         0         1  \n",
       "7          0        0         0        0        0         0         1  \n",
       "8          0        0         0        0        0         0         0  \n",
       "10         0        0         0        0        0         0         0  \n",
       "\n",
       "[5 rows x 32 columns]"
      ]
     },
     "execution_count": 122,
     "metadata": {},
     "output_type": "execute_result"
    }
   ],
   "source": [
    "team_dummies = pd.get_dummies(pbp2015.OffenseTeam)\n",
    "team_dummies.columns = map(lambda x: 'TEAM_' + str(x), team_dummies.columns)\n",
    "team_dummies.head()"
   ]
  },
  {
   "cell_type": "code",
   "execution_count": 128,
   "metadata": {
    "collapsed": false
   },
   "outputs": [],
   "source": [
    "pbp2015_prepped = pd.concat(\n",
    "    [pbp2015.ix[:,['Quarter', 'Minute', 'Second', 'Down', 'ToGo', 'YardLine', 'Play']], \n",
    "    team_dummies, \n",
    "    form_dummies], axis=1)"
   ]
  },
  {
   "cell_type": "code",
   "execution_count": 129,
   "metadata": {
    "collapsed": false
   },
   "outputs": [
    {
     "data": {
      "text/html": [
       "<div>\n",
       "<table border=\"1\" class=\"dataframe\">\n",
       "  <thead>\n",
       "    <tr style=\"text-align: right;\">\n",
       "      <th></th>\n",
       "      <th>Quarter</th>\n",
       "      <th>Minute</th>\n",
       "      <th>Second</th>\n",
       "      <th>Down</th>\n",
       "      <th>ToGo</th>\n",
       "      <th>YardLine</th>\n",
       "      <th>Play</th>\n",
       "      <th>TEAM_ARI</th>\n",
       "      <th>TEAM_ATL</th>\n",
       "      <th>TEAM_BAL</th>\n",
       "      <th>...</th>\n",
       "      <th>TEAM_SF</th>\n",
       "      <th>TEAM_TB</th>\n",
       "      <th>TEAM_TEN</th>\n",
       "      <th>TEAM_WAS</th>\n",
       "      <th>FORMATION_FIELD_GOAL</th>\n",
       "      <th>FORMATION_NO_HUDDLE</th>\n",
       "      <th>FORMATION_NO_HUDDLE_SHOTGUN</th>\n",
       "      <th>FORMATION_PUNT</th>\n",
       "      <th>FORMATION_SHOTGUN</th>\n",
       "      <th>FORMATION_UNDER_CENTER</th>\n",
       "    </tr>\n",
       "  </thead>\n",
       "  <tbody>\n",
       "    <tr>\n",
       "      <th>5</th>\n",
       "      <td>2</td>\n",
       "      <td>9</td>\n",
       "      <td>48</td>\n",
       "      <td>2</td>\n",
       "      <td>2</td>\n",
       "      <td>20</td>\n",
       "      <td>RUSH</td>\n",
       "      <td>0</td>\n",
       "      <td>0</td>\n",
       "      <td>0</td>\n",
       "      <td>...</td>\n",
       "      <td>0</td>\n",
       "      <td>0</td>\n",
       "      <td>0</td>\n",
       "      <td>1</td>\n",
       "      <td>0</td>\n",
       "      <td>0</td>\n",
       "      <td>0</td>\n",
       "      <td>0</td>\n",
       "      <td>0</td>\n",
       "      <td>1</td>\n",
       "    </tr>\n",
       "    <tr>\n",
       "      <th>6</th>\n",
       "      <td>2</td>\n",
       "      <td>9</td>\n",
       "      <td>13</td>\n",
       "      <td>1</td>\n",
       "      <td>10</td>\n",
       "      <td>24</td>\n",
       "      <td>PASS</td>\n",
       "      <td>0</td>\n",
       "      <td>0</td>\n",
       "      <td>0</td>\n",
       "      <td>...</td>\n",
       "      <td>0</td>\n",
       "      <td>0</td>\n",
       "      <td>0</td>\n",
       "      <td>1</td>\n",
       "      <td>0</td>\n",
       "      <td>0</td>\n",
       "      <td>0</td>\n",
       "      <td>0</td>\n",
       "      <td>0</td>\n",
       "      <td>1</td>\n",
       "    </tr>\n",
       "    <tr>\n",
       "      <th>7</th>\n",
       "      <td>4</td>\n",
       "      <td>2</td>\n",
       "      <td>33</td>\n",
       "      <td>2</td>\n",
       "      <td>11</td>\n",
       "      <td>76</td>\n",
       "      <td>PASS</td>\n",
       "      <td>0</td>\n",
       "      <td>0</td>\n",
       "      <td>0</td>\n",
       "      <td>...</td>\n",
       "      <td>0</td>\n",
       "      <td>0</td>\n",
       "      <td>0</td>\n",
       "      <td>1</td>\n",
       "      <td>0</td>\n",
       "      <td>0</td>\n",
       "      <td>0</td>\n",
       "      <td>0</td>\n",
       "      <td>1</td>\n",
       "      <td>0</td>\n",
       "    </tr>\n",
       "    <tr>\n",
       "      <th>8</th>\n",
       "      <td>1</td>\n",
       "      <td>4</td>\n",
       "      <td>57</td>\n",
       "      <td>2</td>\n",
       "      <td>20</td>\n",
       "      <td>37</td>\n",
       "      <td>PASS</td>\n",
       "      <td>0</td>\n",
       "      <td>0</td>\n",
       "      <td>0</td>\n",
       "      <td>...</td>\n",
       "      <td>0</td>\n",
       "      <td>0</td>\n",
       "      <td>0</td>\n",
       "      <td>0</td>\n",
       "      <td>0</td>\n",
       "      <td>0</td>\n",
       "      <td>0</td>\n",
       "      <td>0</td>\n",
       "      <td>0</td>\n",
       "      <td>1</td>\n",
       "    </tr>\n",
       "    <tr>\n",
       "      <th>10</th>\n",
       "      <td>3</td>\n",
       "      <td>14</td>\n",
       "      <td>4</td>\n",
       "      <td>1</td>\n",
       "      <td>10</td>\n",
       "      <td>68</td>\n",
       "      <td>PASS</td>\n",
       "      <td>0</td>\n",
       "      <td>0</td>\n",
       "      <td>0</td>\n",
       "      <td>...</td>\n",
       "      <td>0</td>\n",
       "      <td>0</td>\n",
       "      <td>0</td>\n",
       "      <td>0</td>\n",
       "      <td>0</td>\n",
       "      <td>0</td>\n",
       "      <td>0</td>\n",
       "      <td>0</td>\n",
       "      <td>0</td>\n",
       "      <td>1</td>\n",
       "    </tr>\n",
       "  </tbody>\n",
       "</table>\n",
       "<p>5 rows × 45 columns</p>\n",
       "</div>"
      ],
      "text/plain": [
       "    Quarter  Minute  Second  Down  ToGo  YardLine  Play  TEAM_ARI  TEAM_ATL  \\\n",
       "5         2       9      48     2     2        20  RUSH         0         0   \n",
       "6         2       9      13     1    10        24  PASS         0         0   \n",
       "7         4       2      33     2    11        76  PASS         0         0   \n",
       "8         1       4      57     2    20        37  PASS         0         0   \n",
       "10        3      14       4     1    10        68  PASS         0         0   \n",
       "\n",
       "    TEAM_BAL           ...            TEAM_SF  TEAM_TB  TEAM_TEN  TEAM_WAS  \\\n",
       "5          0           ...                  0        0         0         1   \n",
       "6          0           ...                  0        0         0         1   \n",
       "7          0           ...                  0        0         0         1   \n",
       "8          0           ...                  0        0         0         0   \n",
       "10         0           ...                  0        0         0         0   \n",
       "\n",
       "    FORMATION_FIELD_GOAL  FORMATION_NO_HUDDLE  FORMATION_NO_HUDDLE_SHOTGUN  \\\n",
       "5                      0                    0                            0   \n",
       "6                      0                    0                            0   \n",
       "7                      0                    0                            0   \n",
       "8                      0                    0                            0   \n",
       "10                     0                    0                            0   \n",
       "\n",
       "    FORMATION_PUNT  FORMATION_SHOTGUN  FORMATION_UNDER_CENTER  \n",
       "5                0                  0                       1  \n",
       "6                0                  0                       1  \n",
       "7                0                  1                       0  \n",
       "8                0                  0                       1  \n",
       "10               0                  0                       1  \n",
       "\n",
       "[5 rows x 45 columns]"
      ]
     },
     "execution_count": 129,
     "metadata": {},
     "output_type": "execute_result"
    }
   ],
   "source": [
    "pbp2015_prepped.head()"
   ]
  },
  {
   "cell_type": "code",
   "execution_count": 130,
   "metadata": {
    "collapsed": false
   },
   "outputs": [
    {
     "data": {
      "text/plain": [
       "(37987, 45)"
      ]
     },
     "execution_count": 130,
     "metadata": {},
     "output_type": "execute_result"
    }
   ],
   "source": [
    "# Check the shape\n",
    "pbp2015_prepped.shape"
   ]
  },
  {
   "cell_type": "code",
   "execution_count": 131,
   "metadata": {
    "collapsed": false
   },
   "outputs": [
    {
     "name": "stdout",
     "output_type": "stream",
     "text": [
      "<class 'pandas.core.frame.DataFrame'>\n",
      "Int64Index: 37987 entries, 5 to 46276\n",
      "Data columns (total 45 columns):\n",
      "Quarter                        37987 non-null int64\n",
      "Minute                         37987 non-null int64\n",
      "Second                         37987 non-null int64\n",
      "Down                           37987 non-null int64\n",
      "ToGo                           37987 non-null int64\n",
      "YardLine                       37987 non-null int64\n",
      "Play                           37987 non-null category\n",
      "TEAM_ARI                       37987 non-null uint8\n",
      "TEAM_ATL                       37987 non-null uint8\n",
      "TEAM_BAL                       37987 non-null uint8\n",
      "TEAM_BUF                       37987 non-null uint8\n",
      "TEAM_CAR                       37987 non-null uint8\n",
      "TEAM_CHI                       37987 non-null uint8\n",
      "TEAM_CIN                       37987 non-null uint8\n",
      "TEAM_CLE                       37987 non-null uint8\n",
      "TEAM_DAL                       37987 non-null uint8\n",
      "TEAM_DEN                       37987 non-null uint8\n",
      "TEAM_DET                       37987 non-null uint8\n",
      "TEAM_GB                        37987 non-null uint8\n",
      "TEAM_HOU                       37987 non-null uint8\n",
      "TEAM_IND                       37987 non-null uint8\n",
      "TEAM_JAX                       37987 non-null uint8\n",
      "TEAM_KC                        37987 non-null uint8\n",
      "TEAM_LA                        37987 non-null uint8\n",
      "TEAM_MIA                       37987 non-null uint8\n",
      "TEAM_MIN                       37987 non-null uint8\n",
      "TEAM_NE                        37987 non-null uint8\n",
      "TEAM_NO                        37987 non-null uint8\n",
      "TEAM_NYG                       37987 non-null uint8\n",
      "TEAM_NYJ                       37987 non-null uint8\n",
      "TEAM_OAK                       37987 non-null uint8\n",
      "TEAM_PHI                       37987 non-null uint8\n",
      "TEAM_PIT                       37987 non-null uint8\n",
      "TEAM_SD                        37987 non-null uint8\n",
      "TEAM_SEA                       37987 non-null uint8\n",
      "TEAM_SF                        37987 non-null uint8\n",
      "TEAM_TB                        37987 non-null uint8\n",
      "TEAM_TEN                       37987 non-null uint8\n",
      "TEAM_WAS                       37987 non-null uint8\n",
      "FORMATION_FIELD_GOAL           37987 non-null uint8\n",
      "FORMATION_NO_HUDDLE            37987 non-null uint8\n",
      "FORMATION_NO_HUDDLE_SHOTGUN    37987 non-null uint8\n",
      "FORMATION_PUNT                 37987 non-null uint8\n",
      "FORMATION_SHOTGUN              37987 non-null uint8\n",
      "FORMATION_UNDER_CENTER         37987 non-null uint8\n",
      "dtypes: category(1), int64(6), uint8(38)\n",
      "memory usage: 3.4 MB\n"
     ]
    }
   ],
   "source": [
    "pbp2015_prepped.info()"
   ]
  },
  {
   "cell_type": "code",
   "execution_count": 132,
   "metadata": {
    "collapsed": false,
    "scrolled": true
   },
   "outputs": [
    {
     "data": {
      "text/plain": [
       "Quarter                           1\n",
       "Minute                           10\n",
       "Second                           42\n",
       "Down                              2\n",
       "ToGo                             10\n",
       "YardLine                          4\n",
       "Play                           PASS\n",
       "TEAM_ARI                          0\n",
       "TEAM_ATL                          0\n",
       "TEAM_BAL                          0\n",
       "TEAM_BUF                          0\n",
       "TEAM_CAR                          0\n",
       "TEAM_CHI                          0\n",
       "TEAM_CIN                          0\n",
       "TEAM_CLE                          0\n",
       "TEAM_DAL                          0\n",
       "TEAM_DEN                          0\n",
       "TEAM_DET                          0\n",
       "TEAM_GB                           0\n",
       "TEAM_HOU                          0\n",
       "TEAM_IND                          0\n",
       "TEAM_JAX                          0\n",
       "TEAM_KC                           1\n",
       "TEAM_LA                           0\n",
       "TEAM_MIA                          0\n",
       "TEAM_MIN                          0\n",
       "TEAM_NE                           0\n",
       "TEAM_NO                           0\n",
       "TEAM_NYG                          0\n",
       "TEAM_NYJ                          0\n",
       "TEAM_OAK                          0\n",
       "TEAM_PHI                          0\n",
       "TEAM_PIT                          0\n",
       "TEAM_SD                           0\n",
       "TEAM_SEA                          0\n",
       "TEAM_SF                           0\n",
       "TEAM_TB                           0\n",
       "TEAM_TEN                          0\n",
       "TEAM_WAS                          0\n",
       "FORMATION_FIELD_GOAL              0\n",
       "FORMATION_NO_HUDDLE               0\n",
       "FORMATION_NO_HUDDLE_SHOTGUN       0\n",
       "FORMATION_PUNT                    0\n",
       "FORMATION_SHOTGUN                 0\n",
       "FORMATION_UNDER_CENTER            1\n",
       "Name: 21666, dtype: object"
      ]
     },
     "execution_count": 132,
     "metadata": {},
     "output_type": "execute_result"
    }
   ],
   "source": [
    "# pick a random play out of the data\n",
    "pbp2015_prepped.iloc[random.randint(0,pbp2015.shape[0])]"
   ]
  },
  {
   "cell_type": "code",
   "execution_count": 133,
   "metadata": {
    "collapsed": true
   },
   "outputs": [],
   "source": [
    "# split the class from the values\n",
    "y = pbp2015_prepped['Play']\n",
    "X = pbp2015_prepped.drop(['Play'], axis=1).values\n",
    "\n",
    "# save a test set\n",
    "X_train, X_test, y_train, y_test = train_test_split(X, y, random_state=22)"
   ]
  },
  {
   "cell_type": "code",
   "execution_count": 134,
   "metadata": {
    "collapsed": false
   },
   "outputs": [],
   "source": [
    "# random forest\n",
    "rf = RandomForestClassifier()\n",
    "rf.fit(X_train, y_train)\n",
    "y_pred = rf.predict(X_test)"
   ]
  },
  {
   "cell_type": "code",
   "execution_count": 148,
   "metadata": {
    "collapsed": true
   },
   "outputs": [],
   "source": [
    "from sklearn.metrics import confusion_matrix\n",
    "\n",
    "def plot_confusion_matrix(cm):\n",
    "    '''Code stolen brazenly from sklearn example.'''\n",
    "    print(cm)\n",
    "\n",
    "    # Show confusion matrix in a separate window\n",
    "    plt.matshow(cm)\n",
    "    plt.title('Confusion matrix')\n",
    "    plt.colorbar()\n",
    "    plt.ylabel('True label')\n",
    "    plt.xlabel('Predicted label')\n",
    "    plt.show()"
   ]
  },
  {
   "cell_type": "code",
   "execution_count": 149,
   "metadata": {
    "collapsed": false
   },
   "outputs": [
    {
     "data": {
      "text/plain": [
       "0.75202695588080448"
      ]
     },
     "execution_count": 149,
     "metadata": {},
     "output_type": "execute_result"
    }
   ],
   "source": [
    "rf.score(X_test, y_test)"
   ]
  },
  {
   "cell_type": "code",
   "execution_count": 150,
   "metadata": {
    "collapsed": false
   },
   "outputs": [
    {
     "name": "stdout",
     "output_type": "stream",
     "text": [
      "[[ 878    0    2]\n",
      " [   6 4443  925]\n",
      " [   6 1416 1821]]\n"
     ]
    },
    {
     "data": {
      "image/png": "[encoded data removed]",
      "text/plain": [
       "<matplotlib.figure.Figure at 0x11e301d90>"
      ]
     },
     "metadata": {},
     "output_type": "display_data"
    }
   ],
   "source": [
    "plot_confusion_matrix(confusion_matrix(y_test, y_pred))"
   ]
  },
  {
   "cell_type": "code",
   "execution_count": 151,
   "metadata": {
    "collapsed": false
   },
   "outputs": [
    {
     "data": {
      "text/plain": [
       "array(['KICK', 'PASS', 'RUSH'], dtype=object)"
      ]
     },
     "execution_count": 151,
     "metadata": {},
     "output_type": "execute_result"
    }
   ],
   "source": [
    "rf.classes_"
   ]
  },
  {
   "cell_type": "code",
   "execution_count": 152,
   "metadata": {
    "collapsed": true
   },
   "outputs": [],
   "source": [
    "# gradient boosting classifier\n",
    "gbc = GradientBoostingClassifier()\n",
    "gbc.fit(X_train, y_train)\n",
    "y_pred = gbc.predict(X_test)"
   ]
  },
  {
   "cell_type": "code",
   "execution_count": 153,
   "metadata": {
    "collapsed": false
   },
   "outputs": [
    {
     "data": {
      "text/plain": [
       "0.77771927977255972"
      ]
     },
     "execution_count": 153,
     "metadata": {},
     "output_type": "execute_result"
    }
   ],
   "source": [
    "gbc.score(X_test, y_test)"
   ]
  },
  {
   "cell_type": "code",
   "execution_count": 154,
   "metadata": {
    "collapsed": false
   },
   "outputs": [
    {
     "name": "stdout",
     "output_type": "stream",
     "text": [
      "[[ 879    0    1]\n",
      " [   6 4297 1071]\n",
      " [   7 1026 2210]]\n"
     ]
    },
    {
     "data": {
      "image/png": "[encoded data removed]",
      "text/plain": [
       "<matplotlib.figure.Figure at 0x1168b9d50>"
      ]
     },
     "metadata": {},
     "output_type": "display_data"
    }
   ],
   "source": [
    "plot_confusion_matrix(confusion_matrix(y_test, y_pred))"
   ]
  },
  {
   "cell_type": "code",
   "execution_count": 155,
   "metadata": {
    "collapsed": false
   },
   "outputs": [
    {
     "data": {
      "text/plain": [
       "array(['KICK', 'PASS', 'RUSH'], dtype=object)"
      ]
     },
     "execution_count": 155,
     "metadata": {},
     "output_type": "execute_result"
    }
   ],
   "source": [
    "gbc.classes_"
   ]
  },
  {
   "cell_type": "code",
   "execution_count": null,
   "metadata": {
    "collapsed": true
   },
   "outputs": [],
   "source": []
  }
 ],
 "metadata": {
  "anaconda-cloud": {},
  "kernelspec": {
   "display_name": "Python [conda root]",
   "language": "python",
   "name": "conda-root-py"
  },
  "language_info": {
   "codemirror_mode": {
    "name": "ipython",
    "version": 2
   },
   "file_extension": ".py",
   "mimetype": "text/x-python",
   "name": "python",
   "nbconvert_exporter": "python",
   "pygments_lexer": "ipython2",
   "version": "2.7.12"
  }
 },
 "nbformat": 4,
 "nbformat_minor": 1
}
