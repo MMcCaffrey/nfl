{
 "cells": [
  {
   "cell_type": "code",
   "execution_count": 2,
   "metadata": {
    "collapsed": false
   },
   "outputs": [],
   "source": [
    "import cPickle as pickle\n",
    "import pandas as pd\n",
    "import numpy as np\n",
    "import random \n",
    "\n",
    "from sklearn.linear_model import LogisticRegression\n",
    "from sklearn.ensemble import RandomForestClassifier\n",
    "from sklearn.ensemble import GradientBoostingClassifier\n",
    "from sklearn.svm import SVC\n",
    "from sklearn.tree import DecisionTreeClassifier\n",
    "from sklearn.neighbors import KNeighborsClassifier\n",
    "from sklearn.gaussian_process import GaussianProcessClassifier\n",
    "from sklearn.gaussian_process.kernels import RBF\n",
    "from sklearn.tree import DecisionTreeClassifier\n",
    "from sklearn.ensemble import RandomForestClassifier, AdaBoostClassifier\n",
    "from sklearn.naive_bayes import GaussianNB\n",
    "from sklearn.discriminant_analysis import QuadraticDiscriminantAnalysis\n",
    "from sklearn.neural_network import MLPClassifier\n",
    "\n",
    "from sklearn.model_selection import train_test_split\n",
    "from sklearn.model_selection import KFold\n",
    "from sklearn.grid_search import GridSearchCV\n",
    "from sklearn.model_selection import cross_val_score\n",
    "from sklearn.preprocessing import StandardScaler\n",
    "from sklearn.metrics import confusion_matrix, precision_score, recall_score\n",
    "\n",
    "# local code\n",
    "import sys\n",
    "sys.path.insert(0, '/Users/zgreyn/Documents/galvanize/projects/nfl/src')\n",
    "import combine\n",
    "import clean\n",
    "import scrape\n",
    "import modeling\n",
    "\n",
    "import itertools\n",
    "import matplotlib\n",
    "#import seaborn\n",
    "%matplotlib inline"
   ]
  },
  {
   "cell_type": "code",
   "execution_count": 146,
   "metadata": {
    "collapsed": true
   },
   "outputs": [],
   "source": [
    "def plot_confusion_matrix_pretty(cm, classes,\n",
    "                          normalize=False,\n",
    "                          title='Confusion matrix',\n",
    "                          cmap=plt.cm.Blues):\n",
    "    \"\"\"\n",
    "    This function prints and plots the confusion matrix.\n",
    "    Normalization can be applied by setting `normalize=True`.\n",
    "    \n",
    "    Ex: plot_confusion_matrix_pretty(confusion_matrix(y, y_pred), ['KICK', 'PASS', 'RUSH'])\n",
    "    \"\"\"\n",
    "    \n",
    "    plt.imshow(cm, interpolation='nearest', cmap=cmap)\n",
    "    plt.title(title)\n",
    "    plt.colorbar()\n",
    "    tick_marks = np.arange(len(classes))\n",
    "    plt.xticks(tick_marks, classes, rotation=45)\n",
    "    plt.yticks(tick_marks, classes)\n",
    "\n",
    "    if normalize:\n",
    "        cm = cm.astype('float') / cm.sum(axis=1)[:, np.newaxis]\n",
    "        print(\"Normalized confusion matrix\")\n",
    "    else:\n",
    "        print('Confusion matrix, without normalization')\n",
    "\n",
    "    print(cm)\n",
    "\n",
    "    thresh = cm.max() / 2.\n",
    "    for i, j in itertools.product(range(cm.shape[0]), range(cm.shape[1])):\n",
    "        plt.text(j, i, cm[i, j],\n",
    "                 horizontalalignment=\"center\",\n",
    "                 color=\"white\" if cm[i, j] > thresh else \"black\")\n",
    "\n",
    "    plt.tight_layout()\n",
    "    plt.ylabel('True label')\n",
    "    plt.xlabel('Predicted label')\n",
    "    plt.figure(figsize=(20,20)) "
   ]
  },
  {
   "cell_type": "code",
   "execution_count": 170,
   "metadata": {
    "collapsed": true
   },
   "outputs": [],
   "source": [
    "# read in the prepped data\n",
    "pbp = pd.read_csv('../data/pbp-training.csv')"
   ]
  },
  {
   "cell_type": "code",
   "execution_count": 172,
   "metadata": {
    "collapsed": false
   },
   "outputs": [],
   "source": [
    "# Combine the RUSHDIRECTION and PASSTYPE with the PLAY \n",
    "# (PLAY = PLAY + PASSTYPE or PLAY + RUSHDIRECTION)\n",
    "def play_type_granular(x):\n",
    "    if x.PLAY == 'RUSH':\n",
    "        if not pd.isnull(x.RUSHDIRECTION):\n",
    "            if x.RUSHDIRECTION.split(' ')[0] == 'QB':\n",
    "                return 'RUSH: ' + x.RUSHDIRECTION\n",
    "            else:\n",
    "                return 'RUSH: ' + x.RUSHDIRECTION.split(' ')[0] # just keep the direction\n",
    "        else:\n",
    "            return 'RUSH: ' + x.PLAYTYPE\n",
    "    if x.PLAY == 'PASS':\n",
    "        if not pd.isnull(x.PASSTYPE):\n",
    "            return 'PASS: ' + x.PASSTYPE\n",
    "        else:\n",
    "            return 'PASS: ' + x.PLAYTYPE\n",
    "    if x.PLAY == 'KICK':\n",
    "        return 'KICK: ' + x.PLAYTYPE\n",
    "    else:\n",
    "        return 'NaN'"
   ]
  },
  {
   "cell_type": "code",
   "execution_count": 173,
   "metadata": {
    "collapsed": false
   },
   "outputs": [],
   "source": [
    "pbp['PLAY'] = pbp.apply(lambda x: play_type_granular(x), axis=1)"
   ]
  },
  {
   "cell_type": "code",
   "execution_count": 169,
   "metadata": {
    "collapsed": false
   },
   "outputs": [
    {
     "data": {
      "text/plain": [
       "array(['RUSH: LEFT', 'PASS: SCRAMBLE', 'PASS: SACK', 'KICK: PUNT',\n",
       "       'PASS: SHORT RIGHT', 'PASS: SHORT LEFT', 'PASS: SHORT MIDDLE',\n",
       "       'RUSH: RIGHT', 'RUSH: QB KNEEL', 'RUSH: CENTER', 'PASS: DEEP RIGHT',\n",
       "       'PASS: DEEP LEFT', 'KICK: FIELD GOAL', 'PASS: DEEP MIDDLE',\n",
       "       'RUSH: FUMBLES', 'RUSH: DIRECT SNAP'], dtype=object)"
      ]
     },
     "execution_count": 169,
     "metadata": {},
     "output_type": "execute_result"
    }
   ],
   "source": [
    "pbp.PLAY.unique()"
   ]
  },
  {
   "cell_type": "code",
   "execution_count": 174,
   "metadata": {
    "collapsed": true
   },
   "outputs": [],
   "source": [
    "columns_to_keep = [\n",
    "    'CLOCK',\n",
    "    #'QUARTER',\n",
    "    #'MINUTE',\n",
    "    #'SECOND',\n",
    "    'DOWN',\n",
    "    'TOGO',\n",
    "    'YARDLINE',\n",
    "    'SCORINGMARGIN',\n",
    "    'ISTURF',\n",
    "    'UNDERROOF',\n",
    "    'ISATHOME',\n",
    "    'TEMPERATURE',\n",
    "    'HUMIDITY',\n",
    "    'WINDSPEED',\n",
    "    'SEASONYEAR',\n",
    "    'PLAY']\n",
    "\n",
    "formations = [\n",
    "    'FIELD_GOAL',\n",
    "    'NO_HUDDLE',\n",
    "    'NO_HUDDLE_SHOTGUN',\n",
    "    'PUNT',\n",
    "    'SHOTGUN',\n",
    "    'UNDER_CENTER',\n",
    "    'WILDCAT']\n",
    "\n",
    "teams = [\n",
    "    'ARI',\n",
    "    'ATL',\n",
    "    'BAL',\n",
    "    'BUF',\n",
    "    'CAR',\n",
    "    'CHI',\n",
    "    'CIN',\n",
    "    'CLE',\n",
    "    'DAL',\n",
    "    'DEN',\n",
    "    'DET',\n",
    "    'GB',\n",
    "    'HOU',\n",
    "    'IND',\n",
    "    'JAX',\n",
    "    'KC',\n",
    "    'LA',\n",
    "    'MIA',\n",
    "    'MIN',\n",
    "    'NE',\n",
    "    'NO',\n",
    "    'NYG',\n",
    "    'NYJ',\n",
    "    'OAK',\n",
    "    'PHI',\n",
    "    'PIT',\n",
    "    'SD',\n",
    "    'SEA',\n",
    "    'SF',\n",
    "    'TB',\n",
    "    'TEN',\n",
    "    'WAS']\n",
    "\n",
    "def prep_records_granular(records, columns_to_keep=columns_to_keep, offense=True, defense=True, formation=True):\n",
    "    '''\n",
    "    INPUT: records - a set of plays as rows in a DataFrame in \"clean form\"\n",
    "           columns_to_keep - the list of columns to keep in the result\n",
    "           offense - True=Dummies for the offense, False=no offense feature\n",
    "           formation - True=Dummies for the formation, False=no formation feature\n",
    "    OUTPUT: The plays in \"model form\"\n",
    "    '''\n",
    "\n",
    "    # Fill missing values for HUMIDITY, TEMPERATURE, WINDSPEED and convert to int\n",
    "    records.TEMPERATURE = records.TEMPERATURE.replace('UNKOWN', '75') # typo in earlier script\n",
    "    records.HUMIDITY = records.HUMIDITY.replace('UNKNOWN', '45')\n",
    "    records.WINDSPEED = records.WINDSPEED.replace('UNKNOWN', '0')\n",
    "    records.WINDSPEED = records.WINDSPEED.replace('wind', '0') # odd parsing from earlier\n",
    "    records.TEMPERATURE = records.TEMPERATURE.astype(\"int\")\n",
    "    records.HUMIDITY = records.HUMIDITY.astype(\"int\")\n",
    "    records.WINDSPEED = records.WINDSPEED.astype(\"int\")\n",
    "\n",
    "    # Map the class to integer\n",
    "    class_map = {\n",
    "        'RUSH: LEFT': 0, \n",
    "        'RUSH: RIGHT': 1,\n",
    "        'RUSH: CENTER': 2,\n",
    "        'RUSH: QB KNEEL': 3,\n",
    "        'PASS: SCRAMBLE': 4, \n",
    "        'PASS: SACK': 5,\n",
    "        'KICK: PUNT': 6, \n",
    "        'KICK: FIELD GOAL': 7,\n",
    "        'PASS: SHORT RIGHT': 8, \n",
    "        'PASS: SHORT LEFT': 9, \n",
    "        'PASS: SHORT MIDDLE': 10, \n",
    "        'PASS: DEEP RIGHT': 11,\n",
    "        'PASS: DEEP LEFT': 12,\n",
    "        'PASS: DEEP MIDDLE': 13,\n",
    "        'RUSH: FUMBLES': 14,\n",
    "        'RUSH: DIRECT SNAP': 15,\n",
    "        0:0,\n",
    "        1:1,\n",
    "        2:2,\n",
    "        3:3,\n",
    "        4:4,\n",
    "        5:5,\n",
    "        6:6,\n",
    "        7:7,\n",
    "        8:8,\n",
    "        9:9,\n",
    "        10:10,\n",
    "        11:11,\n",
    "        12:12,\n",
    "        13:13,\n",
    "        14:14,\n",
    "        15:15\n",
    "    }\n",
    "    records['PLAY'] = records['PLAY'].map(class_map)\n",
    "\n",
    "    # Convert the game clock to absolute seconds left in game\n",
    "    records['CLOCK'] = 3600 - 900*records['QUARTER'] - 60*records['MINUTE'] - records['SECOND']\n",
    "\n",
    "    # Dummy the offense team\n",
    "    if offense:\n",
    "        df2 = pd.get_dummies(records.OFFENSETEAM)\n",
    "        dummies_frame = pd.get_dummies(teams)\n",
    "        df2 = df2.reindex(columns=dummies_frame.columns, fill_value=0)\n",
    "        df2.columns = map(lambda x: 'OFF_' + str(x), df2.columns)\n",
    "    \n",
    "    # Dummy the defense team\n",
    "    if defense:\n",
    "        df2 = pd.get_dummies(records.DEFENSETEAM)\n",
    "        dummies_frame = pd.get_dummies(teams)\n",
    "        df2 = df2.reindex(columns=dummies_frame.columns, fill_value=0)\n",
    "        df2.columns = map(lambda x: 'DEF_' + str(x), df2.columns)\n",
    "\n",
    "    # Dummy the formation\n",
    "    if formation:\n",
    "        df1 = pd.get_dummies(records.FORMATION)\n",
    "        dummies_frame = pd.get_dummies(formations)\n",
    "        df1 = df1.reindex(columns=dummies_frame.columns, fill_value=0)\n",
    "        df1.columns = map(lambda x: 'FORMATION_' + x.replace (' ', '_'), df1.columns)\n",
    "\n",
    "    # combine the dummy variables with any other column we're keeping\n",
    "    if (offense and formation):\n",
    "        records = pd.concat(\n",
    "            [records.ix[:,columns_to_keep],\n",
    "            df2,\n",
    "            df1], axis=1)\n",
    "    elif offense:\n",
    "        records = pd.concat(\n",
    "            [records.ix[:,columns_to_keep],\n",
    "            df2], axis=1)\n",
    "    elif formation:\n",
    "        records = pd.concat(\n",
    "            [records.ix[:,columns_to_keep],\n",
    "            df1], axis=1)\n",
    "    else:\n",
    "        records = pd.concat(\n",
    "            [records.ix[:,columns_to_keep]], axis=1)\n",
    "\n",
    "    return records"
   ]
  },
  {
   "cell_type": "code",
   "execution_count": 175,
   "metadata": {
    "collapsed": true
   },
   "outputs": [],
   "source": [
    "pbp_prep = prep_records_granular(pbp)"
   ]
  },
  {
   "cell_type": "code",
   "execution_count": 176,
   "metadata": {
    "collapsed": true
   },
   "outputs": [],
   "source": [
    "gbc = modeling.create_model(pbp_prep)"
   ]
  },
  {
   "cell_type": "code",
   "execution_count": 177,
   "metadata": {
    "collapsed": true
   },
   "outputs": [],
   "source": [
    "# read in the cleaned validation data\n",
    "pbp_v = pd.read_csv('../data/pbp-validation.csv')"
   ]
  },
  {
   "cell_type": "code",
   "execution_count": 178,
   "metadata": {
    "collapsed": false
   },
   "outputs": [],
   "source": [
    "pbp_v.drop(pbp_v.index[10468], inplace=True) # there's a bad record in there...\n",
    "pbp_v['PLAY'] = pbp_v.apply(lambda x: play_type_granular(x), axis=1)"
   ]
  },
  {
   "cell_type": "code",
   "execution_count": 179,
   "metadata": {
    "collapsed": true
   },
   "outputs": [],
   "source": [
    "# run the prep (dummy out TEAM and FORMATION, keep only some of the columns, replace UNKNOWN values with 'indoor' defaults)\n",
    "pbp_v_prep = prep_records_granular(pbp_v)\n",
    "\n",
    "# split the class from the values\n",
    "y = pbp_v_prep['PLAY']\n",
    "X = pbp_v_prep.drop(['PLAY'], axis=1).values\n",
    "col_names = pbp_v_prep.drop(['PLAY'], axis=1).columns"
   ]
  },
  {
   "cell_type": "code",
   "execution_count": 180,
   "metadata": {
    "collapsed": false
   },
   "outputs": [
    {
     "data": {
      "text/plain": [
       "0.31509216589861749"
      ]
     },
     "execution_count": 180,
     "metadata": {},
     "output_type": "execute_result"
    }
   ],
   "source": [
    "gbc.score(X, y)"
   ]
  },
  {
   "cell_type": "code",
   "execution_count": 181,
   "metadata": {
    "collapsed": true
   },
   "outputs": [],
   "source": [
    "y_pred = gbc.predict(X)"
   ]
  },
  {
   "cell_type": "code",
   "execution_count": 182,
   "metadata": {
    "collapsed": true
   },
   "outputs": [],
   "source": [
    "classes = [\n",
    "    'RUSH: LEFT', \n",
    "    'RUSH: RIGHT',\n",
    "    'RUSH: CENTER',\n",
    "    'RUSH: QB KNEEL',\n",
    "    'PASS: SCRAMBLE', \n",
    "    'PASS: SACK',\n",
    "    'KICK: PUNT', \n",
    "    'KICK: FIELD GOAL',\n",
    "    'PASS: SHORT RIGHT', \n",
    "    'PASS: SHORT LEFT', \n",
    "    'PASS: SHORT MIDDLE', \n",
    "    'PASS: DEEP RIGHT',\n",
    "    'PASS: DEEP LEFT',\n",
    "    'PASS: DEEP MIDDLE',\n",
    "    'RUSH: FUMBLES',\n",
    "    'RUSH: DIRECT SNAP'\n",
    "    ]"
   ]
  },
  {
   "cell_type": "code",
   "execution_count": 183,
   "metadata": {
    "collapsed": false
   },
   "outputs": [
    {
     "name": "stdout",
     "output_type": "stream",
     "text": [
      "Confusion matrix, without normalization\n",
      "[[ 577  368   86    9    0    0    0    2  347  106    7    0    0    0\n",
      "     0    0]\n",
      " [ 576  371   80   15    0    0    0    1  297   79    1    0    0    0\n",
      "     0    0]\n",
      " [ 306  237  154    9    0    0    1    4  278   91    5    0    0    0\n",
      "     0    0]\n",
      " [   8    2    1  122    0    0    0    0    2    1    0    0    0    0\n",
      "     0    0]\n",
      " [  24   21    8    1    0    0    0    1  132   46    5    0    0    0\n",
      "     0    0]\n",
      " [  39   24    4    0    0    0    0    1  236   88    7    0    0    0\n",
      "     0    0]\n",
      " [   0    0    0    0    0    0  833    0    0    0    0    0    0    0\n",
      "     0    0]\n",
      " [   1    0    2    5    0    0    2  314    3    0    1    0    0    0\n",
      "     0    0]\n",
      " [ 265  160   53    3    0    1    0    5 1015  418   32    0    0    0\n",
      "     0    1]\n",
      " [ 236  171   59    0    0    0    1    1  897  408   24    0    0    0\n",
      "     0    1]\n",
      " [ 114   87   33    3    0    0    2    5  649  285   35    0    0    0\n",
      "     0    0]\n",
      " [  73   62   18    0    0    0    1    0  236   92    6    0    0    0\n",
      "     0    0]\n",
      " [  80   56   13    0    0    0    0    1  207   83    5    0    0    0\n",
      "     0    0]\n",
      " [  45   28    4    0    0    0    0    1  136   50    8    0    0    0\n",
      "     0    0]\n",
      " [  10    5    2    0    0    0    0    1    9    4    0    0    0    0\n",
      "     0    0]\n",
      " [   1    2    0    0    0    0    0    0    7    1    0    0    0    0\n",
      "     0    0]]\n"
     ]
    },
    {
     "data": {
      "image/png": "[encoded data removed]",
      "text/plain": [
       "<matplotlib.figure.Figure at 0x11db3a290>"
      ]
     },
     "metadata": {},
     "output_type": "display_data"
    },
    {
     "data": {
      "text/plain": [
       "<matplotlib.figure.Figure at 0x117923450>"
      ]
     },
     "metadata": {},
     "output_type": "display_data"
    }
   ],
   "source": [
    "plot_confusion_matrix_pretty(confusion_matrix(y, y_pred), classes)"
   ]
  },
  {
   "cell_type": "code",
   "execution_count": 192,
   "metadata": {
    "collapsed": false
   },
   "outputs": [
    {
     "data": {
      "text/html": [
       "<div>\n",
       "<table border=\"1\" class=\"dataframe\">\n",
       "  <thead>\n",
       "    <tr style=\"text-align: right;\">\n",
       "      <th></th>\n",
       "      <th>index</th>\n",
       "      <th>GAMEID</th>\n",
       "      <th>GAMEDATE</th>\n",
       "      <th>QUARTER</th>\n",
       "      <th>MINUTE</th>\n",
       "      <th>SECOND</th>\n",
       "      <th>OFFENSETEAM</th>\n",
       "      <th>DEFENSETEAM</th>\n",
       "      <th>DOWN</th>\n",
       "      <th>TOGO</th>\n",
       "      <th>...</th>\n",
       "      <th>HOMETEAM</th>\n",
       "      <th>AWAYTEAM</th>\n",
       "      <th>HOMESCORE</th>\n",
       "      <th>AWAYSCORE</th>\n",
       "      <th>HUMIDITY</th>\n",
       "      <th>TEMPERATURE</th>\n",
       "      <th>WINDSPEED</th>\n",
       "      <th>ISATHOME</th>\n",
       "      <th>SCORINGMARGIN</th>\n",
       "      <th>CLOCK</th>\n",
       "    </tr>\n",
       "  </thead>\n",
       "  <tbody>\n",
       "    <tr>\n",
       "      <th>6754</th>\n",
       "      <td>14615</td>\n",
       "      <td>2014102600</td>\n",
       "      <td>2014-10-26</td>\n",
       "      <td>3</td>\n",
       "      <td>12</td>\n",
       "      <td>55</td>\n",
       "      <td>DET</td>\n",
       "      <td>ATL</td>\n",
       "      <td>1</td>\n",
       "      <td>10</td>\n",
       "      <td>...</td>\n",
       "      <td>ATL</td>\n",
       "      <td>DET</td>\n",
       "      <td>21</td>\n",
       "      <td>0</td>\n",
       "      <td>0</td>\n",
       "      <td>59</td>\n",
       "      <td>13</td>\n",
       "      <td>0</td>\n",
       "      <td>-21</td>\n",
       "      <td>125</td>\n",
       "    </tr>\n",
       "  </tbody>\n",
       "</table>\n",
       "<p>1 rows × 34 columns</p>\n",
       "</div>"
      ],
      "text/plain": [
       "      index      GAMEID    GAMEDATE QUARTER MINUTE SECOND OFFENSETEAM  \\\n",
       "6754  14615  2014102600  2014-10-26       3     12     55         DET   \n",
       "\n",
       "     DEFENSETEAM DOWN TOGO  ...  HOMETEAM AWAYTEAM HOMESCORE AWAYSCORE  \\\n",
       "6754         ATL    1   10  ...       ATL      DET        21         0   \n",
       "\n",
       "     HUMIDITY TEMPERATURE WINDSPEED ISATHOME SCORINGMARGIN CLOCK  \n",
       "6754        0          59        13        0           -21   125  \n",
       "\n",
       "[1 rows x 34 columns]"
      ]
     },
     "execution_count": 192,
     "metadata": {},
     "output_type": "execute_result"
    }
   ],
   "source": [
    "# pick a random play out of the data\n",
    "rand_play = pd.DataFrame(pbp_v.iloc[random.randint(0,pbp_v.shape[0])]).T\n",
    "rand_play"
   ]
  },
  {
   "cell_type": "code",
   "execution_count": 185,
   "metadata": {
    "collapsed": true
   },
   "outputs": [],
   "source": [
    "rand_play_prep = prep_records_granular(rand_play)"
   ]
  },
  {
   "cell_type": "code",
   "execution_count": 188,
   "metadata": {
    "collapsed": false
   },
   "outputs": [],
   "source": [
    "probas = gbc.predict_proba(rand_play_prep.drop(['PLAY'], axis=1).values)"
   ]
  },
  {
   "cell_type": "code",
   "execution_count": 191,
   "metadata": {
    "collapsed": false
   },
   "outputs": [
    {
     "data": {
      "text/plain": [
       "[('RUSH: LEFT', 0.18750957130939641),\n",
       " ('RUSH: RIGHT', 0.16101887092116893),\n",
       " ('RUSH: CENTER', 0.12608886170213221),\n",
       " ('RUSH: QB KNEEL', 0.0009151080961138585),\n",
       " ('PASS: SCRAMBLE', 0.016891794900607993),\n",
       " ('PASS: SACK', 0.030313763495706903),\n",
       " ('KICK: PUNT', 4.9869931874802529e-05),\n",
       " ('KICK: FIELD GOAL', 0.00016526243315241403),\n",
       " ('PASS: SHORT RIGHT', 0.14081366610338858),\n",
       " ('PASS: SHORT LEFT', 0.12470367566514151),\n",
       " ('PASS: SHORT MIDDLE', 0.079639463788206327),\n",
       " ('PASS: DEEP RIGHT', 0.051464516776091561),\n",
       " ('PASS: DEEP LEFT', 0.047688420893995373),\n",
       " ('PASS: DEEP MIDDLE', 0.028599899129039295),\n",
       " ('RUSH: FUMBLES', 0.0028846996954878397),\n",
       " ('RUSH: DIRECT SNAP', 0.0012525551584960011)]"
      ]
     },
     "execution_count": 191,
     "metadata": {},
     "output_type": "execute_result"
    }
   ],
   "source": [
    "zip(classes,probas[0])"
   ]
  },
  {
   "cell_type": "code",
   "execution_count": 193,
   "metadata": {
    "collapsed": false
   },
   "outputs": [
    {
     "data": {
      "text/plain": [
       "6754    (12:55) 38-G.WINN RIGHT GUARD TO ATL 48 FOR 2 ...\n",
       "Name: DESCRIPTION, dtype: object"
      ]
     },
     "execution_count": 193,
     "metadata": {},
     "output_type": "execute_result"
    }
   ],
   "source": [
    "rand_play.DESCRIPTION"
   ]
  },
  {
   "cell_type": "code",
   "execution_count": null,
   "metadata": {
    "collapsed": true
   },
   "outputs": [],
   "source": []
  }
 ],
 "metadata": {
  "anaconda-cloud": {},
  "kernelspec": {
   "display_name": "Python [conda root]",
   "language": "python",
   "name": "conda-root-py"
  },
  "language_info": {
   "codemirror_mode": {
    "name": "ipython",
    "version": 2
   },
   "file_extension": ".py",
   "mimetype": "text/x-python",
   "name": "python",
   "nbconvert_exporter": "python",
   "pygments_lexer": "ipython2",
   "version": "2.7.12"
  }
 },
 "nbformat": 4,
 "nbformat_minor": 1
}
