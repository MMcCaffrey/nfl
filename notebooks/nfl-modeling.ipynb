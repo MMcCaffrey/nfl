{
 "cells": [
  {
   "cell_type": "code",
   "execution_count": 18,
   "metadata": {
    "collapsed": false
   },
   "outputs": [],
   "source": [
    "import cPickle as pickle\n",
    "import pandas as pd\n",
    "import numpy as np\n",
    "import random \n",
    "\n",
    "from sklearn.linear_model import LogisticRegression\n",
    "from sklearn.ensemble import RandomForestClassifier\n",
    "from sklearn.ensemble import GradientBoostingClassifier\n",
    "from sklearn.svm import SVC\n",
    "from sklearn.tree import DecisionTreeClassifier\n",
    "from sklearn.neighbors import KNeighborsClassifier\n",
    "from sklearn.gaussian_process import GaussianProcessClassifier\n",
    "from sklearn.gaussian_process.kernels import RBF\n",
    "from sklearn.tree import DecisionTreeClassifier\n",
    "from sklearn.ensemble import RandomForestClassifier, AdaBoostClassifier\n",
    "from sklearn.naive_bayes import GaussianNB\n",
    "from sklearn.discriminant_analysis import QuadraticDiscriminantAnalysis\n",
    "from sklearn.neural_network import MLPClassifier\n",
    "\n",
    "from sklearn.model_selection import train_test_split\n",
    "from sklearn.model_selection import KFold\n",
    "from sklearn.grid_search import GridSearchCV\n",
    "from sklearn.model_selection import cross_val_score\n",
    "from sklearn.preprocessing import StandardScaler\n",
    "from sklearn.metrics import confusion_matrix, precision_score, recall_score\n",
    "\n",
    "# local code\n",
    "import sys\n",
    "sys.path.insert(0, '/Users/zgreyn/Documents/galvanize/projects/nfl/src')\n",
    "import combine\n",
    "import clean\n",
    "import scrape\n",
    "import modeling\n",
    "\n",
    "import matplotlib\n",
    "import seaborn\n",
    "%matplotlib inline"
   ]
  },
  {
   "cell_type": "code",
   "execution_count": 19,
   "metadata": {
    "collapsed": true
   },
   "outputs": [],
   "source": [
    "def plot_confusion_matrix(cm):\n",
    "    '''Code stolen brazenly from sklearn example.'''\n",
    "    print(cm)\n",
    "\n",
    "    # Show confusion matrix in a separate window\n",
    "    plt.matshow(cm)\n",
    "    plt.title('Confusion matrix')\n",
    "    plt.colorbar()\n",
    "    plt.ylabel('True label')\n",
    "    plt.xlabel('Predicted label')\n",
    "    plt.show()"
   ]
  },
  {
   "cell_type": "markdown",
   "metadata": {},
   "source": [
    "## Split off a validation set for the users and models to compete over; work with just the training set"
   ]
  },
  {
   "cell_type": "code",
   "execution_count": 20,
   "metadata": {
    "collapsed": false
   },
   "outputs": [],
   "source": [
    "# read in the cleaned training data\n",
    "pbp = pd.read_csv('../data/pbp-training.csv')"
   ]
  },
  {
   "cell_type": "code",
   "execution_count": 4,
   "metadata": {
    "collapsed": false
   },
   "outputs": [
    {
     "name": "stdout",
     "output_type": "stream",
     "text": [
      "training set:   (109372, 33)\n"
     ]
    }
   ],
   "source": [
    "print 'training set:  ', pbp.shape"
   ]
  },
  {
   "cell_type": "code",
   "execution_count": 5,
   "metadata": {
    "collapsed": false
   },
   "outputs": [
    {
     "name": "stdout",
     "output_type": "stream",
     "text": [
      "<class 'pandas.core.frame.DataFrame'>\n",
      "RangeIndex: 109372 entries, 0 to 109371\n",
      "Data columns (total 33 columns):\n",
      "index                109372 non-null int64\n",
      "GAMEID               109372 non-null int64\n",
      "GAMEDATE             109372 non-null object\n",
      "QUARTER              109372 non-null int64\n",
      "MINUTE               109372 non-null int64\n",
      "SECOND               109372 non-null int64\n",
      "OFFENSETEAM          109372 non-null object\n",
      "DEFENSETEAM          109372 non-null object\n",
      "DOWN                 109372 non-null int64\n",
      "TOGO                 109372 non-null int64\n",
      "YARDLINE             109372 non-null int64\n",
      "DESCRIPTION          109372 non-null object\n",
      "SEASONYEAR           109372 non-null int64\n",
      "YARDS                109372 non-null int64\n",
      "FORMATION            109371 non-null object\n",
      "PLAYTYPE             109372 non-null object\n",
      "PASSTYPE             55084 non-null object\n",
      "RUSHDIRECTION        36707 non-null object\n",
      "YARDLINEFIXED        109372 non-null int64\n",
      "YARDLINEDIRECTION    109372 non-null object\n",
      "PLAY                 109372 non-null object\n",
      "ISTURF               109372 non-null float64\n",
      "UNDERROOF            109372 non-null float64\n",
      "WEATHER              109372 non-null object\n",
      "HOMETEAM             109372 non-null object\n",
      "AWAYTEAM             109372 non-null object\n",
      "HOMESCORE            109372 non-null float64\n",
      "AWAYSCORE            109372 non-null float64\n",
      "HUMIDITY             109372 non-null object\n",
      "TEMPERATURE          109372 non-null object\n",
      "WINDSPEED            109372 non-null object\n",
      "ISATHOME             109372 non-null int64\n",
      "SCORINGMARGIN        109372 non-null float64\n",
      "dtypes: float64(5), int64(12), object(16)\n",
      "memory usage: 27.5+ MB\n"
     ]
    }
   ],
   "source": [
    "pbp.info()"
   ]
  },
  {
   "cell_type": "code",
   "execution_count": 21,
   "metadata": {
    "collapsed": false
   },
   "outputs": [],
   "source": [
    "# run the prep (dummy out TEAM and FORMATION, keep only some of the columns, replace UNKNOWN values with 'indoor' defaults)\n",
    "pbp_prep = modeling.prep_records(pbp)"
   ]
  },
  {
   "cell_type": "code",
   "execution_count": 7,
   "metadata": {
    "collapsed": false
   },
   "outputs": [
    {
     "name": "stdout",
     "output_type": "stream",
     "text": [
      "<class 'pandas.core.frame.DataFrame'>\n",
      "RangeIndex: 109372 entries, 0 to 109371\n",
      "Data columns (total 54 columns):\n",
      "QUARTER                        109372 non-null int64\n",
      "MINUTE                         109372 non-null int64\n",
      "SECOND                         109372 non-null int64\n",
      "DOWN                           109372 non-null int64\n",
      "TOGO                           109372 non-null int64\n",
      "YARDLINE                       109372 non-null int64\n",
      "SCORINGMARGIN                  109372 non-null float64\n",
      "ISTURF                         109372 non-null float64\n",
      "UNDERROOF                      109372 non-null float64\n",
      "ISATHOME                       109372 non-null int64\n",
      "TEMPERATURE                    109372 non-null int64\n",
      "HUMIDITY                       109372 non-null int64\n",
      "WINDSPEED                      109372 non-null int64\n",
      "SEASONYEAR                     109372 non-null int64\n",
      "PLAY                           109372 non-null int64\n",
      "TEAM_ARI                       109372 non-null uint8\n",
      "TEAM_ATL                       109372 non-null uint8\n",
      "TEAM_BAL                       109372 non-null uint8\n",
      "TEAM_BUF                       109372 non-null uint8\n",
      "TEAM_CAR                       109372 non-null uint8\n",
      "TEAM_CHI                       109372 non-null uint8\n",
      "TEAM_CIN                       109372 non-null uint8\n",
      "TEAM_CLE                       109372 non-null uint8\n",
      "TEAM_DAL                       109372 non-null uint8\n",
      "TEAM_DEN                       109372 non-null uint8\n",
      "TEAM_DET                       109372 non-null uint8\n",
      "TEAM_GB                        109372 non-null uint8\n",
      "TEAM_HOU                       109372 non-null uint8\n",
      "TEAM_IND                       109372 non-null uint8\n",
      "TEAM_JAX                       109372 non-null uint8\n",
      "TEAM_KC                        109372 non-null uint8\n",
      "TEAM_LA                        109372 non-null uint8\n",
      "TEAM_MIA                       109372 non-null uint8\n",
      "TEAM_MIN                       109372 non-null uint8\n",
      "TEAM_NE                        109372 non-null uint8\n",
      "TEAM_NO                        109372 non-null uint8\n",
      "TEAM_NYG                       109372 non-null uint8\n",
      "TEAM_NYJ                       109372 non-null uint8\n",
      "TEAM_OAK                       109372 non-null uint8\n",
      "TEAM_PHI                       109372 non-null uint8\n",
      "TEAM_PIT                       109372 non-null uint8\n",
      "TEAM_SD                        109372 non-null uint8\n",
      "TEAM_SEA                       109372 non-null uint8\n",
      "TEAM_SF                        109372 non-null uint8\n",
      "TEAM_TB                        109372 non-null uint8\n",
      "TEAM_TEN                       109372 non-null uint8\n",
      "TEAM_WAS                       109372 non-null uint8\n",
      "FORMATION_FIELD_GOAL           109372 non-null int64\n",
      "FORMATION_NO_HUDDLE            109372 non-null int64\n",
      "FORMATION_NO_HUDDLE_SHOTGUN    109372 non-null int64\n",
      "FORMATION_PUNT                 109372 non-null uint8\n",
      "FORMATION_SHOTGUN              109372 non-null uint8\n",
      "FORMATION_UNDER_CENTER         109372 non-null int64\n",
      "FORMATION_WILDCAT              109372 non-null uint8\n",
      "dtypes: float64(3), int64(16), uint8(35)\n",
      "memory usage: 19.5 MB\n"
     ]
    }
   ],
   "source": [
    "pbp_prep.info()"
   ]
  },
  {
   "cell_type": "code",
   "execution_count": 8,
   "metadata": {
    "collapsed": false
   },
   "outputs": [],
   "source": [
    "# split the class from the values\n",
    "y = pbp_prep['PLAY']\n",
    "X = pbp_prep.drop(['PLAY'], axis=1).values\n",
    "col_names = pbp_prep.drop(['PLAY'], axis=1).columns"
   ]
  },
  {
   "cell_type": "code",
   "execution_count": 9,
   "metadata": {
    "collapsed": true
   },
   "outputs": [],
   "source": [
    "# read in the cleaned training data\n",
    "pbp_v = pd.read_csv('../data/pbp-validation.csv')\n",
    "pbp_v_prep = modeling.prep_records(pbp_v)"
   ]
  },
  {
   "cell_type": "code",
   "execution_count": 10,
   "metadata": {
    "collapsed": false
   },
   "outputs": [
    {
     "data": {
      "text/plain": [
       "(12153, 33)"
      ]
     },
     "execution_count": 10,
     "metadata": {},
     "output_type": "execute_result"
    }
   ],
   "source": [
    "pbp_v.shape"
   ]
  },
  {
   "cell_type": "code",
   "execution_count": 11,
   "metadata": {
    "collapsed": true
   },
   "outputs": [],
   "source": [
    "# split the class from the values\n",
    "y_test = pbp_v_prep['PLAY']\n",
    "X_test = pbp_v_prep.drop(['PLAY'], axis=1).values"
   ]
  },
  {
   "cell_type": "markdown",
   "metadata": {},
   "source": [
    "### Basic Model Using All Seasons and All Teams"
   ]
  },
  {
   "cell_type": "code",
   "execution_count": 12,
   "metadata": {
    "collapsed": false
   },
   "outputs": [
    {
     "name": "stdout",
     "output_type": "stream",
     "text": [
      "[ 0.75736464  0.75149487  0.75249616]\n"
     ]
    }
   ],
   "source": [
    "# gradient boosting classifier\n",
    "gbc = GradientBoostingClassifier(subsample=0.5)\n",
    "gbc.fit(X, y)\n",
    "print(cross_val_score(gbc, X, y)) "
   ]
  },
  {
   "cell_type": "code",
   "execution_count": 13,
   "metadata": {
    "collapsed": false,
    "scrolled": false
   },
   "outputs": [
    {
     "name": "stdout",
     "output_type": "stream",
     "text": [
      "0.761128939357\n",
      "[[1143    8   10]\n",
      " [  20 5465 1322]\n",
      " [  10 1533 2642]]\n"
     ]
    },
    {
     "data": {
      "image/png": "[encoded data removed]",
      "text/plain": [
       "<matplotlib.figure.Figure at 0x1161ef8d0>"
      ]
     },
     "metadata": {},
     "output_type": "display_data"
    }
   ],
   "source": [
    "y_pred = gbc.predict(X_test)\n",
    "print gbc.score(X_test, y_test)\n",
    "plot_confusion_matrix(confusion_matrix(y_test, y_pred))"
   ]
  },
  {
   "cell_type": "code",
   "execution_count": 148,
   "metadata": {
    "collapsed": false
   },
   "outputs": [],
   "source": [
    "# save the model\n",
    "with open('../data/gbc-v4.pkl', 'w') as f:\n",
    "    pickle.dump(gbc, f)"
   ]
  },
  {
   "cell_type": "markdown",
   "metadata": {},
   "source": [
    "### Try putting in the season"
   ]
  },
  {
   "cell_type": "code",
   "execution_count": 34,
   "metadata": {
    "collapsed": true
   },
   "outputs": [],
   "source": [
    "df16 = pd.read_csv('../data/pbp2016-clean.csv')\n",
    "df15 = pd.read_csv('../data/pbp2015-clean.csv')\n",
    "df14 = pd.read_csv('../data/pbp2014-clean.csv')\n",
    "df13 = pd.read_csv('../data/pbp2013-clean.csv')"
   ]
  },
  {
   "cell_type": "code",
   "execution_count": 35,
   "metadata": {
    "collapsed": true
   },
   "outputs": [],
   "source": [
    "df16['Season'] = 2016\n",
    "df15['Season'] = 2015\n",
    "df14['Season'] = 2014\n",
    "df13['Season'] = 2013"
   ]
  },
  {
   "cell_type": "code",
   "execution_count": 36,
   "metadata": {
    "collapsed": true
   },
   "outputs": [],
   "source": [
    "df = pd.concat([df16, df15, df14, df13])"
   ]
  },
  {
   "cell_type": "code",
   "execution_count": 37,
   "metadata": {
    "collapsed": true
   },
   "outputs": [],
   "source": [
    "df_prepped = prep(df)"
   ]
  },
  {
   "cell_type": "code",
   "execution_count": 38,
   "metadata": {
    "collapsed": true
   },
   "outputs": [],
   "source": [
    "# split the class from the values\n",
    "y = df_prepped['Play']\n",
    "X = df_prepped.drop(['Play'], axis=1).values\n",
    "\n",
    "# save a test set\n",
    "X_train, X_test, y_train, y_test = train_test_split(X, y, random_state=22)"
   ]
  },
  {
   "cell_type": "code",
   "execution_count": 39,
   "metadata": {
    "collapsed": true
   },
   "outputs": [],
   "source": [
    "# gradient boosting classifier\n",
    "gbc = GradientBoostingClassifier()\n",
    "gbc.fit(X_train, y_train)\n",
    "y_pred = gbc.predict(X_test)"
   ]
  },
  {
   "cell_type": "code",
   "execution_count": 40,
   "metadata": {
    "collapsed": false
   },
   "outputs": [
    {
     "data": {
      "text/plain": [
       "0.76352592592592594"
      ]
     },
     "execution_count": 40,
     "metadata": {},
     "output_type": "execute_result"
    }
   ],
   "source": [
    "gbc.score(X_test, y_test)"
   ]
  },
  {
   "cell_type": "code",
   "execution_count": 41,
   "metadata": {
    "collapsed": false
   },
   "outputs": [
    {
     "name": "stdout",
     "output_type": "stream",
     "text": [
      "[[ 3150     3    12]\n",
      " [    6 14807  3999]\n",
      " [    7  3954  7812]]\n"
     ]
    },
    {
     "data": {
      "image/png": "[encoded data removed]",
      "text/plain": [
       "<matplotlib.figure.Figure at 0x119866590>"
      ]
     },
     "metadata": {},
     "output_type": "display_data"
    }
   ],
   "source": [
    "plot_confusion_matrix(confusion_matrix(y_test, y_pred))"
   ]
  },
  {
   "cell_type": "markdown",
   "metadata": {},
   "source": [
    "#### Tried this experiment without the 2016 data and it seems to make things worse"
   ]
  },
  {
   "cell_type": "markdown",
   "metadata": {},
   "source": [
    "### Try losing the offense"
   ]
  },
  {
   "cell_type": "code",
   "execution_count": 42,
   "metadata": {
    "collapsed": true
   },
   "outputs": [],
   "source": [
    "df = pbp_train_raw.copy()"
   ]
  },
  {
   "cell_type": "code",
   "execution_count": 43,
   "metadata": {
    "collapsed": false
   },
   "outputs": [],
   "source": [
    "# A few columns have to go for us to build a model (though we use them for user presentation)\n",
    "df.drop(['YardLineFixed', 'YardLineDirection','Description', 'PlayType', \\\n",
    "         'PassType', 'RushDirection', 'Yards', 'DefenseTeam', 'OffenseTeam'], axis=1, inplace=True)\n",
    "\n",
    "# create dummy variables for formations\n",
    "form_dummies = pd.get_dummies(df.Formation)\n",
    "form_dummies.columns = map(lambda x: 'FORMATION_' + x.replace (' ', '_'), form_dummies.columns)\n",
    "\n",
    "# combine the dummy variables and drop the categorical versions\n",
    "df_prepped = pd.concat(\n",
    "    [df.ix[:,['Quarter', 'Minute', 'Second', 'Down', 'ToGo', 'YardLine', 'Play']],\n",
    "    form_dummies], axis=1)"
   ]
  },
  {
   "cell_type": "code",
   "execution_count": 44,
   "metadata": {
    "collapsed": false
   },
   "outputs": [
    {
     "data": {
      "text/html": [
       "<div>\n",
       "<table border=\"1\" class=\"dataframe\">\n",
       "  <thead>\n",
       "    <tr style=\"text-align: right;\">\n",
       "      <th></th>\n",
       "      <th>Quarter</th>\n",
       "      <th>Minute</th>\n",
       "      <th>Second</th>\n",
       "      <th>Down</th>\n",
       "      <th>ToGo</th>\n",
       "      <th>YardLine</th>\n",
       "      <th>Play</th>\n",
       "      <th>FORMATION_FIELD_GOAL</th>\n",
       "      <th>FORMATION_NO_HUDDLE</th>\n",
       "      <th>FORMATION_NO_HUDDLE_SHOTGUN</th>\n",
       "      <th>FORMATION_PUNT</th>\n",
       "      <th>FORMATION_SHOTGUN</th>\n",
       "      <th>FORMATION_UNDER_CENTER</th>\n",
       "      <th>FORMATION_WILDCAT</th>\n",
       "    </tr>\n",
       "  </thead>\n",
       "  <tbody>\n",
       "    <tr>\n",
       "      <th>0</th>\n",
       "      <td>1</td>\n",
       "      <td>7</td>\n",
       "      <td>30</td>\n",
       "      <td>1</td>\n",
       "      <td>10</td>\n",
       "      <td>31</td>\n",
       "      <td>PASS</td>\n",
       "      <td>0</td>\n",
       "      <td>0</td>\n",
       "      <td>0</td>\n",
       "      <td>0</td>\n",
       "      <td>0</td>\n",
       "      <td>1</td>\n",
       "      <td>0</td>\n",
       "    </tr>\n",
       "    <tr>\n",
       "      <th>1</th>\n",
       "      <td>3</td>\n",
       "      <td>7</td>\n",
       "      <td>10</td>\n",
       "      <td>2</td>\n",
       "      <td>7</td>\n",
       "      <td>90</td>\n",
       "      <td>PASS</td>\n",
       "      <td>0</td>\n",
       "      <td>0</td>\n",
       "      <td>0</td>\n",
       "      <td>0</td>\n",
       "      <td>1</td>\n",
       "      <td>0</td>\n",
       "      <td>0</td>\n",
       "    </tr>\n",
       "    <tr>\n",
       "      <th>2</th>\n",
       "      <td>4</td>\n",
       "      <td>4</td>\n",
       "      <td>53</td>\n",
       "      <td>4</td>\n",
       "      <td>21</td>\n",
       "      <td>59</td>\n",
       "      <td>KICK</td>\n",
       "      <td>0</td>\n",
       "      <td>0</td>\n",
       "      <td>0</td>\n",
       "      <td>1</td>\n",
       "      <td>0</td>\n",
       "      <td>0</td>\n",
       "      <td>0</td>\n",
       "    </tr>\n",
       "    <tr>\n",
       "      <th>3</th>\n",
       "      <td>4</td>\n",
       "      <td>5</td>\n",
       "      <td>30</td>\n",
       "      <td>1</td>\n",
       "      <td>1</td>\n",
       "      <td>99</td>\n",
       "      <td>RUSH</td>\n",
       "      <td>0</td>\n",
       "      <td>0</td>\n",
       "      <td>0</td>\n",
       "      <td>0</td>\n",
       "      <td>0</td>\n",
       "      <td>1</td>\n",
       "      <td>0</td>\n",
       "    </tr>\n",
       "    <tr>\n",
       "      <th>4</th>\n",
       "      <td>3</td>\n",
       "      <td>7</td>\n",
       "      <td>20</td>\n",
       "      <td>3</td>\n",
       "      <td>5</td>\n",
       "      <td>75</td>\n",
       "      <td>PASS</td>\n",
       "      <td>0</td>\n",
       "      <td>0</td>\n",
       "      <td>1</td>\n",
       "      <td>0</td>\n",
       "      <td>0</td>\n",
       "      <td>0</td>\n",
       "      <td>0</td>\n",
       "    </tr>\n",
       "  </tbody>\n",
       "</table>\n",
       "</div>"
      ],
      "text/plain": [
       "   Quarter  Minute  Second  Down  ToGo  YardLine  Play  FORMATION_FIELD_GOAL  \\\n",
       "0        1       7      30     1    10        31  PASS                     0   \n",
       "1        3       7      10     2     7        90  PASS                     0   \n",
       "2        4       4      53     4    21        59  KICK                     0   \n",
       "3        4       5      30     1     1        99  RUSH                     0   \n",
       "4        3       7      20     3     5        75  PASS                     0   \n",
       "\n",
       "   FORMATION_NO_HUDDLE  FORMATION_NO_HUDDLE_SHOTGUN  FORMATION_PUNT  \\\n",
       "0                    0                            0               0   \n",
       "1                    0                            0               0   \n",
       "2                    0                            0               1   \n",
       "3                    0                            0               0   \n",
       "4                    0                            1               0   \n",
       "\n",
       "   FORMATION_SHOTGUN  FORMATION_UNDER_CENTER  FORMATION_WILDCAT  \n",
       "0                  0                       1                  0  \n",
       "1                  1                       0                  0  \n",
       "2                  0                       0                  0  \n",
       "3                  0                       1                  0  \n",
       "4                  0                       0                  0  "
      ]
     },
     "execution_count": 44,
     "metadata": {},
     "output_type": "execute_result"
    }
   ],
   "source": [
    "df_prepped.head()"
   ]
  },
  {
   "cell_type": "code",
   "execution_count": 45,
   "metadata": {
    "collapsed": true
   },
   "outputs": [],
   "source": [
    "# split the class from the values\n",
    "y = df_prepped['Play']\n",
    "X = df_prepped.drop(['Play'], axis=1).values\n",
    "\n",
    "# save a test set\n",
    "X_train, X_test, y_train, y_test = train_test_split(X, y, random_state=22)"
   ]
  },
  {
   "cell_type": "code",
   "execution_count": 46,
   "metadata": {
    "collapsed": true
   },
   "outputs": [],
   "source": [
    "# gradient boosting classifier\n",
    "gbc = GradientBoostingClassifier()\n",
    "gbc.fit(X_train, y_train)\n",
    "y_pred = gbc.predict(X_test)"
   ]
  },
  {
   "cell_type": "code",
   "execution_count": 47,
   "metadata": {
    "collapsed": false
   },
   "outputs": [
    {
     "data": {
      "text/plain": [
       "0.76651851851851849"
      ]
     },
     "execution_count": 47,
     "metadata": {},
     "output_type": "execute_result"
    }
   ],
   "source": [
    "gbc.score(X_test, y_test)"
   ]
  },
  {
   "cell_type": "code",
   "execution_count": 48,
   "metadata": {
    "collapsed": false
   },
   "outputs": [
    {
     "name": "stdout",
     "output_type": "stream",
     "text": [
      "[[ 2866     1     5]\n",
      " [   15 13367  3489]\n",
      " [    6  3576  7050]]\n"
     ]
    },
    {
     "data": {
      "image/png": "[encoded data removed]",
      "text/plain": [
       "<matplotlib.figure.Figure at 0x11604aa90>"
      ]
     },
     "metadata": {},
     "output_type": "display_data"
    }
   ],
   "source": [
    "plot_confusion_matrix(confusion_matrix(y_test, y_pred))"
   ]
  },
  {
   "cell_type": "markdown",
   "metadata": {},
   "source": [
    "#### Very slight decline here; this should still be suitable for a prior \"conventional wisdom\" model"
   ]
  },
  {
   "cell_type": "markdown",
   "metadata": {},
   "source": [
    "### Try keeping the defense in"
   ]
  },
  {
   "cell_type": "code",
   "execution_count": 149,
   "metadata": {
    "collapsed": true
   },
   "outputs": [],
   "source": [
    "df = pbp_train_raw.copy()"
   ]
  },
  {
   "cell_type": "code",
   "execution_count": 150,
   "metadata": {
    "collapsed": true
   },
   "outputs": [],
   "source": [
    "# A few columns have to go for us to build a model (though we use them for user presentation)\n",
    "df.drop(['YardLineFixed', 'YardLineDirection','Description', 'PlayType', \\\n",
    "         'PassType', 'RushDirection', 'Yards'], axis=1, inplace=True)\n",
    "\n",
    "# create dummy variables for formations\n",
    "form_dummies = pd.get_dummies(df.Formation)\n",
    "form_dummies.columns = map(lambda x: 'FORMATION_' + x.replace (' ', '_'), form_dummies.columns)\n",
    "\n",
    "# create dummy variables for offensive teams\n",
    "off_team_dummies = pd.get_dummies(df.OffenseTeam)\n",
    "off_team_dummies.columns = map(lambda x: 'OFF_' + str(x), off_team_dummies.columns)\n",
    "\n",
    "# create dummy variables for offensive teams\n",
    "def_team_dummies = pd.get_dummies(df.DefenseTeam)\n",
    "def_team_dummies.columns = map(lambda x: 'DEF_' + str(x), def_team_dummies.columns)\n",
    "\n",
    "# combine the dummy variables and drop the categorical versions\n",
    "df_prepped = pd.concat(\n",
    "    [df.ix[:,['Quarter', 'Minute', 'Second', 'Down', 'ToGo', 'YardLine', 'Play']],\n",
    "    off_team_dummies,\n",
    "    def_team_dummies,\n",
    "    form_dummies], axis=1)"
   ]
  },
  {
   "cell_type": "code",
   "execution_count": 151,
   "metadata": {
    "collapsed": false
   },
   "outputs": [
    {
     "data": {
      "text/plain": [
       "Index([u'Quarter', u'Minute', u'Second', u'Down', u'ToGo', u'YardLine',\n",
       "       u'Play', u'OFF_ARI', u'OFF_ATL', u'OFF_BAL', u'OFF_BUF', u'OFF_CAR',\n",
       "       u'OFF_CHI', u'OFF_CIN', u'OFF_CLE', u'OFF_DAL', u'OFF_DEN', u'OFF_DET',\n",
       "       u'OFF_GB', u'OFF_HOU', u'OFF_IND', u'OFF_JAX', u'OFF_KC', u'OFF_LA',\n",
       "       u'OFF_MIA', u'OFF_MIN', u'OFF_NE', u'OFF_NO', u'OFF_NYG', u'OFF_NYJ',\n",
       "       u'OFF_OAK', u'OFF_PHI', u'OFF_PIT', u'OFF_SD', u'OFF_SEA', u'OFF_SF',\n",
       "       u'OFF_TB', u'OFF_TEN', u'OFF_WAS', u'DEF_ARI', u'DEF_ATL', u'DEF_BAL',\n",
       "       u'DEF_BUF', u'DEF_CAR', u'DEF_CHI', u'DEF_CIN', u'DEF_CLE', u'DEF_DAL',\n",
       "       u'DEF_DEN', u'DEF_DET', u'DEF_GB', u'DEF_HOU', u'DEF_IND', u'DEF_JAX',\n",
       "       u'DEF_KC', u'DEF_LA', u'DEF_MIA', u'DEF_MIN', u'DEF_NE', u'DEF_NO',\n",
       "       u'DEF_NYG', u'DEF_NYJ', u'DEF_OAK', u'DEF_PHI', u'DEF_PIT', u'DEF_SD',\n",
       "       u'DEF_SEA', u'DEF_SF', u'DEF_TB', u'DEF_TEN', u'DEF_WAS',\n",
       "       u'FORMATION_FIELD_GOAL', u'FORMATION_NO_HUDDLE',\n",
       "       u'FORMATION_NO_HUDDLE_SHOTGUN', u'FORMATION_PUNT', u'FORMATION_SHOTGUN',\n",
       "       u'FORMATION_UNDER_CENTER', u'FORMATION_WILDCAT'],\n",
       "      dtype='object')"
      ]
     },
     "execution_count": 151,
     "metadata": {},
     "output_type": "execute_result"
    }
   ],
   "source": [
    "df_prepped.columns"
   ]
  },
  {
   "cell_type": "code",
   "execution_count": 152,
   "metadata": {
    "collapsed": true
   },
   "outputs": [],
   "source": [
    "# split the class from the values\n",
    "y = df_prepped['Play']\n",
    "X = df_prepped.drop(['Play'], axis=1).values\n",
    "\n",
    "# save a test set\n",
    "X_train, X_test, y_train, y_test = train_test_split(X, y, random_state=22)"
   ]
  },
  {
   "cell_type": "code",
   "execution_count": 153,
   "metadata": {
    "collapsed": true
   },
   "outputs": [],
   "source": [
    "# gradient boosting classifier\n",
    "gbc = GradientBoostingClassifier()\n",
    "gbc.fit(X_train, y_train)\n",
    "y_pred = gbc.predict(X_test)"
   ]
  },
  {
   "cell_type": "code",
   "execution_count": 154,
   "metadata": {
    "collapsed": false
   },
   "outputs": [
    {
     "data": {
      "text/plain": [
       "0.76678189300411526"
      ]
     },
     "execution_count": 154,
     "metadata": {},
     "output_type": "execute_result"
    }
   ],
   "source": [
    "gbc.score(X_test, y_test)"
   ]
  },
  {
   "cell_type": "code",
   "execution_count": 155,
   "metadata": {
    "collapsed": false
   },
   "outputs": [
    {
     "name": "stdout",
     "output_type": "stream",
     "text": [
      "[[ 2835     4     9]\n",
      " [   17 13417  3505]\n",
      " [    2  3547  7039]]\n"
     ]
    },
    {
     "data": {
      "image/png": "[encoded data removed]",
      "text/plain": [
       "<matplotlib.figure.Figure at 0x116217190>"
      ]
     },
     "metadata": {},
     "output_type": "display_data"
    }
   ],
   "source": [
    "plot_confusion_matrix(confusion_matrix(y_test, y_pred))"
   ]
  },
  {
   "cell_type": "markdown",
   "metadata": {},
   "source": [
    "#### Very slight lift from using the defense; not enough to worry about"
   ]
  },
  {
   "cell_type": "markdown",
   "metadata": {},
   "source": [
    "### Try using the no-offense model as a prior for another team-based model\n",
    "\n",
    "* After discussing this, it won't help to stack the same model on itself.  If we're going to stack, vary the model types.  Also, don't use the probabilities as features, use the log-odds."
   ]
  },
  {
   "cell_type": "markdown",
   "metadata": {},
   "source": [
    "#### Train a no-offense model"
   ]
  },
  {
   "cell_type": "code",
   "execution_count": 156,
   "metadata": {
    "collapsed": true
   },
   "outputs": [],
   "source": [
    "df = pbp_train_raw.copy()"
   ]
  },
  {
   "cell_type": "code",
   "execution_count": 157,
   "metadata": {
    "collapsed": false
   },
   "outputs": [],
   "source": [
    "# A few columns have to go for us to build a model (though we use them for user presentation)\n",
    "df.drop(['YardLineFixed', 'YardLineDirection','Description', 'PlayType', \\\n",
    "         'PassType', 'RushDirection', 'Yards', 'DefenseTeam', 'OffenseTeam'], axis=1, inplace=True)\n",
    "\n",
    "# create dummy variables for formations\n",
    "form_dummies = pd.get_dummies(df.Formation)\n",
    "form_dummies.columns = map(lambda x: 'FORMATION_' + x.replace (' ', '_'), form_dummies.columns)\n",
    "\n",
    "# combine the dummy variables and drop the categorical versions\n",
    "df_prepped = pd.concat(\n",
    "    [df.ix[:,['Quarter', 'Minute', 'Second', 'Down', 'ToGo', 'YardLine', 'Play']],\n",
    "    form_dummies], axis=1)"
   ]
  },
  {
   "cell_type": "code",
   "execution_count": 158,
   "metadata": {
    "collapsed": false
   },
   "outputs": [
    {
     "data": {
      "text/html": [
       "<div>\n",
       "<table border=\"1\" class=\"dataframe\">\n",
       "  <thead>\n",
       "    <tr style=\"text-align: right;\">\n",
       "      <th></th>\n",
       "      <th>Quarter</th>\n",
       "      <th>Minute</th>\n",
       "      <th>Second</th>\n",
       "      <th>Down</th>\n",
       "      <th>ToGo</th>\n",
       "      <th>YardLine</th>\n",
       "      <th>Play</th>\n",
       "      <th>FORMATION_FIELD_GOAL</th>\n",
       "      <th>FORMATION_NO_HUDDLE</th>\n",
       "      <th>FORMATION_NO_HUDDLE_SHOTGUN</th>\n",
       "      <th>FORMATION_PUNT</th>\n",
       "      <th>FORMATION_SHOTGUN</th>\n",
       "      <th>FORMATION_UNDER_CENTER</th>\n",
       "      <th>FORMATION_WILDCAT</th>\n",
       "    </tr>\n",
       "  </thead>\n",
       "  <tbody>\n",
       "    <tr>\n",
       "      <th>0</th>\n",
       "      <td>3</td>\n",
       "      <td>4</td>\n",
       "      <td>8</td>\n",
       "      <td>1</td>\n",
       "      <td>10</td>\n",
       "      <td>46</td>\n",
       "      <td>PASS</td>\n",
       "      <td>0</td>\n",
       "      <td>0</td>\n",
       "      <td>0</td>\n",
       "      <td>0</td>\n",
       "      <td>0</td>\n",
       "      <td>1</td>\n",
       "      <td>0</td>\n",
       "    </tr>\n",
       "    <tr>\n",
       "      <th>1</th>\n",
       "      <td>3</td>\n",
       "      <td>6</td>\n",
       "      <td>3</td>\n",
       "      <td>1</td>\n",
       "      <td>10</td>\n",
       "      <td>31</td>\n",
       "      <td>PASS</td>\n",
       "      <td>0</td>\n",
       "      <td>0</td>\n",
       "      <td>0</td>\n",
       "      <td>0</td>\n",
       "      <td>0</td>\n",
       "      <td>1</td>\n",
       "      <td>0</td>\n",
       "    </tr>\n",
       "    <tr>\n",
       "      <th>2</th>\n",
       "      <td>2</td>\n",
       "      <td>11</td>\n",
       "      <td>40</td>\n",
       "      <td>1</td>\n",
       "      <td>10</td>\n",
       "      <td>20</td>\n",
       "      <td>PASS</td>\n",
       "      <td>0</td>\n",
       "      <td>0</td>\n",
       "      <td>0</td>\n",
       "      <td>0</td>\n",
       "      <td>0</td>\n",
       "      <td>1</td>\n",
       "      <td>0</td>\n",
       "    </tr>\n",
       "    <tr>\n",
       "      <th>3</th>\n",
       "      <td>3</td>\n",
       "      <td>8</td>\n",
       "      <td>8</td>\n",
       "      <td>1</td>\n",
       "      <td>10</td>\n",
       "      <td>17</td>\n",
       "      <td>RUSH</td>\n",
       "      <td>0</td>\n",
       "      <td>0</td>\n",
       "      <td>0</td>\n",
       "      <td>0</td>\n",
       "      <td>1</td>\n",
       "      <td>0</td>\n",
       "      <td>0</td>\n",
       "    </tr>\n",
       "    <tr>\n",
       "      <th>4</th>\n",
       "      <td>1</td>\n",
       "      <td>7</td>\n",
       "      <td>3</td>\n",
       "      <td>4</td>\n",
       "      <td>4</td>\n",
       "      <td>24</td>\n",
       "      <td>KICK</td>\n",
       "      <td>0</td>\n",
       "      <td>0</td>\n",
       "      <td>0</td>\n",
       "      <td>1</td>\n",
       "      <td>0</td>\n",
       "      <td>0</td>\n",
       "      <td>0</td>\n",
       "    </tr>\n",
       "  </tbody>\n",
       "</table>\n",
       "</div>"
      ],
      "text/plain": [
       "   Quarter  Minute  Second  Down  ToGo  YardLine  Play  FORMATION_FIELD_GOAL  \\\n",
       "0        3       4       8     1    10        46  PASS                     0   \n",
       "1        3       6       3     1    10        31  PASS                     0   \n",
       "2        2      11      40     1    10        20  PASS                     0   \n",
       "3        3       8       8     1    10        17  RUSH                     0   \n",
       "4        1       7       3     4     4        24  KICK                     0   \n",
       "\n",
       "   FORMATION_NO_HUDDLE  FORMATION_NO_HUDDLE_SHOTGUN  FORMATION_PUNT  \\\n",
       "0                    0                            0               0   \n",
       "1                    0                            0               0   \n",
       "2                    0                            0               0   \n",
       "3                    0                            0               0   \n",
       "4                    0                            0               1   \n",
       "\n",
       "   FORMATION_SHOTGUN  FORMATION_UNDER_CENTER  FORMATION_WILDCAT  \n",
       "0                  0                       1                  0  \n",
       "1                  0                       1                  0  \n",
       "2                  0                       1                  0  \n",
       "3                  1                       0                  0  \n",
       "4                  0                       0                  0  "
      ]
     },
     "execution_count": 158,
     "metadata": {},
     "output_type": "execute_result"
    }
   ],
   "source": [
    "df_prepped.head()"
   ]
  },
  {
   "cell_type": "code",
   "execution_count": 159,
   "metadata": {
    "collapsed": true
   },
   "outputs": [],
   "source": [
    "# split the class from the values\n",
    "y = df_prepped['Play']\n",
    "X = df_prepped.drop(['Play'], axis=1).values"
   ]
  },
  {
   "cell_type": "code",
   "execution_count": 160,
   "metadata": {
    "collapsed": false
   },
   "outputs": [
    {
     "data": {
      "text/plain": [
       "GradientBoostingClassifier(criterion='friedman_mse', init=None,\n",
       "              learning_rate=0.1, loss='deviance', max_depth=3,\n",
       "              max_features=None, max_leaf_nodes=None,\n",
       "              min_impurity_split=1e-07, min_samples_leaf=1,\n",
       "              min_samples_split=2, min_weight_fraction_leaf=0.0,\n",
       "              n_estimators=100, presort='auto', random_state=None,\n",
       "              subsample=1.0, verbose=0, warm_start=False)"
      ]
     },
     "execution_count": 160,
     "metadata": {},
     "output_type": "execute_result"
    }
   ],
   "source": [
    "# gradient boosting classifier\n",
    "gbc_cw = GradientBoostingClassifier()\n",
    "gbc_cw.fit(X,y)"
   ]
  },
  {
   "cell_type": "markdown",
   "metadata": {},
   "source": [
    "#### we want to add 3 columns to the original dataframe: PROB_PASS, PROB_RUSH, PROB_KICK"
   ]
  },
  {
   "cell_type": "code",
   "execution_count": 161,
   "metadata": {
    "collapsed": true
   },
   "outputs": [],
   "source": [
    "def get_probas(record):\n",
    "    \n",
    "    '''\n",
    "    This takes a dataframe and puts it in the format the conventional wisdom model expects.\n",
    "    '''\n",
    "\n",
    "    formations = [\n",
    "    'FIELD_GOAL',\n",
    "    'NO_HUDDLE',\n",
    "    'NO_HUDDLE_SHOTGUN',\n",
    "    'PUNT',\n",
    "    'SHOTGUN',\n",
    "    'UNDER_CENTER',\n",
    "    'WILDCAT']\n",
    "\n",
    "\n",
    "    # Dummy the formation\n",
    "    df1 = pd.get_dummies(record.Formation)\n",
    "    dummies_frame = pd.get_dummies(formations)\n",
    "    df1 = df1.reindex(columns=dummies_frame.columns, fill_value=0)\n",
    "    df1.columns = map(lambda x: 'FORMATION_' + x.replace (' ', '_'), df1.columns)\n",
    "\n",
    "    # Combine the dummy variables and drop the categorical versions\n",
    "    record = pd.concat(\n",
    "        [record.ix[:,['Quarter', 'Minute', 'Second', 'Down', 'ToGo', 'YardLine', 'Play']],\n",
    "        df1], axis=1)\n",
    "    \n",
    "    # split the class from the values and run it through the model\n",
    "    return gbc_cw.predict_proba(record.drop(['Play'], axis=1).values)"
   ]
  },
  {
   "cell_type": "markdown",
   "metadata": {},
   "source": [
    "#### try out the procedure on one record"
   ]
  },
  {
   "cell_type": "code",
   "execution_count": 162,
   "metadata": {
    "collapsed": true
   },
   "outputs": [],
   "source": [
    "df_new = pbp_train_raw.copy()"
   ]
  },
  {
   "cell_type": "code",
   "execution_count": 163,
   "metadata": {
    "collapsed": false
   },
   "outputs": [],
   "source": [
    "# pick a random play out of the data\n",
    "rand_play = pd.DataFrame(df_new.iloc[random.randint(0,df_new.shape[0])]).T"
   ]
  },
  {
   "cell_type": "code",
   "execution_count": 164,
   "metadata": {
    "collapsed": false
   },
   "outputs": [
    {
     "data": {
      "text/plain": [
       "array([  3.35305816e-04,   8.05174560e-01,   1.94490134e-01])"
      ]
     },
     "execution_count": 164,
     "metadata": {},
     "output_type": "execute_result"
    }
   ],
   "source": [
    "get_probas(rand_play)[0] # [kick, pass, rush]"
   ]
  },
  {
   "cell_type": "markdown",
   "metadata": {},
   "source": [
    "#### apply it to the whole dataframe"
   ]
  },
  {
   "cell_type": "code",
   "execution_count": 165,
   "metadata": {
    "collapsed": true
   },
   "outputs": [],
   "source": [
    "probas = get_probas(df_new)"
   ]
  },
  {
   "cell_type": "code",
   "execution_count": 166,
   "metadata": {
    "collapsed": false
   },
   "outputs": [],
   "source": [
    "df_new['PROB_KICK'] = probas[:,0]\n",
    "df_new['PROB_PASS'] = probas[:,1]\n",
    "df_new['PROB_RUSH'] = probas[:,2]"
   ]
  },
  {
   "cell_type": "code",
   "execution_count": 167,
   "metadata": {
    "collapsed": false
   },
   "outputs": [
    {
     "data": {
      "text/plain": [
       "Quarter                                                              1\n",
       "Minute                                                              11\n",
       "Second                                                              29\n",
       "OffenseTeam                                                        IND\n",
       "DefenseTeam                                                        ATL\n",
       "Down                                                                 2\n",
       "ToGo                                                                 6\n",
       "YardLine                                                            54\n",
       "Description          (11:29) (SHOTGUN) 23-F.GORE RIGHT GUARD TO ATL...\n",
       "Yards                                                                0\n",
       "Formation                                                      SHOTGUN\n",
       "PlayType                                                          RUSH\n",
       "PassType                                                           NaN\n",
       "RushDirection                                              RIGHT GUARD\n",
       "YardLineFixed                                                       46\n",
       "YardLineDirection                                                  OPP\n",
       "Play                                                              RUSH\n",
       "PROB_KICK                                                  0.000325062\n",
       "PROB_PASS                                                     0.718674\n",
       "PROB_RUSH                                                     0.281001\n",
       "Name: 89095, dtype: object"
      ]
     },
     "execution_count": 167,
     "metadata": {},
     "output_type": "execute_result"
    }
   ],
   "source": [
    "df_new.iloc[random.randint(0,df_new.shape[0])]"
   ]
  },
  {
   "cell_type": "markdown",
   "metadata": {},
   "source": [
    "#### now, dummy out the teams and formations and train a new model"
   ]
  },
  {
   "cell_type": "code",
   "execution_count": 168,
   "metadata": {
    "collapsed": false
   },
   "outputs": [],
   "source": [
    "# A few columns have to go for us to build a model (though we use them for user presentation)\n",
    "df_new.drop(['YardLineFixed', 'YardLineDirection','Description', 'PlayType', \\\n",
    "         'PassType', 'RushDirection', 'Yards', 'DefenseTeam'], axis=1, inplace=True)\n",
    "\n",
    "# create dummy variables for formations\n",
    "form_dummies = pd.get_dummies(df_new.Formation)\n",
    "form_dummies.columns = map(lambda x: 'FORMATION_' + x.replace (' ', '_'), form_dummies.columns)\n",
    "\n",
    "# create dummy variables for teams\n",
    "team_dummies = pd.get_dummies(df_new.OffenseTeam)\n",
    "team_dummies.columns = map(lambda x: 'TEAM_' + str(x), team_dummies.columns)\n",
    "\n",
    "# combine the dummy variables and drop the categorical versions\n",
    "df_new_prepped = pd.concat(\n",
    "    [df_new.ix[:,['Quarter', 'Minute', 'Second', 'Down', 'ToGo', 'YardLine', 'PROB_KICK','PROB_PASS','PROB_RUSH', 'Play']],\n",
    "    team_dummies,\n",
    "    form_dummies], axis=1)"
   ]
  },
  {
   "cell_type": "code",
   "execution_count": 169,
   "metadata": {
    "collapsed": false
   },
   "outputs": [
    {
     "name": "stdout",
     "output_type": "stream",
     "text": [
      "<class 'pandas.core.frame.DataFrame'>\n",
      "RangeIndex: 121498 entries, 0 to 121497\n",
      "Data columns (total 49 columns):\n",
      "Quarter                        121498 non-null int64\n",
      "Minute                         121498 non-null int64\n",
      "Second                         121498 non-null int64\n",
      "Down                           121498 non-null int64\n",
      "ToGo                           121498 non-null int64\n",
      "YardLine                       121498 non-null int64\n",
      "PROB_KICK                      121498 non-null float64\n",
      "PROB_PASS                      121498 non-null float64\n",
      "PROB_RUSH                      121498 non-null float64\n",
      "Play                           121498 non-null object\n",
      "TEAM_ARI                       121498 non-null uint8\n",
      "TEAM_ATL                       121498 non-null uint8\n",
      "TEAM_BAL                       121498 non-null uint8\n",
      "TEAM_BUF                       121498 non-null uint8\n",
      "TEAM_CAR                       121498 non-null uint8\n",
      "TEAM_CHI                       121498 non-null uint8\n",
      "TEAM_CIN                       121498 non-null uint8\n",
      "TEAM_CLE                       121498 non-null uint8\n",
      "TEAM_DAL                       121498 non-null uint8\n",
      "TEAM_DEN                       121498 non-null uint8\n",
      "TEAM_DET                       121498 non-null uint8\n",
      "TEAM_GB                        121498 non-null uint8\n",
      "TEAM_HOU                       121498 non-null uint8\n",
      "TEAM_IND                       121498 non-null uint8\n",
      "TEAM_JAX                       121498 non-null uint8\n",
      "TEAM_KC                        121498 non-null uint8\n",
      "TEAM_LA                        121498 non-null uint8\n",
      "TEAM_MIA                       121498 non-null uint8\n",
      "TEAM_MIN                       121498 non-null uint8\n",
      "TEAM_NE                        121498 non-null uint8\n",
      "TEAM_NO                        121498 non-null uint8\n",
      "TEAM_NYG                       121498 non-null uint8\n",
      "TEAM_NYJ                       121498 non-null uint8\n",
      "TEAM_OAK                       121498 non-null uint8\n",
      "TEAM_PHI                       121498 non-null uint8\n",
      "TEAM_PIT                       121498 non-null uint8\n",
      "TEAM_SD                        121498 non-null uint8\n",
      "TEAM_SEA                       121498 non-null uint8\n",
      "TEAM_SF                        121498 non-null uint8\n",
      "TEAM_TB                        121498 non-null uint8\n",
      "TEAM_TEN                       121498 non-null uint8\n",
      "TEAM_WAS                       121498 non-null uint8\n",
      "FORMATION_FIELD_GOAL           121498 non-null uint8\n",
      "FORMATION_NO_HUDDLE            121498 non-null uint8\n",
      "FORMATION_NO_HUDDLE_SHOTGUN    121498 non-null uint8\n",
      "FORMATION_PUNT                 121498 non-null uint8\n",
      "FORMATION_SHOTGUN              121498 non-null uint8\n",
      "FORMATION_UNDER_CENTER         121498 non-null uint8\n",
      "FORMATION_WILDCAT              121498 non-null uint8\n",
      "dtypes: float64(3), int64(6), object(1), uint8(39)\n",
      "memory usage: 13.8+ MB\n"
     ]
    }
   ],
   "source": [
    "df_new_prepped.info()"
   ]
  },
  {
   "cell_type": "code",
   "execution_count": 170,
   "metadata": {
    "collapsed": true
   },
   "outputs": [],
   "source": [
    "# split the class from the values\n",
    "y = df_new_prepped['Play']\n",
    "X = df_new_prepped.drop(['Play'], axis=1).values\n",
    "\n",
    "# save a test set\n",
    "X_train, X_test, y_train, y_test = train_test_split(X, y, random_state=22)"
   ]
  },
  {
   "cell_type": "code",
   "execution_count": 171,
   "metadata": {
    "collapsed": true
   },
   "outputs": [],
   "source": [
    "# gradient boosting classifier\n",
    "gbc = GradientBoostingClassifier()\n",
    "gbc.fit(X_train, y_train)\n",
    "y_pred = gbc.predict(X_test)"
   ]
  },
  {
   "cell_type": "code",
   "execution_count": 172,
   "metadata": {
    "collapsed": false
   },
   "outputs": [
    {
     "data": {
      "text/plain": [
       "0.76839506172839511"
      ]
     },
     "execution_count": 172,
     "metadata": {},
     "output_type": "execute_result"
    }
   ],
   "source": [
    "gbc.score(X_test, y_test)"
   ]
  },
  {
   "cell_type": "code",
   "execution_count": 173,
   "metadata": {
    "collapsed": false,
    "scrolled": true
   },
   "outputs": [
    {
     "name": "stdout",
     "output_type": "stream",
     "text": [
      "[[ 2836     4     8]\n",
      " [   17 13458  3464]\n",
      " [    2  3540  7046]]\n"
     ]
    },
    {
     "data": {
      "image/png": "[encoded data removed]",
      "text/plain": [
       "<matplotlib.figure.Figure at 0x116d28fd0>"
      ]
     },
     "metadata": {},
     "output_type": "display_data"
    }
   ],
   "source": [
    "plot_confusion_matrix(confusion_matrix(y_test, y_pred))"
   ]
  },
  {
   "cell_type": "markdown",
   "metadata": {},
   "source": [
    "#### This shows a .15% improvement, which is nominal.  Formation went into the prior model... it probably shouldn't have, since that decision is offense-specific."
   ]
  },
  {
   "cell_type": "markdown",
   "metadata": {},
   "source": [
    "### Try again, but leave formation out of the prior model."
   ]
  },
  {
   "cell_type": "code",
   "execution_count": 174,
   "metadata": {
    "collapsed": true
   },
   "outputs": [],
   "source": [
    "df = pbp_train_raw.copy()"
   ]
  },
  {
   "cell_type": "code",
   "execution_count": 175,
   "metadata": {
    "collapsed": false
   },
   "outputs": [],
   "source": [
    "# A few columns have to go for us to build a model (though we use them for user presentation)\n",
    "df.drop(['YardLineFixed', 'YardLineDirection','Description', 'PlayType', \\\n",
    "         'PassType', 'RushDirection', 'Yards', 'DefenseTeam', 'OffenseTeam', \\\n",
    "         'Formation'], axis=1, inplace=True)"
   ]
  },
  {
   "cell_type": "code",
   "execution_count": 176,
   "metadata": {
    "collapsed": false
   },
   "outputs": [
    {
     "data": {
      "text/html": [
       "<div>\n",
       "<table border=\"1\" class=\"dataframe\">\n",
       "  <thead>\n",
       "    <tr style=\"text-align: right;\">\n",
       "      <th></th>\n",
       "      <th>Quarter</th>\n",
       "      <th>Minute</th>\n",
       "      <th>Second</th>\n",
       "      <th>Down</th>\n",
       "      <th>ToGo</th>\n",
       "      <th>YardLine</th>\n",
       "      <th>Play</th>\n",
       "    </tr>\n",
       "  </thead>\n",
       "  <tbody>\n",
       "    <tr>\n",
       "      <th>0</th>\n",
       "      <td>3</td>\n",
       "      <td>4</td>\n",
       "      <td>8</td>\n",
       "      <td>1</td>\n",
       "      <td>10</td>\n",
       "      <td>46</td>\n",
       "      <td>PASS</td>\n",
       "    </tr>\n",
       "    <tr>\n",
       "      <th>1</th>\n",
       "      <td>3</td>\n",
       "      <td>6</td>\n",
       "      <td>3</td>\n",
       "      <td>1</td>\n",
       "      <td>10</td>\n",
       "      <td>31</td>\n",
       "      <td>PASS</td>\n",
       "    </tr>\n",
       "    <tr>\n",
       "      <th>2</th>\n",
       "      <td>2</td>\n",
       "      <td>11</td>\n",
       "      <td>40</td>\n",
       "      <td>1</td>\n",
       "      <td>10</td>\n",
       "      <td>20</td>\n",
       "      <td>PASS</td>\n",
       "    </tr>\n",
       "    <tr>\n",
       "      <th>3</th>\n",
       "      <td>3</td>\n",
       "      <td>8</td>\n",
       "      <td>8</td>\n",
       "      <td>1</td>\n",
       "      <td>10</td>\n",
       "      <td>17</td>\n",
       "      <td>RUSH</td>\n",
       "    </tr>\n",
       "    <tr>\n",
       "      <th>4</th>\n",
       "      <td>1</td>\n",
       "      <td>7</td>\n",
       "      <td>3</td>\n",
       "      <td>4</td>\n",
       "      <td>4</td>\n",
       "      <td>24</td>\n",
       "      <td>KICK</td>\n",
       "    </tr>\n",
       "  </tbody>\n",
       "</table>\n",
       "</div>"
      ],
      "text/plain": [
       "   Quarter  Minute  Second  Down  ToGo  YardLine  Play\n",
       "0        3       4       8     1    10        46  PASS\n",
       "1        3       6       3     1    10        31  PASS\n",
       "2        2      11      40     1    10        20  PASS\n",
       "3        3       8       8     1    10        17  RUSH\n",
       "4        1       7       3     4     4        24  KICK"
      ]
     },
     "execution_count": 176,
     "metadata": {},
     "output_type": "execute_result"
    }
   ],
   "source": [
    "df.head()"
   ]
  },
  {
   "cell_type": "code",
   "execution_count": 177,
   "metadata": {
    "collapsed": true
   },
   "outputs": [],
   "source": [
    "# split the class from the values\n",
    "y = df['Play']\n",
    "X = df.drop(['Play'], axis=1).values"
   ]
  },
  {
   "cell_type": "code",
   "execution_count": 178,
   "metadata": {
    "collapsed": false
   },
   "outputs": [
    {
     "data": {
      "text/plain": [
       "GradientBoostingClassifier(criterion='friedman_mse', init=None,\n",
       "              learning_rate=0.1, loss='deviance', max_depth=3,\n",
       "              max_features=None, max_leaf_nodes=None,\n",
       "              min_impurity_split=1e-07, min_samples_leaf=1,\n",
       "              min_samples_split=2, min_weight_fraction_leaf=0.0,\n",
       "              n_estimators=100, presort='auto', random_state=None,\n",
       "              subsample=1.0, verbose=0, warm_start=False)"
      ]
     },
     "execution_count": 178,
     "metadata": {},
     "output_type": "execute_result"
    }
   ],
   "source": [
    "# gradient boosting classifier\n",
    "gbc_cw = GradientBoostingClassifier()\n",
    "gbc_cw.fit(X,y)"
   ]
  },
  {
   "cell_type": "markdown",
   "metadata": {},
   "source": [
    "#### we want to add 3 columns to the original dataframe: PROB_PASS, PROB_RUSH, PROB_KICK"
   ]
  },
  {
   "cell_type": "code",
   "execution_count": 179,
   "metadata": {
    "collapsed": true
   },
   "outputs": [],
   "source": [
    "def get_probas(record):\n",
    "    \n",
    "    # A few columns have to go for us to build a model (though we use them for user presentation)\n",
    "    record.drop(['YardLineFixed', 'YardLineDirection','Description', 'PlayType', \\\n",
    "         'PassType', 'RushDirection', 'Yards', 'DefenseTeam', 'OffenseTeam', \\\n",
    "         'Formation'], axis=1, inplace=True)\n",
    "    \n",
    "    # split the class from the values and run it through the model\n",
    "    return gbc_cw.predict_proba(record.drop(['Play'], axis=1).values)"
   ]
  },
  {
   "cell_type": "markdown",
   "metadata": {},
   "source": [
    "#### try out the procedure on one record"
   ]
  },
  {
   "cell_type": "code",
   "execution_count": 180,
   "metadata": {
    "collapsed": true
   },
   "outputs": [],
   "source": [
    "df_new = pbp_train_raw.copy()"
   ]
  },
  {
   "cell_type": "code",
   "execution_count": 181,
   "metadata": {
    "collapsed": false
   },
   "outputs": [],
   "source": [
    "# pick a random play out of the data\n",
    "rand_play = pd.DataFrame(df_new.iloc[random.randint(0,df_new.shape[0])]).T"
   ]
  },
  {
   "cell_type": "code",
   "execution_count": 182,
   "metadata": {
    "collapsed": false
   },
   "outputs": [
    {
     "data": {
      "text/plain": [
       "array([ 0.00119482,  0.50972893,  0.48907625])"
      ]
     },
     "execution_count": 182,
     "metadata": {},
     "output_type": "execute_result"
    }
   ],
   "source": [
    "get_probas(rand_play)[0] # [kick, pass, rush]"
   ]
  },
  {
   "cell_type": "markdown",
   "metadata": {},
   "source": [
    "#### apply it to the whole dataframe"
   ]
  },
  {
   "cell_type": "code",
   "execution_count": 183,
   "metadata": {
    "collapsed": true
   },
   "outputs": [],
   "source": [
    "probas = get_probas(df_new.copy())"
   ]
  },
  {
   "cell_type": "code",
   "execution_count": 184,
   "metadata": {
    "collapsed": false
   },
   "outputs": [],
   "source": [
    "df_new['PROB_KICK'] = probas[:,0]\n",
    "df_new['PROB_PASS'] = probas[:,1]\n",
    "df_new['PROB_RUSH'] = probas[:,2]"
   ]
  },
  {
   "cell_type": "code",
   "execution_count": 185,
   "metadata": {
    "collapsed": false
   },
   "outputs": [
    {
     "data": {
      "text/plain": [
       "Quarter                                                              2\n",
       "Minute                                                               5\n",
       "Second                                                              55\n",
       "OffenseTeam                                                        ARI\n",
       "DefenseTeam                                                        DET\n",
       "Down                                                                 1\n",
       "ToGo                                                                10\n",
       "YardLine                                                            30\n",
       "Description          (5:55) (SHOTGUN) 5-D.STANTON PASS INCOMPLETE D...\n",
       "Yards                                                                0\n",
       "Formation                                                      SHOTGUN\n",
       "PlayType                                                          PASS\n",
       "PassType                                                     DEEP LEFT\n",
       "RushDirection                                                      NaN\n",
       "YardLineFixed                                                       30\n",
       "YardLineDirection                                                  OWN\n",
       "Play                                                              PASS\n",
       "PROB_KICK                                                  0.000650746\n",
       "PROB_PASS                                                     0.511978\n",
       "PROB_RUSH                                                     0.487371\n",
       "Name: 33172, dtype: object"
      ]
     },
     "execution_count": 185,
     "metadata": {},
     "output_type": "execute_result"
    }
   ],
   "source": [
    "df_new.iloc[random.randint(0,df_new.shape[0])]"
   ]
  },
  {
   "cell_type": "markdown",
   "metadata": {},
   "source": [
    "#### now, dummy out the teams and formations and train a new model"
   ]
  },
  {
   "cell_type": "code",
   "execution_count": 186,
   "metadata": {
    "collapsed": false
   },
   "outputs": [],
   "source": [
    "# A few columns have to go for us to build a model (though we use them for user presentation)\n",
    "df_new.drop(['YardLineFixed', 'YardLineDirection','Description', 'PlayType', \\\n",
    "         'PassType', 'RushDirection', 'Yards', 'DefenseTeam'], axis=1, inplace=True)\n",
    "\n",
    "# create dummy variables for formations\n",
    "form_dummies = pd.get_dummies(df_new.Formation)\n",
    "form_dummies.columns = map(lambda x: 'FORMATION_' + x.replace (' ', '_'), form_dummies.columns)\n",
    "\n",
    "# create dummy variables for teams\n",
    "team_dummies = pd.get_dummies(df_new.OffenseTeam)\n",
    "team_dummies.columns = map(lambda x: 'TEAM_' + str(x), team_dummies.columns)\n",
    "\n",
    "# combine the dummy variables and drop the categorical versions\n",
    "df_new_prepped = pd.concat(\n",
    "    [df_new.ix[:,['Quarter', 'Minute', 'Second', 'Down', 'ToGo', 'YardLine', 'PROB_KICK','PROB_PASS','PROB_RUSH', 'Play']],\n",
    "    team_dummies,\n",
    "    form_dummies], axis=1)"
   ]
  },
  {
   "cell_type": "code",
   "execution_count": 187,
   "metadata": {
    "collapsed": false
   },
   "outputs": [
    {
     "name": "stdout",
     "output_type": "stream",
     "text": [
      "<class 'pandas.core.frame.DataFrame'>\n",
      "RangeIndex: 121498 entries, 0 to 121497\n",
      "Data columns (total 49 columns):\n",
      "Quarter                        121498 non-null int64\n",
      "Minute                         121498 non-null int64\n",
      "Second                         121498 non-null int64\n",
      "Down                           121498 non-null int64\n",
      "ToGo                           121498 non-null int64\n",
      "YardLine                       121498 non-null int64\n",
      "PROB_KICK                      121498 non-null float64\n",
      "PROB_PASS                      121498 non-null float64\n",
      "PROB_RUSH                      121498 non-null float64\n",
      "Play                           121498 non-null object\n",
      "TEAM_ARI                       121498 non-null uint8\n",
      "TEAM_ATL                       121498 non-null uint8\n",
      "TEAM_BAL                       121498 non-null uint8\n",
      "TEAM_BUF                       121498 non-null uint8\n",
      "TEAM_CAR                       121498 non-null uint8\n",
      "TEAM_CHI                       121498 non-null uint8\n",
      "TEAM_CIN                       121498 non-null uint8\n",
      "TEAM_CLE                       121498 non-null uint8\n",
      "TEAM_DAL                       121498 non-null uint8\n",
      "TEAM_DEN                       121498 non-null uint8\n",
      "TEAM_DET                       121498 non-null uint8\n",
      "TEAM_GB                        121498 non-null uint8\n",
      "TEAM_HOU                       121498 non-null uint8\n",
      "TEAM_IND                       121498 non-null uint8\n",
      "TEAM_JAX                       121498 non-null uint8\n",
      "TEAM_KC                        121498 non-null uint8\n",
      "TEAM_LA                        121498 non-null uint8\n",
      "TEAM_MIA                       121498 non-null uint8\n",
      "TEAM_MIN                       121498 non-null uint8\n",
      "TEAM_NE                        121498 non-null uint8\n",
      "TEAM_NO                        121498 non-null uint8\n",
      "TEAM_NYG                       121498 non-null uint8\n",
      "TEAM_NYJ                       121498 non-null uint8\n",
      "TEAM_OAK                       121498 non-null uint8\n",
      "TEAM_PHI                       121498 non-null uint8\n",
      "TEAM_PIT                       121498 non-null uint8\n",
      "TEAM_SD                        121498 non-null uint8\n",
      "TEAM_SEA                       121498 non-null uint8\n",
      "TEAM_SF                        121498 non-null uint8\n",
      "TEAM_TB                        121498 non-null uint8\n",
      "TEAM_TEN                       121498 non-null uint8\n",
      "TEAM_WAS                       121498 non-null uint8\n",
      "FORMATION_FIELD_GOAL           121498 non-null uint8\n",
      "FORMATION_NO_HUDDLE            121498 non-null uint8\n",
      "FORMATION_NO_HUDDLE_SHOTGUN    121498 non-null uint8\n",
      "FORMATION_PUNT                 121498 non-null uint8\n",
      "FORMATION_SHOTGUN              121498 non-null uint8\n",
      "FORMATION_UNDER_CENTER         121498 non-null uint8\n",
      "FORMATION_WILDCAT              121498 non-null uint8\n",
      "dtypes: float64(3), int64(6), object(1), uint8(39)\n",
      "memory usage: 13.8+ MB\n"
     ]
    }
   ],
   "source": [
    "df_new_prepped.info()"
   ]
  },
  {
   "cell_type": "code",
   "execution_count": 188,
   "metadata": {
    "collapsed": true
   },
   "outputs": [],
   "source": [
    "# split the class from the values\n",
    "y = df_new_prepped['Play']\n",
    "X = df_new_prepped.drop(['Play'], axis=1).values\n",
    "\n",
    "# save a test set\n",
    "X_train, X_test, y_train, y_test = train_test_split(X, y, random_state=22)"
   ]
  },
  {
   "cell_type": "code",
   "execution_count": 189,
   "metadata": {
    "collapsed": true
   },
   "outputs": [],
   "source": [
    "# gradient boosting classifier\n",
    "gbc = GradientBoostingClassifier()\n",
    "gbc.fit(X_train, y_train)\n",
    "y_pred = gbc.predict(X_test)"
   ]
  },
  {
   "cell_type": "code",
   "execution_count": 190,
   "metadata": {
    "collapsed": false
   },
   "outputs": [
    {
     "data": {
      "text/plain": [
       "0.76882304526748968"
      ]
     },
     "execution_count": 190,
     "metadata": {},
     "output_type": "execute_result"
    }
   ],
   "source": [
    "gbc.score(X_test, y_test)"
   ]
  },
  {
   "cell_type": "code",
   "execution_count": 191,
   "metadata": {
    "collapsed": false,
    "scrolled": true
   },
   "outputs": [
    {
     "name": "stdout",
     "output_type": "stream",
     "text": [
      "[[ 2829    13     6]\n",
      " [   15 13521  3403]\n",
      " [    2  3583  7003]]\n"
     ]
    },
    {
     "data": {
      "image/png": "[encoded data removed]",
      "text/plain": [
       "<matplotlib.figure.Figure at 0x1167bf810>"
      ]
     },
     "metadata": {},
     "output_type": "display_data"
    }
   ],
   "source": [
    "plot_confusion_matrix(confusion_matrix(y_test, y_pred))"
   ]
  },
  {
   "cell_type": "markdown",
   "metadata": {},
   "source": [
    "#### Less improvement than leaving formation in, but a fraction of a percent (0.08%) better than the basic model"
   ]
  },
  {
   "cell_type": "markdown",
   "metadata": {},
   "source": [
    "### Throw the kitchen sink at the data and see if any other models show promise"
   ]
  },
  {
   "cell_type": "code",
   "execution_count": 18,
   "metadata": {
    "collapsed": false
   },
   "outputs": [],
   "source": [
    "names = [\n",
    "    \"Nearest Neighbors\", \n",
    "    \"Linear SVM\", \n",
    "    #\"RBF SVM\", \n",
    "    #\"Gaussian Process\",\n",
    "    \"Decision Tree\", \n",
    "    \"Random Forest\", \n",
    "    \"Neural Net\", \n",
    "    \"AdaBoost\",\n",
    "    \"Naive Bayes\", \n",
    "    \"QDA\", \n",
    "    \"Gradient Boosting\", \n",
    "    \"Logistic Regression\"]\n",
    "\n",
    "classifiers = [\n",
    "    KNeighborsClassifier(3),\n",
    "    SVC(kernel=\"linear\", C=0.025),\n",
    "    #SVC(gamma=2, C=1),\n",
    "    #GaussianProcessClassifier(1.0 * RBF(1.0), warm_start=True),\n",
    "    DecisionTreeClassifier(max_depth=5),\n",
    "    RandomForestClassifier(max_depth=5, n_estimators=10, max_features=1),\n",
    "    MLPClassifier(alpha=1),\n",
    "    AdaBoostClassifier(),\n",
    "    GaussianNB(),\n",
    "    QuadraticDiscriminantAnalysis(),\n",
    "    GradientBoostingClassifier(),\n",
    "    LogisticRegression()]\n"
   ]
  },
  {
   "cell_type": "code",
   "execution_count": 19,
   "metadata": {
    "collapsed": true
   },
   "outputs": [],
   "source": [
    "def get_scores(model, X_train, X_test, y_train, y_test, labels):\n",
    "    model.fit(X_train, y_train)\n",
    "    y_predict = model.predict(X_test)\n",
    "    return model.score(X_test, y_test), \\\n",
    "           precision_score(y_test, y_predict, average='weighted', labels=labels), \\\n",
    "           recall_score(y_test, y_predict, average='weighted', labels=labels)"
   ]
  },
  {
   "cell_type": "code",
   "execution_count": 20,
   "metadata": {
    "collapsed": false
   },
   "outputs": [],
   "source": [
    "#print gbc.classes_\n",
    "labels = ['KICK', 'PASS', 'RUSH']"
   ]
  },
  {
   "cell_type": "code",
   "execution_count": null,
   "metadata": {
    "collapsed": false
   },
   "outputs": [
    {
     "name": "stdout",
     "output_type": "stream",
     "text": [
      "Nearest Neighbors :"
     ]
    },
    {
     "name": "stderr",
     "output_type": "stream",
     "text": [
      "/Users/zgreyn/.local/lib/python2.7/site-packages/numpy/lib/arraysetops.py:375: FutureWarning: elementwise comparison failed; returning scalar instead, but in the future will perform elementwise comparison\n",
      "  mask &= (ar1 != a)\n",
      "/Users/zgreyn/.local/lib/python2.7/site-packages/sklearn/metrics/classification.py:1113: UndefinedMetricWarning: Precision is ill-defined and being set to 0.0 in labels with no predicted samples.\n",
      "  'precision', 'predicted', average, warn_for)\n",
      "/Users/zgreyn/.local/lib/python2.7/site-packages/sklearn/metrics/classification.py:1115: UndefinedMetricWarning: Recall is ill-defined and being set to 0.0 in labels with no true samples.\n",
      "  'recall', 'true', average, warn_for)\n"
     ]
    },
    {
     "name": "stdout",
     "output_type": "stream",
     "text": [
      " (0.50703529992594421, 0, 0)\n",
      "Linear SVM :"
     ]
    }
   ],
   "source": [
    "# try out each of the classifiers\n",
    "for name, clf in zip(names, classifiers):\n",
    "    print name, \":\", get_scores(clf, X, X_test, y, y_test, labels)"
   ]
  },
  {
   "cell_type": "raw",
   "metadata": {},
   "source": [
    "--- New versions ---\n",
    "Nearest Neighbors : (0.61435390946502055, 0.61175918336192536, 0.61435390946502055)\n",
    "Linear SVM : (0.75845267489711932, 0.76109746949409385, 0.75845267489711932)\n",
    "Decision Tree : (0.76111934156378602, 0.76084891169251845, 0.76111934156378602)\n",
    "Random Forest : (0.63940740740740742, 0.6744484222482392, 0.63940740740740742)\n",
    "Neural Net : (0.75545679012345679, 0.76463056672255336, 0.75545679012345679)\n",
    "AdaBoost : (0.73527572016460907, 0.73277847768683679, 0.73527572016460907)\n",
    "Naive Bayes : (0.69659259259259254, 0.69878651384999224, 0.69659259259259254)\n",
    "QDA : (0.64483950617283947, 0.77238414772099007, 0.64483950617283947) (WARN: Variables are collinear)\n",
    "Gradient Boosting : (0.76628806584362141, 0.76617421290936849, 0.76628806584362141)\n",
    "Logistic Regression : (0.75621399176954729, 0.75502222772245453, 0.75621399176954729)"
   ]
  },
  {
   "cell_type": "markdown",
   "metadata": {},
   "source": [
    "## Try out some of the new features"
   ]
  },
  {
   "cell_type": "code",
   "execution_count": 62,
   "metadata": {
    "collapsed": true
   },
   "outputs": [],
   "source": [
    "def train_and_evaluate(columns_to_keep):\n",
    "    # run the prep (dummy out TEAM and FORMATION, keep only some of the columns, replace UNKNOWN values with 'indoor' defaults)\n",
    "    pbp_prep = modeling.prep_records(pbp, columns_to_keep)\n",
    "\n",
    "    # save a test set\n",
    "    X_train, X_test, y_train, y_test = train_test_split(X, y, random_state=22)\n",
    "\n",
    "    # gradient boosting classifier\n",
    "    gbc = GradientBoostingClassifier(subsample=0.5)\n",
    "    gbc.fit(X_train, y_train)\n",
    "    print(cross_val_score(gbc, X, y)) \n",
    "\n",
    "    y_pred = gbc.predict(X_test)\n",
    "\n",
    "    print gbc.score(X_test, y_test)\n",
    "    plot_confusion_matrix(confusion_matrix(y_test, y_pred))"
   ]
  },
  {
   "cell_type": "code",
   "execution_count": 72,
   "metadata": {
    "collapsed": true
   },
   "outputs": [],
   "source": [
    "columns_to_keep = [\n",
    "    'QUARTER',\n",
    "    'MINUTE',\n",
    "    'SECOND',\n",
    "    'DOWN',\n",
    "    'TOGO',\n",
    "    'YARDLINE',\n",
    "    'SCORINGMARGIN',\n",
    "    #'ISTURF',\n",
    "    #'UNDERROOF',\n",
    "    #'ISATHOME',\n",
    "    #'TEMPERATURE',\n",
    "    #'HUMIDITY',\n",
    "    #'WINDSPEED',\n",
    "    'PLAY']"
   ]
  },
  {
   "cell_type": "code",
   "execution_count": 73,
   "metadata": {
    "collapsed": false
   },
   "outputs": [
    {
     "name": "stdout",
     "output_type": "stream",
     "text": [
      "[ 0.75695321  0.74943771  0.75241387]\n",
      "0.759024247522\n",
      "[[ 2523    15    25]\n",
      " [   38 12202  2949]\n",
      " [   38  3524  6029]]\n"
     ]
    },
    {
     "data": {
      "image/png": "[encoded data removed]",
      "text/plain": [
       "<matplotlib.figure.Figure at 0x116ae2150>"
      ]
     },
     "metadata": {},
     "output_type": "display_data"
    }
   ],
   "source": [
    "train_and_evaluate(columns_to_keep)"
   ]
  },
  {
   "cell_type": "code",
   "execution_count": 74,
   "metadata": {
    "collapsed": true
   },
   "outputs": [],
   "source": [
    "columns_to_keep = [\n",
    "    'QUARTER',\n",
    "    'MINUTE',\n",
    "    'SECOND',\n",
    "    'DOWN',\n",
    "    'TOGO',\n",
    "    'YARDLINE',\n",
    "    'SCORINGMARGIN',\n",
    "    'ISTURF',\n",
    "    #'UNDERROOF',\n",
    "    #'ISATHOME',\n",
    "    #'TEMPERATURE',\n",
    "    #'HUMIDITY',\n",
    "    #'WINDSPEED',\n",
    "    'PLAY']"
   ]
  },
  {
   "cell_type": "code",
   "execution_count": 75,
   "metadata": {
    "collapsed": false
   },
   "outputs": [
    {
     "name": "stdout",
     "output_type": "stream",
     "text": [
      "[ 0.75643206  0.75144001  0.75282532]\n",
      "0.757524777822\n",
      "[[ 2521    15    27]\n",
      " [   37 12170  2982]\n",
      " [   37  3532  6022]]\n"
     ]
    },
    {
     "data": {
      "image/png": "[encoded data removed]",
      "text/plain": [
       "<matplotlib.figure.Figure at 0x1175990d0>"
      ]
     },
     "metadata": {},
     "output_type": "display_data"
    }
   ],
   "source": [
    "train_and_evaluate(columns_to_keep)"
   ]
  },
  {
   "cell_type": "code",
   "execution_count": 76,
   "metadata": {
    "collapsed": true
   },
   "outputs": [],
   "source": [
    "columns_to_keep = [\n",
    "    'QUARTER',\n",
    "    'MINUTE',\n",
    "    'SECOND',\n",
    "    'DOWN',\n",
    "    'TOGO',\n",
    "    'YARDLINE',\n",
    "    'SCORINGMARGIN',\n",
    "    'ISTURF',\n",
    "    'UNDERROOF',\n",
    "    #'ISATHOME',\n",
    "    #'TEMPERATURE',\n",
    "    #'HUMIDITY',\n",
    "    #'WINDSPEED',\n",
    "    'PLAY']"
   ]
  },
  {
   "cell_type": "code",
   "execution_count": 77,
   "metadata": {
    "collapsed": false
   },
   "outputs": [
    {
     "name": "stdout",
     "output_type": "stream",
     "text": [
      "[ 0.75648692  0.75080915  0.75255102]\n",
      "0.760816296676\n",
      "[[ 2524    14    25]\n",
      " [   38 12214  2937]\n",
      " [   37  3489  6065]]\n"
     ]
    },
    {
     "data": {
      "image/png": "[encoded data removed]",
      "text/plain": [
       "<matplotlib.figure.Figure at 0x116ed0310>"
      ]
     },
     "metadata": {},
     "output_type": "display_data"
    }
   ],
   "source": [
    "train_and_evaluate(columns_to_keep)"
   ]
  },
  {
   "cell_type": "code",
   "execution_count": 78,
   "metadata": {
    "collapsed": true
   },
   "outputs": [],
   "source": [
    "columns_to_keep = [\n",
    "    'QUARTER',\n",
    "    'MINUTE',\n",
    "    'SECOND',\n",
    "    'DOWN',\n",
    "    'TOGO',\n",
    "    'YARDLINE',\n",
    "    'SCORINGMARGIN',\n",
    "    'ISTURF',\n",
    "    'UNDERROOF',\n",
    "    'ISATHOME',\n",
    "    #'TEMPERATURE',\n",
    "    #'HUMIDITY',\n",
    "    #'WINDSPEED',\n",
    "    'PLAY']"
   ]
  },
  {
   "cell_type": "code",
   "execution_count": 79,
   "metadata": {
    "collapsed": false
   },
   "outputs": [
    {
     "name": "stdout",
     "output_type": "stream",
     "text": [
      "[ 0.75571891  0.7515223   0.75315449]\n",
      "0.757817357276\n",
      "[[ 2519    14    30]\n",
      " [   36 12212  2941]\n",
      " [   37  3564  5990]]\n"
     ]
    },
    {
     "data": {
      "image/png": "[encoded data removed]",
      "text/plain": [
       "<matplotlib.figure.Figure at 0x11792cf10>"
      ]
     },
     "metadata": {},
     "output_type": "display_data"
    }
   ],
   "source": [
    "train_and_evaluate(columns_to_keep)"
   ]
  },
  {
   "cell_type": "code",
   "execution_count": 86,
   "metadata": {
    "collapsed": true
   },
   "outputs": [],
   "source": [
    "columns_to_keep = [\n",
    "    'QUARTER',\n",
    "    'MINUTE',\n",
    "    'SECOND',\n",
    "    'DOWN',\n",
    "    'TOGO',\n",
    "    'YARDLINE',\n",
    "    'SCORINGMARGIN',\n",
    "    'ISTURF',\n",
    "    'UNDERROOF',\n",
    "    'ISATHOME',\n",
    "    'TEMPERATURE',\n",
    "    'HUMIDITY',\n",
    "    'WINDSPEED',\n",
    "    'PLAY']"
   ]
  },
  {
   "cell_type": "code",
   "execution_count": 87,
   "metadata": {
    "collapsed": false
   },
   "outputs": [
    {
     "name": "stdout",
     "output_type": "stream",
     "text": [
      "[ 0.75547205  0.75108344  0.75301734]\n",
      "0.758365943752\n",
      "[[ 2523    14    26]\n",
      " [   39 12153  2997]\n",
      " [   40  3491  6060]]\n"
     ]
    },
    {
     "data": {
      "image/png": "[encoded data removed]",
      "text/plain": [
       "<matplotlib.figure.Figure at 0x11d2c5890>"
      ]
     },
     "metadata": {},
     "output_type": "display_data"
    }
   ],
   "source": [
    "train_and_evaluate(columns_to_keep)"
   ]
  },
  {
   "cell_type": "code",
   "execution_count": 82,
   "metadata": {
    "collapsed": true
   },
   "outputs": [],
   "source": [
    "columns_to_keep = [\n",
    "    'QUARTER',\n",
    "    'MINUTE',\n",
    "    'SECOND',\n",
    "    'DOWN',\n",
    "    'TOGO',\n",
    "    'YARDLINE',\n",
    "    #'SCORINGMARGIN',\n",
    "    #'ISTURF',\n",
    "    #'UNDERROOF',\n",
    "    #'ISATHOME',\n",
    "    #'TEMPERATURE',\n",
    "    #'HUMIDITY',\n",
    "    #'WINDSPEED',\n",
    "    'PLAY']"
   ]
  },
  {
   "cell_type": "code",
   "execution_count": 83,
   "metadata": {
    "collapsed": false
   },
   "outputs": [
    {
     "name": "stdout",
     "output_type": "stream",
     "text": [
      "[ 0.75629491  0.75058972  0.7533465 ]\n",
      "0.760194565337\n",
      "[[ 2520    15    28]\n",
      " [   38 12202  2949]\n",
      " [   39  3488  6064]]\n"
     ]
    },
    {
     "data": {
      "image/png": "[encoded data removed]",
      "text/plain": [
       "<matplotlib.figure.Figure at 0x1182bb250>"
      ]
     },
     "metadata": {},
     "output_type": "display_data"
    }
   ],
   "source": [
    "train_and_evaluate(columns_to_keep)"
   ]
  },
  {
   "cell_type": "code",
   "execution_count": 84,
   "metadata": {
    "collapsed": true
   },
   "outputs": [],
   "source": [
    "columns_to_keep = [\n",
    "    #'QUARTER',\n",
    "    #'MINUTE',\n",
    "    #'SECOND',\n",
    "    'DOWN',\n",
    "    'TOGO',\n",
    "    #'YARDLINE',\n",
    "    #'SCORINGMARGIN',\n",
    "    #'ISTURF',\n",
    "    #'UNDERROOF',\n",
    "    #'ISATHOME',\n",
    "    #'TEMPERATURE',\n",
    "    #'HUMIDITY',\n",
    "    #'WINDSPEED',\n",
    "    'PLAY']"
   ]
  },
  {
   "cell_type": "code",
   "execution_count": 85,
   "metadata": {
    "collapsed": false
   },
   "outputs": [
    {
     "name": "stdout",
     "output_type": "stream",
     "text": [
      "[ 0.75602063  0.75031543  0.75364823]\n",
      "0.759426544271\n",
      "[[ 2522    15    26]\n",
      " [   38 12210  2941]\n",
      " [   42  3516  6033]]\n"
     ]
    },
    {
     "data": {
      "image/png": "[encoded data removed]",
      "text/plain": [
       "<matplotlib.figure.Figure at 0x1193c3690>"
      ]
     },
     "metadata": {},
     "output_type": "display_data"
    }
   ],
   "source": [
    "train_and_evaluate(columns_to_keep)"
   ]
  },
  {
   "cell_type": "markdown",
   "metadata": {},
   "source": [
    "## Check feature importances"
   ]
  },
  {
   "cell_type": "code",
   "execution_count": 3,
   "metadata": {
    "collapsed": true
   },
   "outputs": [],
   "source": [
    "columns_to_keep = [\n",
    "    'QUARTER',\n",
    "    'MINUTE',\n",
    "    'SECOND',\n",
    "    'DOWN',\n",
    "    'TOGO',\n",
    "    'YARDLINE',\n",
    "    'SCORINGMARGIN',\n",
    "    'ISTURF',\n",
    "    'UNDERROOF',\n",
    "    'ISATHOME',\n",
    "    'TEMPERATURE',\n",
    "    'HUMIDITY',\n",
    "    'WINDSPEED',\n",
    "    'SEASONYEAR',\n",
    "    'PLAY']"
   ]
  },
  {
   "cell_type": "code",
   "execution_count": 4,
   "metadata": {
    "collapsed": true
   },
   "outputs": [],
   "source": [
    "# run the prep (dummy out TEAM and FORMATION, keep only some of the columns, replace UNKNOWN values with 'indoor' defaults)\n",
    "pbp_prep = modeling.prep_records(pbp, columns_to_keep, offense=True, formation=True)"
   ]
  },
  {
   "cell_type": "code",
   "execution_count": 22,
   "metadata": {
    "collapsed": true
   },
   "outputs": [],
   "source": [
    "# split the class from the values\n",
    "y = pbp_prep['PLAY']\n",
    "X = pbp_prep.drop(['PLAY'], axis=1).values\n",
    "col_names = pbp_prep.drop(['PLAY'], axis=1).columns"
   ]
  },
  {
   "cell_type": "code",
   "execution_count": 23,
   "metadata": {
    "collapsed": false
   },
   "outputs": [
    {
     "data": {
      "text/plain": [
       "ExtraTreesClassifier(bootstrap=False, class_weight=None, criterion='gini',\n",
       "           max_depth=None, max_features='auto', max_leaf_nodes=None,\n",
       "           min_impurity_split=1e-07, min_samples_leaf=1,\n",
       "           min_samples_split=2, min_weight_fraction_leaf=0.0,\n",
       "           n_estimators=250, n_jobs=1, oob_score=False, random_state=0,\n",
       "           verbose=0, warm_start=False)"
      ]
     },
     "execution_count": 23,
     "metadata": {},
     "output_type": "execute_result"
    }
   ],
   "source": [
    "from sklearn.ensemble import ExtraTreesClassifier\n",
    "\n",
    "\n",
    "# Build a forest and compute the feature importances\n",
    "forest = ExtraTreesClassifier(n_estimators=250,\n",
    "                              random_state=0)\n",
    "\n",
    "forest.fit(X, y)"
   ]
  },
  {
   "cell_type": "code",
   "execution_count": 24,
   "metadata": {
    "collapsed": false
   },
   "outputs": [
    {
     "name": "stdout",
     "output_type": "stream",
     "text": [
      "Feature ranking:\n",
      "1. feature DOWN (0.139212)\n",
      "2. feature FORMATION_SHOTGUN (0.108295)\n",
      "3. feature FORMATION_PUNT (0.092161)\n",
      "4. feature YARDLINE (0.081118)\n",
      "5. feature SECOND (0.078662)\n",
      "6. feature SCORINGMARGIN (0.071852)\n",
      "7. feature MINUTE (0.071680)\n",
      "8. feature TOGO (0.053518)\n",
      "9. feature QUARTER (0.042766)\n",
      "10. feature TEMPERATURE (0.034957)\n",
      "11. feature SEASONYEAR (0.034773)\n",
      "12. feature HUMIDITY (0.034611)\n",
      "13. feature WINDSPEED (0.033027)\n",
      "14. feature ISATHOME (0.011134)\n",
      "15. feature ISTURF (0.010825)\n",
      "16. feature UNDERROOF (0.005875)\n",
      "17. feature TEAM_PHI (0.003667)\n",
      "18. feature TEAM_SF (0.003499)\n",
      "19. feature TEAM_WAS (0.003450)\n",
      "20. feature TEAM_SD (0.003398)\n",
      "21. feature TEAM_CHI (0.003385)\n",
      "22. feature TEAM_KC (0.003247)\n",
      "23. feature TEAM_PIT (0.003205)\n",
      "24. feature TEAM_NE (0.003203)\n",
      "25. feature TEAM_GB (0.003200)\n",
      "26. feature TEAM_OAK (0.003182)\n",
      "27. feature TEAM_DEN (0.003152)\n",
      "28. feature TEAM_HOU (0.003125)\n",
      "29. feature TEAM_NYG (0.003040)\n",
      "30. feature TEAM_CLE (0.003030)\n",
      "31. feature TEAM_TEN (0.003027)\n",
      "32. feature TEAM_BUF (0.003000)\n",
      "33. feature TEAM_MIA (0.002994)\n",
      "34. feature TEAM_CAR (0.002986)\n",
      "35. feature TEAM_BAL (0.002973)\n",
      "36. feature TEAM_NYJ (0.002894)\n",
      "37. feature TEAM_NO (0.002881)\n",
      "38. feature TEAM_TB (0.002873)\n",
      "39. feature TEAM_ARI (0.002862)\n",
      "40. feature TEAM_MIN (0.002841)\n",
      "41. feature TEAM_CIN (0.002840)\n",
      "42. feature TEAM_DET (0.002717)\n",
      "43. feature TEAM_SEA (0.002605)\n",
      "44. feature TEAM_ATL (0.002598)\n",
      "45. feature TEAM_JAX (0.002542)\n",
      "46. feature TEAM_IND (0.002508)\n",
      "47. feature TEAM_LA (0.002321)\n",
      "48. feature TEAM_DAL (0.002268)\n",
      "49. feature FORMATION_WILDCAT (0.000020)\n",
      "50. feature FORMATION_UNDER_CENTER (0.000000)\n",
      "51. feature FORMATION_FIELD_GOAL (0.000000)\n",
      "52. feature FORMATION_NO_HUDDLE (0.000000)\n",
      "53. feature FORMATION_NO_HUDDLE_SHOTGUN (0.000000)\n"
     ]
    },
    {
     "data": {
      "text/plain": [
       "(-1, 53)"
      ]
     },
     "execution_count": 24,
     "metadata": {},
     "output_type": "execute_result"
    },
    {
     "data": {
      "image/png": "[encoded data removed]",
      "text/plain": [
       "<matplotlib.figure.Figure at 0x116381c90>"
      ]
     },
     "metadata": {},
     "output_type": "display_data"
    }
   ],
   "source": [
    "importances = forest.feature_importances_\n",
    "std = np.std([tree.feature_importances_ for tree in forest.estimators_],\n",
    "             axis=0)\n",
    "indices = np.argsort(importances)[::-1]\n",
    "\n",
    "# Print the feature ranking\n",
    "print(\"Feature ranking:\")\n",
    "\n",
    "feature_names = []\n",
    "for f in range(X.shape[1]):\n",
    "    print(\"%d. feature %s (%f)\" % (f + 1, col_names[indices[f]], importances[indices[f]]))\n",
    "    feature_names.append(col_names[indices[f]])\n",
    "    \n",
    "# Plot the feature importances of the forest\n",
    "plt.figure(figsize=(12,6))\n",
    "plt.title(\"Feature importances\")\n",
    "plt.bar(range(X.shape[1]), importances[indices],\n",
    "       color=\"c\", yerr=std[indices], align=\"center\")\n",
    "plt.xticks(range(X.shape[1]), feature_names, rotation='vertical')\n",
    "plt.xlim([-1, X.shape[1]])"
   ]
  },
  {
   "cell_type": "markdown",
   "metadata": {},
   "source": [
    "## Train one with everything and use GridSearch to narrow"
   ]
  },
  {
   "cell_type": "code",
   "execution_count": 43,
   "metadata": {
    "collapsed": true
   },
   "outputs": [],
   "source": [
    "# read in the cleaned training data\n",
    "pbp = pd.read_csv('../data/pbp-training.csv')"
   ]
  },
  {
   "cell_type": "code",
   "execution_count": 63,
   "metadata": {
    "collapsed": true
   },
   "outputs": [],
   "source": [
    "# run the prep (dummy out TEAM and FORMATION, keep only some of the columns, replace UNKNOWN values with 'indoor' defaults)\n",
    "pbp_prep = modeling.prep_records(pbp)"
   ]
  },
  {
   "cell_type": "code",
   "execution_count": 65,
   "metadata": {
    "collapsed": true
   },
   "outputs": [],
   "source": [
    "# split the class from the values\n",
    "y = pbp_prep['PLAY']\n",
    "X = pbp_prep.drop(['PLAY'], axis=1).values\n",
    "col_names = pbp_prep.drop(['PLAY'], axis=1).columns"
   ]
  },
  {
   "cell_type": "code",
   "execution_count": 66,
   "metadata": {
    "collapsed": true
   },
   "outputs": [],
   "source": [
    "gd_grid = {'learning_rate': [0.1, 0.01],\n",
    "               'max_depth': [4, 8, 14],\n",
    "               'min_samples_leaf': [5, 10, 20, 100],\n",
    "               'max_features': [1.0, 0.5, 0.1],\n",
    "               'n_estimators': [500, 100],\n",
    "               'random_state': [22]}"
   ]
  },
  {
   "cell_type": "code",
   "execution_count": 67,
   "metadata": {
    "collapsed": true
   },
   "outputs": [],
   "source": [
    "def grid_search(est, grid):\n",
    "    grid_cv = GridSearchCV(est, grid, n_jobs=-1, verbose=1).fit(X, y)\n",
    "    return grid_cv"
   ]
  },
  {
   "cell_type": "code",
   "execution_count": null,
   "metadata": {
    "collapsed": false
   },
   "outputs": [
    {
     "name": "stdout",
     "output_type": "stream",
     "text": [
      "Fitting 3 folds for each of 144 candidates, totalling 432 fits\n"
     ]
    },
    {
     "name": "stderr",
     "output_type": "stream",
     "text": [
      "[Parallel(n_jobs=-1)]: Done  42 tasks      | elapsed: 117.4min\n"
     ]
    }
   ],
   "source": [
    "# gradient boosting classifier\n",
    "gd_grid_search = grid_search(GradientBoostingClassifier(), gd_grid)"
   ]
  },
  {
   "cell_type": "code",
   "execution_count": 15,
   "metadata": {
    "collapsed": false
   },
   "outputs": [
    {
     "name": "stderr",
     "output_type": "stream",
     "text": [
      "/Users/zgreyn/.local/lib/python2.7/site-packages/sklearn/base.py:315: UserWarning: Trying to unpickle estimator DecisionTreeRegressor from version 0.18.1 when using version 0.18. This might lead to breaking code or invalid results. Use at your own risk.\n",
      "  UserWarning)\n",
      "/Users/zgreyn/.local/lib/python2.7/site-packages/sklearn/base.py:315: UserWarning: Trying to unpickle estimator PriorProbabilityEstimator from version 0.18.1 when using version 0.18. This might lead to breaking code or invalid results. Use at your own risk.\n",
      "  UserWarning)\n",
      "/Users/zgreyn/.local/lib/python2.7/site-packages/sklearn/base.py:315: UserWarning: Trying to unpickle estimator GradientBoostingClassifier from version 0.18.1 when using version 0.18. This might lead to breaking code or invalid results. Use at your own risk.\n",
      "  UserWarning)\n"
     ]
    }
   ],
   "source": [
    "#gd_best = gd_grid_search.best_estimator_\n",
    "with open('../data/gbc-v6.pkl', 'r') as f:\n",
    "    gd_best = pickle.load(f)"
   ]
  },
  {
   "cell_type": "code",
   "execution_count": 167,
   "metadata": {
    "collapsed": false
   },
   "outputs": [
    {
     "ename": "NameError",
     "evalue": "name 'gd_grid_search' is not defined",
     "output_type": "error",
     "traceback": [
      "\u001b[0;31m---------------------------------------------------------------------------\u001b[0m",
      "\u001b[0;31mNameError\u001b[0m                                 Traceback (most recent call last)",
      "\u001b[0;32m<ipython-input-167-cb44cd7012bb>\u001b[0m in \u001b[0;36m<module>\u001b[0;34m()\u001b[0m\n\u001b[0;32m----> 1\u001b[0;31m \u001b[0mgd_grid_search\u001b[0m\u001b[0;34m.\u001b[0m\u001b[0mbest_params_\u001b[0m\u001b[0;34m\u001b[0m\u001b[0m\n\u001b[0m",
      "\u001b[0;31mNameError\u001b[0m: name 'gd_grid_search' is not defined"
     ]
    }
   ],
   "source": [
    "gd_grid_search.best_params_"
   ]
  },
  {
   "cell_type": "code",
   "execution_count": null,
   "metadata": {
    "collapsed": false
   },
   "outputs": [],
   "source": [
    "# save the model\n",
    "with open('../data/gbc-v5.pkl', 'w') as f:\n",
    "    pickle.dump(gd_best, f)"
   ]
  },
  {
   "cell_type": "code",
   "execution_count": 27,
   "metadata": {
    "collapsed": false
   },
   "outputs": [
    {
     "data": {
      "image/png": "[encoded data removed]",
      "text/plain": [
       "<matplotlib.figure.Figure at 0x11769e7d0>"
      ]
     },
     "metadata": {},
     "output_type": "display_data"
    }
   ],
   "source": [
    "# sort importances\n",
    "indices = np.argsort(gd_best.feature_importances_)\n",
    "\n",
    "# plot as bar chart\n",
    "figure = plt.figure(figsize=(14,14))\n",
    "plt.barh(np.arange(len(col_names)), gd_best.feature_importances_[indices],\n",
    "         align='center', alpha=.5)\n",
    "plt.yticks(np.arange(len(col_names)), np.array(col_names)[indices], fontsize=12)\n",
    "plt.xticks(fontsize=12)\n",
    "_ = plt.xlabel('Relative importance', fontsize=14)\n",
    "\n"
   ]
  },
  {
   "cell_type": "code",
   "execution_count": 33,
   "metadata": {
    "collapsed": false
   },
   "outputs": [
    {
     "name": "stdout",
     "output_type": "stream",
     "text": [
      "Feature ranking:\n",
      "1. feature MINUTE (0.132019)\n",
      "2. feature DOWN (0.127642)\n",
      "3. feature YARDLINE (0.123445)\n",
      "4. feature SCORINGMARGIN (0.117722)\n",
      "5. feature TOGO (0.086439)\n",
      "6. feature QUARTER (0.063260)\n",
      "7. feature FORMATION_SHOTGUN (0.055368)\n",
      "8. feature SECOND (0.052050)\n",
      "9. feature TEMPERATURE (0.038330)\n",
      "10. feature HUMIDITY (0.033503)\n",
      "11. feature SEASONYEAR (0.021867)\n",
      "12. feature WINDSPEED (0.021756)\n",
      "13. feature FORMATION_PUNT (0.014396)\n",
      "14. feature TEAM_DAL (0.005575)\n",
      "15. feature TEAM_PHI (0.005440)\n",
      "16. feature TEAM_NO (0.004972)\n",
      "17. feature TEAM_GB (0.004887)\n",
      "18. feature TEAM_SD (0.004833)\n",
      "19. feature TEAM_CHI (0.004259)\n",
      "20. feature ISATHOME (0.004093)\n",
      "21. feature TEAM_CIN (0.003986)\n",
      "22. feature TEAM_IND (0.003880)\n",
      "23. feature TEAM_NE (0.003816)\n",
      "24. feature TEAM_PIT (0.003681)\n",
      "25. feature TEAM_LA (0.003653)\n",
      "26. feature TEAM_ATL (0.003620)\n",
      "27. feature TEAM_BUF (0.003570)\n",
      "28. feature TEAM_NYJ (0.003523)\n",
      "29. feature TEAM_NYG (0.003517)\n",
      "30. feature TEAM_BAL (0.003466)\n",
      "31. feature TEAM_OAK (0.003365)\n",
      "32. feature TEAM_DEN (0.003235)\n",
      "33. feature TEAM_SF (0.003213)\n",
      "34. feature ISTURF (0.003132)\n",
      "35. feature TEAM_TEN (0.003101)\n",
      "36. feature TEAM_SEA (0.003063)\n",
      "37. feature TEAM_ARI (0.002740)\n",
      "38. feature TEAM_CAR (0.002557)\n",
      "39. feature TEAM_MIA (0.002485)\n",
      "40. feature TEAM_DET (0.002253)\n",
      "41. feature TEAM_HOU (0.002083)\n",
      "42. feature TEAM_MIN (0.002031)\n",
      "43. feature TEAM_CLE (0.001999)\n",
      "44. feature TEAM_TB (0.001726)\n",
      "45. feature TEAM_JAX (0.001547)\n",
      "46. feature TEAM_WAS (0.001381)\n",
      "47. feature TEAM_KC (0.001280)\n",
      "48. feature UNDERROOF (0.000238)\n",
      "49. feature FORMATION_UNDER_CENTER (0.000000)\n",
      "50. feature FORMATION_FIELD_GOAL (0.000000)\n",
      "51. feature FORMATION_NO_HUDDLE (0.000000)\n",
      "52. feature FORMATION_NO_HUDDLE_SHOTGUN (0.000000)\n",
      "53. feature FORMATION_WILDCAT (0.000000)\n"
     ]
    },
    {
     "data": {
      "text/plain": [
       "(-1, 53)"
      ]
     },
     "execution_count": 33,
     "metadata": {},
     "output_type": "execute_result"
    },
    {
     "data": {
      "image/png": "[encoded data removed]",
      "text/plain": [
       "<matplotlib.figure.Figure at 0x119fd12d0>"
      ]
     },
     "metadata": {},
     "output_type": "display_data"
    }
   ],
   "source": [
    "importances = gd_best.feature_importances_\n",
    "indices = np.argsort(importances)[::-1]\n",
    "\n",
    "# Print the feature ranking\n",
    "print(\"Feature ranking:\")\n",
    "\n",
    "feature_names = []\n",
    "for f in range(X.shape[1]):\n",
    "    print(\"%d. feature %s (%f)\" % (f + 1, col_names[indices[f]], importances[indices[f]]))\n",
    "    feature_names.append(col_names[indices[f]])\n",
    "    \n",
    "# Plot the feature importances of the forest\n",
    "plt.figure(figsize=(12,6))\n",
    "plt.title(\"Relative Feature Importances\")\n",
    "plt.bar(range(X.shape[1]), importances[indices], align=\"center\")\n",
    "plt.xticks(range(X.shape[1]), feature_names, rotation='vertical')\n",
    "plt.xlim([-1, X.shape[1]])"
   ]
  },
  {
   "cell_type": "code",
   "execution_count": 34,
   "metadata": {
    "collapsed": true
   },
   "outputs": [],
   "source": [
    "team_imp = [\n",
    "0.005575,\n",
    "0.005440,\n",
    "0.004972,\n",
    "0.004887,\n",
    "0.004833,\n",
    "0.004259,\n",
    "0.003986,\n",
    "0.003880,\n",
    "0.003816,\n",
    "0.003681,\n",
    "0.003653,\n",
    "0.003620,\n",
    "0.003570,\n",
    "0.003523,\n",
    "0.003517,\n",
    "0.003466,\n",
    "0.003365,\n",
    "0.003235,\n",
    "0.003213,\n",
    "0.003101,\n",
    "0.003063,\n",
    "0.002740,\n",
    "0.002557,\n",
    "0.002485,\n",
    "0.002253,\n",
    "0.002083,\n",
    "0.002031,\n",
    "0.001999,\n",
    "0.001726,\n",
    "0.001547,\n",
    "0.001381,\n",
    "0.001280]\n"
   ]
  },
  {
   "cell_type": "code",
   "execution_count": 35,
   "metadata": {
    "collapsed": false
   },
   "outputs": [
    {
     "data": {
      "text/plain": [
       "0.10473700000000002"
      ]
     },
     "execution_count": 35,
     "metadata": {},
     "output_type": "execute_result"
    }
   ],
   "source": [
    "sum(team_imp)"
   ]
  },
  {
   "cell_type": "code",
   "execution_count": 36,
   "metadata": {
    "collapsed": true
   },
   "outputs": [],
   "source": [
    "# The teams all together would rank #5"
   ]
  },
  {
   "cell_type": "code",
   "execution_count": 43,
   "metadata": {
    "collapsed": false
   },
   "outputs": [
    {
     "name": "stdout",
     "output_type": "stream",
     "text": [
      "ISTURF 0.00313229684081\n",
      "TEMPERATURE 0.0383299323202\n",
      "SEASONYEAR 0.0218669000412\n",
      "WINDSPEED 0.0217560634058\n",
      "HUMIDITY 0.0335026961236\n",
      "DOWN 0.127642229867\n",
      "TOGO 0.0864388128914\n",
      "SECOND 0.0520495140322\n",
      "FORMATION 0.0697640158834\n",
      "YARDLINE 0.123445443688\n",
      "TEAM 0.104740408941\n",
      "SCORINGMARGIN 0.117721695414\n",
      "ISATHOME 0.00409307787864\n",
      "QUARTER 0.0632597970758\n",
      "UNDERROOF 0.000237768746312\n",
      "MINUTE 0.132019346851\n"
     ]
    }
   ],
   "source": [
    "adj_importances = {}\n",
    "adj_importances['TEAM'] = 0.0\n",
    "adj_importances['FORMATION'] = 0.0\n",
    "\n",
    "for item in zip(col_names,importances):\n",
    "    if item[0].startswith('TEAM_'):\n",
    "        adj_importances['TEAM'] += item[1]\n",
    "    elif item[0].startswith('FORMATION_'):\n",
    "        adj_importances['FORMATION'] += item[1]\n",
    "    else:\n",
    "        adj_importances[item[0]] = item[1]\n",
    "        \n",
    "for k,v in adj_importances.items():\n",
    "    print k, v\n",
    "    \n",
    "col_names_adj = adj_importances.keys()\n",
    "importances_adj = adj_importances.values()"
   ]
  },
  {
   "cell_type": "code",
   "execution_count": 58,
   "metadata": {
    "collapsed": false
   },
   "outputs": [
    {
     "name": "stdout",
     "output_type": "stream",
     "text": [
      "Feature ranking:\n",
      "1. feature MINUTE (0.132019)\n",
      "2. feature DOWN (0.127642)\n",
      "3. feature YARDLINE (0.123445)\n",
      "4. feature SCORINGMARGIN (0.117722)\n",
      "5. feature TEAM (0.104740)\n",
      "6. feature TOGO (0.086439)\n",
      "7. feature FORMATION (0.069764)\n",
      "8. feature QUARTER (0.063260)\n",
      "9. feature SECOND (0.052050)\n",
      "10. feature TEMPERATURE (0.038330)\n",
      "11. feature HUMIDITY (0.033503)\n",
      "12. feature SEASONYEAR (0.021867)\n",
      "13. feature WINDSPEED (0.021756)\n",
      "14. feature ISATHOME (0.004093)\n",
      "15. feature ISTURF (0.003132)\n",
      "16. feature UNDERROOF (0.000238)\n"
     ]
    },
    {
     "data": {
      "text/plain": [
       "(-1, 16)"
      ]
     },
     "execution_count": 58,
     "metadata": {},
     "output_type": "execute_result"
    },
    {
     "data": {
      "image/png": "[encoded data removed]",
      "text/plain": [
       "<matplotlib.figure.Figure at 0x117172cd0>"
      ]
     },
     "metadata": {},
     "output_type": "display_data"
    }
   ],
   "source": [
    "importances = np.asarray(importances_adj)\n",
    "indices = np.argsort(importances)[::-1]\n",
    "num_features = len(importances)\n",
    "\n",
    "# Print the feature ranking\n",
    "print(\"Feature ranking:\")\n",
    "\n",
    "feature_names = []\n",
    "for f in range(num_features):\n",
    "    print(\"%d. feature %s (%f)\" % (f + 1, col_names_adj[indices[f]], importances[indices[f]]))\n",
    "    feature_names.append(col_names_adj[indices[f]])\n",
    "    \n",
    "# Plot the feature importances of the forest\n",
    "plt.figure(figsize=(8,4))\n",
    "plt.title(\"Relative Feature Importances\")\n",
    "plt.bar(range(num_features), importances[indices], align=\"center\")\n",
    "plt.xticks(range(num_features), feature_names, rotation='vertical')\n",
    "plt.xlim([-1, num_features])"
   ]
  },
  {
   "cell_type": "code",
   "execution_count": 60,
   "metadata": {
    "collapsed": false
   },
   "outputs": [
    {
     "data": {
      "text/plain": [
       "{'criterion': 'friedman_mse',\n",
       " 'init': None,\n",
       " 'learning_rate': 0.1,\n",
       " 'loss': 'deviance',\n",
       " 'max_depth': 3,\n",
       " 'max_features': 1.0,\n",
       " 'max_leaf_nodes': None,\n",
       " 'min_impurity_split': 1e-07,\n",
       " 'min_samples_leaf': 20,\n",
       " 'min_samples_split': 2,\n",
       " 'min_weight_fraction_leaf': 0.0,\n",
       " 'n_estimators': 500,\n",
       " 'presort': 'auto',\n",
       " 'random_state': 22,\n",
       " 'subsample': 1.0,\n",
       " 'verbose': 0,\n",
       " 'warm_start': False}"
      ]
     },
     "execution_count": 60,
     "metadata": {},
     "output_type": "execute_result"
    }
   ],
   "source": [
    "gd_best.get_params()"
   ]
  },
  {
   "cell_type": "code",
   "execution_count": null,
   "metadata": {
    "collapsed": true
   },
   "outputs": [],
   "source": [
    "GradientBoostingClassifier(learning_rate=0.1, n_estimators=100, subsample=1.0, min_samples_leaf=20, max_depth=3, random_state=22, max_features=1.0)"
   ]
  }
 ],
 "metadata": {
  "anaconda-cloud": {},
  "kernelspec": {
   "display_name": "Python [conda root]",
   "language": "python",
   "name": "conda-root-py"
  },
  "language_info": {
   "codemirror_mode": {
    "name": "ipython",
    "version": 2
   },
   "file_extension": ".py",
   "mimetype": "text/x-python",
   "name": "python",
   "nbconvert_exporter": "python",
   "pygments_lexer": "ipython2",
   "version": "2.7.12"
  }
 },
 "nbformat": 4,
 "nbformat_minor": 1
}
