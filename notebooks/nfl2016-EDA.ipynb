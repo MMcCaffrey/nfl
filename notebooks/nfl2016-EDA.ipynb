{
 "cells": [
  {
   "cell_type": "code",
   "execution_count": 7,
   "metadata": {
    "collapsed": false
   },
   "outputs": [],
   "source": [
    "import pandas as pd\n",
    "import numpy as np\n",
    "import random \n",
    "\n",
    "from sklearn.linear_model import LogisticRegression\n",
    "from sklearn.ensemble import RandomForestClassifier\n",
    "from sklearn.ensemble import GradientBoostingClassifier\n",
    "from sklearn.svm import SVC\n",
    "from sklearn.tree import DecisionTreeClassifier\n",
    "from sklearn.neighbors import KNeighborsClassifier\n",
    "from sklearn.model_selection import train_test_split\n",
    "from sklearn.model_selection import KFold\n",
    "from sklearn.grid_search import GridSearchCV\n",
    "from sklearn.model_selection import cross_val_score\n",
    "from sklearn.preprocessing import StandardScaler\n",
    "from sklearn.metrics import confusion_matrix\n",
    "\n",
    "import matplotlib\n",
    "%matplotlib inline"
   ]
  },
  {
   "cell_type": "code",
   "execution_count": 66,
   "metadata": {
    "collapsed": true
   },
   "outputs": [],
   "source": [
    "def clean(filename):\n",
    "    pbp = pd.read_csv(filename)\n",
    "\n",
    "    # convert column names to upper case (since they are inconsistent in the data by season)\n",
    "    pbp.columns = [x.upper() for x in pbp.columns]\n",
    "    \n",
    "    # drop all columns with no info, we won't use, or aren't in all the data\n",
    "    pbp.drop(\n",
    "        ['UNNAMED: 10', \\\n",
    "         'UNNAMED: 12', \\\n",
    "         'UNNAMED: 16',\\\n",
    "         'UNNAMED: 17', \\\n",
    "         'CHALLENGER', \\\n",
    "         'ISMEASUREMENT', \\\n",
    "         'NEXTSCORE', \\\n",
    "         'TEAMWIN',\\\n",
    "         'ISINCOMPLETE', \\\n",
    "         'ISTOUCHDOWN', \\\n",
    "         'ISSACK', \\\n",
    "         'ISCHALLENGE', \\\n",
    "         'ISCHALLENGEREVERSED', \\\n",
    "         'ISINTERCEPTION', \\\n",
    "         'ISPENALTY', \\\n",
    "         'ISTWOPOINTCONVERSION', \\\n",
    "         'SERIESFIRSTDOWN', \\\n",
    "         'ISTWOPOINTCONVERSIONSUCCESSFUL', \\\n",
    "         'ISPENALTYACCEPTED', \\\n",
    "         'PENALTYTEAM', \\\n",
    "         'ISFUMBLE', \\\n",
    "         'PENALTYTYPE', \\\n",
    "         'PENALTYYARDS', \\\n",
    "         'SEASONYEAR', \\\n",
    "         'GAMEID', \\\n",
    "         'GAMEDATE', \\\n",
    "         'ISNOPLAY', \\\n",
    "         'DEFENSESCORE',\n",
    "         'ISMESUREMENT',\n",
    "         'ISPRESEASON',\n",
    "         'OFFENSESCORE',\n",
    "         'PENALIZEDPLAYER',\n",
    "         'PLAYID',\n",
    "         'SCORECHANGE',\n",
    "         'SCOREDIFF'], \\\n",
    "          axis=1, inplace=True,  errors='ignore')\n",
    "    \n",
    "    # rename the columns to be more friendly\n",
    "    pbp.columns = ['Quarter', \\\n",
    "                    'Minute', \\\n",
    "                    'Second', \\\n",
    "                    'OffenseTeam', \\\n",
    "                    'DefenseTeam', \\\n",
    "                    'Down', \\\n",
    "                    'ToGo', \\\n",
    "                    'YardLine', \\\n",
    "                    'Description', \\\n",
    "                    'Yards', \\\n",
    "                    'Formation', \\\n",
    "                    'PlayType', \\\n",
    "                    'IsRush', \\\n",
    "                    'IsPass', \\\n",
    "                    'PassType', \\\n",
    "                    'RushDirection', \\\n",
    "                    'YardLineFixed', \\\n",
    "                    'YardLineDirection']\n",
    "\n",
    "    # get rid of all the kicks except punts and field goals\n",
    "    pbp = pbp[(pbp.PlayType != 'KICK OFF') & (pbp.PlayType != 'EXTRA POINT') & \\\n",
    "              (pbp.PlayType != 'TWO-POINT CONVERSION')]\n",
    "\n",
    "    # get rid of all the timeout plays\n",
    "    pbp = pbp[pbp.OffenseTeam.notnull()]\n",
    "\n",
    "    # get rid of all of the no-plays\n",
    "    pbp = pbp[(pbp.PlayType != 'NO PLAY') & (pbp.PlayType != 'EXCEPTION') & \\\n",
    "              (pbp.PlayType != 'CLOCK STOP')& (pbp.PlayType != 'PENALTY')]\n",
    "\n",
    "    # get rid of all the malformed pass types\n",
    "    passtypes = ['DEEP MIDDLE', 'SHORT LEFT', 'SHORT RIGHT', 'SHORT MIDDLE', \\\n",
    "                 'DEEP LEFT', 'DEEP RIGHT']\n",
    "    pbp = pbp[(pbp['PassType'].isin(passtypes)) | (pbp['PassType'].isnull())]\n",
    "\n",
    "    # replace the nan PlayTypes with 'DIRECT SNAP'\n",
    "    pbp.PlayType = pbp.PlayType.fillna('DIRECT SNAP')\n",
    "\n",
    "    # drop the existing IsRush/IsPass and create new ones\n",
    "    pbp.drop(['IsRush', 'IsPass'], axis=1, inplace=True)\n",
    "\n",
    "    play_to_rush = {\n",
    "        'RUSH': 1,\n",
    "        'PASS' : 0,\n",
    "        'PUNT' : 0,\n",
    "        'QB KNEEL' : 1,\n",
    "        'SCRAMBLE' : 0,\n",
    "        'FIELD GOAL' : 0,\n",
    "        'SACK' : 0,\n",
    "        'FUMBLES' : 1,\n",
    "        'DIRECT SNAP' : 1\n",
    "    }\n",
    "\n",
    "    pbp['IsRush'] = pbp['PlayType'].map(play_to_rush)\n",
    "\n",
    "    play_to_pass = {\n",
    "        'RUSH': 0,\n",
    "        'PASS' : 1,\n",
    "        'PUNT' : 0,\n",
    "        'QB KNEEL' : 0,\n",
    "        'SCRAMBLE' : 1,\n",
    "        'FIELD GOAL' : 0,\n",
    "        'SACK' : 1,\n",
    "        'FUMBLES' : 0,\n",
    "        'DIRECT SNAP' : 0\n",
    "    }\n",
    "\n",
    "    pbp['IsPass'] = pbp['PlayType'].map(play_to_pass)\n",
    "\n",
    "    play_to_kick = {\n",
    "        'RUSH': 0,\n",
    "        'PASS' : 0,\n",
    "        'PUNT' : 1,\n",
    "        'QB KNEEL' : 0,\n",
    "        'SCRAMBLE' : 0,\n",
    "        'FIELD GOAL' : 1,\n",
    "        'SACK' : 0,\n",
    "        'FUMBLES' : 0,\n",
    "        'DIRECT SNAP' : 0\n",
    "    }\n",
    "\n",
    "    pbp['IsKick'] = pbp['PlayType'].map(play_to_kick)\n",
    "\n",
    "\n",
    "    # Combine the dummy classes into one var and drop the dummies\n",
    "    def play_type(x):\n",
    "        if x.IsRush == 1:\n",
    "            return 'RUSH'\n",
    "        if x.IsPass == 1:\n",
    "            return 'PASS'\n",
    "        if x.IsKick == 1:\n",
    "            return 'KICK'\n",
    "        else:\n",
    "            return 'NaN'\n",
    "\n",
    "    pbp['Play'] = pbp.apply(lambda x: play_type(x), axis=1)\n",
    "\n",
    "    pbp.drop(['IsRush', 'IsPass', 'IsKick'], axis=1, inplace=True)\n",
    "\n",
    "    # Convert some columns to categorical\n",
    "    pbp.Formation = pbp.Formation.astype(\"category\")\n",
    "    pbp.OffenseTeam = pbp.OffenseTeam.astype(\"category\")\n",
    "    pbp.DefenseTeam = pbp.DefenseTeam.astype(\"category\")\n",
    "    pbp.Play = pbp.Play.astype(\"category\")\n",
    "\n",
    "    return pbp"
   ]
  },
  {
   "cell_type": "code",
   "execution_count": 9,
   "metadata": {
    "collapsed": true
   },
   "outputs": [],
   "source": [
    "def prep(df):\n",
    "\n",
    "    # A few columns have to go for us to build a model (though we use them for user presentation)\n",
    "    df.drop(['YardLineFixed', 'YardLineDirection','Description', 'PlayType', \\\n",
    "             'PassType', 'RushDirection', 'Yards', 'DefenseTeam'], axis=1, inplace=True)\n",
    "\n",
    "    # create dummy variables for formations\n",
    "    form_dummies = pd.get_dummies(df.Formation)\n",
    "    form_dummies.columns = map(lambda x: 'FORMATION_' + x.replace (' ', '_'), form_dummies.columns)\n",
    "\n",
    "    # create dummy variables for teams\n",
    "    team_dummies = pd.get_dummies(df.OffenseTeam)\n",
    "    team_dummies.columns = map(lambda x: 'TEAM_' + str(x), team_dummies.columns)\n",
    "\n",
    "    # combine the dummy variables and drop the categorical versions\n",
    "    df_prepped = pd.concat(\n",
    "        [df.ix[:,['Quarter', 'Minute', 'Second', 'Down', 'ToGo', 'YardLine', 'Play']],\n",
    "        team_dummies,\n",
    "        form_dummies], axis=1)\n",
    "\n",
    "    return df_prepped"
   ]
  },
  {
   "cell_type": "code",
   "execution_count": 10,
   "metadata": {
    "collapsed": true
   },
   "outputs": [],
   "source": [
    "def combine(filenames):\n",
    "\n",
    "    dfs = []\n",
    "    for filename in filenames:\n",
    "        dfs.append(pd.read_csv(filename))\n",
    "\n",
    "    df = pd.concat(dfs)\n",
    "\n",
    "    return df"
   ]
  },
  {
   "cell_type": "code",
   "execution_count": 11,
   "metadata": {
    "collapsed": true
   },
   "outputs": [],
   "source": [
    "def prep_record(record):\n",
    "    '''\n",
    "    INPUT: One play record as a single row DataFrame in \"clean form\"\n",
    "    OUTPUT: The record in \"model form\"\n",
    "\n",
    "    This will work for multiple records, although it's really meant for one.\n",
    "    '''\n",
    "\n",
    "    formations = [\n",
    "    'FIELD_GOAL',\n",
    "    'NO_HUDDLE',\n",
    "    'NO_HUDDLE_SHOTGUN',\n",
    "    'PUNT',\n",
    "    'SHOTGUN',\n",
    "    'UNDER_CENTER',\n",
    "    'WILDCAT']\n",
    "\n",
    "    teams = [\n",
    "    'ARI',\n",
    "    'ATL',\n",
    "    'BAL',\n",
    "    'BUF',\n",
    "    'CAR',\n",
    "    'CHI',\n",
    "    'CIN',\n",
    "    'CLE',\n",
    "    'DAL',\n",
    "    'DEN',\n",
    "    'DET',\n",
    "    'GB',\n",
    "    'HOU',\n",
    "    'IND',\n",
    "    'JAX',\n",
    "    'KC',\n",
    "    'LA',\n",
    "    'MIA',\n",
    "    'MIN',\n",
    "    'NE',\n",
    "    'NO',\n",
    "    'NYG',\n",
    "    'NYJ',\n",
    "    'OAK',\n",
    "    'PHI',\n",
    "    'PIT',\n",
    "    'SD',\n",
    "    'SEA',\n",
    "    'SF',\n",
    "    'TB',\n",
    "    'TEN',\n",
    "    'WAS']\n",
    "\n",
    "    # Dummy the team\n",
    "    df2 = pd.get_dummies(record.OffenseTeam)\n",
    "    dummies_frame = pd.get_dummies(teams)\n",
    "    df2 = df2.reindex(columns=dummies_frame.columns, fill_value=0)\n",
    "    df2.columns = map(lambda x: 'TEAM_' + str(x), df2.columns)\n",
    "\n",
    "    # Dummy the formation\n",
    "    df1 = pd.get_dummies(record.Formation)\n",
    "    dummies_frame = pd.get_dummies(formations)\n",
    "    df1 = df1.reindex(columns=dummies_frame.columns, fill_value=0)\n",
    "    df1.columns = map(lambda x: 'FORMATION_' + x.replace (' ', '_'), df1.columns)\n",
    "\n",
    "    # Combine the dummy variables and drop the categorical versions\n",
    "    record = pd.concat(\n",
    "        [record.ix[:,['Quarter', 'Minute', 'Second', 'Down', 'ToGo', 'YardLine', 'Play']],\n",
    "        df2,\n",
    "        df1], axis=1)\n",
    "\n",
    "    return record"
   ]
  },
  {
   "cell_type": "code",
   "execution_count": 67,
   "metadata": {
    "collapsed": false
   },
   "outputs": [],
   "source": [
    "pbp2016 = clean('../data/pbp-2016.csv')"
   ]
  },
  {
   "cell_type": "code",
   "execution_count": 74,
   "metadata": {
    "collapsed": false
   },
   "outputs": [],
   "source": [
    "pbp2016.to_csv('../data/pbp2016-clean.csv', index=False)"
   ]
  },
  {
   "cell_type": "code",
   "execution_count": 31,
   "metadata": {
    "collapsed": false
   },
   "outputs": [
    {
     "data": {
      "text/plain": [
       "array([0])"
      ]
     },
     "execution_count": 31,
     "metadata": {},
     "output_type": "execute_result"
    }
   ],
   "source": [
    "# this would have been amazing to have... so, of course it's not filled in\n",
    "pbp2016['scorediff'].unique()"
   ]
  },
  {
   "cell_type": "code",
   "execution_count": 44,
   "metadata": {
    "collapsed": false
   },
   "outputs": [],
   "source": [
    "pbp2016.columns = [x.upper() for x in pbp2016.columns]\n",
    "pbp2015.columns = [x.upper() for x in pbp2015.columns]"
   ]
  },
  {
   "cell_type": "code",
   "execution_count": 45,
   "metadata": {
    "collapsed": false
   },
   "outputs": [],
   "source": [
    "cols2016 = set(pbp2016.columns)\n",
    "cols2015 = set(pbp2015.columns)"
   ]
  },
  {
   "cell_type": "code",
   "execution_count": 50,
   "metadata": {
    "collapsed": false
   },
   "outputs": [
    {
     "data": {
      "text/plain": [
       "{'DEFENSESCORE',\n",
       " 'ISMESUREMENT',\n",
       " 'ISPRESEASON',\n",
       " 'OFFENSESCORE',\n",
       " 'PENALIZEDPLAYER',\n",
       " 'PLAYID',\n",
       " 'SCORECHANGE',\n",
       " 'SCOREDIFF'}"
      ]
     },
     "execution_count": 50,
     "metadata": {},
     "output_type": "execute_result"
    }
   ],
   "source": [
    "cols2016.difference(cols2015)"
   ]
  },
  {
   "cell_type": "code",
   "execution_count": 55,
   "metadata": {
    "collapsed": true
   },
   "outputs": [],
   "source": [
    "pbp2016.columns = [x.upper() for x in pbp2016.columns]\n",
    "    \n",
    "# drop all columns with no info, we won't use, or aren't in all the data\n",
    "pbp2016.drop(\n",
    "    ['UNNAMED: 10', \\\n",
    "     'UNNAMED: 12', \\\n",
    "     'UNNAMED: 16',\\\n",
    "     'UNNAMED: 17', \\\n",
    "     'CHALLENGER', \\\n",
    "     'ISMEASUREMENT', \\\n",
    "     'NEXTSCORE', \\\n",
    "     'TEAMWIN',\\\n",
    "     'ISINCOMPLETE', \\\n",
    "     'ISTOUCHDOWN', \\\n",
    "     'ISSACK', \\\n",
    "     'ISCHALLENGE', \\\n",
    "     'ISCHALLENGEREVERSED', \\\n",
    "     'ISINTERCEPTION', \\\n",
    "     'ISPENALTY', \\\n",
    "     'ISTWOPOINTCONVERSION', \\\n",
    "     'SERIESFIRSTDOWN', \\\n",
    "     'ISTWOPOINTCONVERSIONSUCCESSFUL', \\\n",
    "     'ISPENALTYACCEPTED', \\\n",
    "     'PENALTYTEAM', \\\n",
    "     'ISFUMBLE', \\\n",
    "     'PENALTYTYPE', \\\n",
    "     'PENALTYYARDS', \\\n",
    "     'SEASONYEAR', \\\n",
    "     'GAMEID', \\\n",
    "     'GAMEDATE', \\\n",
    "     'ISNOPLAY', \\\n",
    "     'DEFENSESCORE',\n",
    "     'ISMESUREMENT',\n",
    "     'ISPRESEASON',\n",
    "     'OFFENSESCORE',\n",
    "     'PENALIZEDPLAYER',\n",
    "     'PLAYID',\n",
    "     'SCORECHANGE',\n",
    "     'SCOREDIFF'], \\\n",
    "      axis=1, inplace=True,  errors='ignore')"
   ]
  },
  {
   "cell_type": "code",
   "execution_count": 57,
   "metadata": {
    "collapsed": false
   },
   "outputs": [
    {
     "name": "stdout",
     "output_type": "stream",
     "text": [
      "QUARTER\n",
      "MINUTE\n",
      "SECOND\n",
      "OFFENSETEAM\n",
      "DEFENSETEAM\n",
      "DOWN\n",
      "TOGO\n",
      "YARDLINE\n",
      "DESCRIPTION\n",
      "YARDS\n",
      "FORMATION\n",
      "PLAYTYPE\n",
      "ISRUSH\n",
      "ISPASS\n",
      "PASSTYPE\n",
      "RUSHDIRECTION\n",
      "YARDLINEFIXED\n",
      "YARDLINEDIRECTION\n"
     ]
    }
   ],
   "source": [
    "for c in pbp2016.columns:\n",
    "    print c"
   ]
  },
  {
   "cell_type": "code",
   "execution_count": 63,
   "metadata": {
    "collapsed": false
   },
   "outputs": [],
   "source": [
    "pbp2016.columns = ['Quarter', \\\n",
    " 'Minute', \\\n",
    " 'Second', \\\n",
    " 'OffenseTeam', \\\n",
    " 'DefenseTeam', \\\n",
    " 'Down', \\\n",
    " 'ToGo', \\\n",
    " 'YardLine', \\\n",
    " 'Description', \\\n",
    " 'Yards', \\\n",
    " 'Formation', \\\n",
    " 'PlayType', \\\n",
    " 'IsRush', \\\n",
    " 'IsPass', \\\n",
    " 'PassType', \\\n",
    " 'RushDirection', \\\n",
    " 'YardLineFixed', \\\n",
    " 'YardLineDirection']"
   ]
  },
  {
   "cell_type": "code",
   "execution_count": 64,
   "metadata": {
    "collapsed": false
   },
   "outputs": [
    {
     "data": {
      "text/plain": [
       "Index([u'Quarter', u'Minute', u'Second', u'OffenseTeam', u'DefenseTeam',\n",
       "       u'Down', u'ToGo', u'YardLine', u'Description', u'Yards', u'Formation',\n",
       "       u'PlayType', u'IsRush', u'IsPass', u'PassType', u'RushDirection',\n",
       "       u'YardLineFixed', u'YardLineDirection'],\n",
       "      dtype='object')"
      ]
     },
     "execution_count": 64,
     "metadata": {},
     "output_type": "execute_result"
    }
   ],
   "source": [
    "pbp2016.columns"
   ]
  },
  {
   "cell_type": "code",
   "execution_count": 85,
   "metadata": {
    "collapsed": true
   },
   "outputs": [],
   "source": [
    "# read in the cleaned data and combine it\n",
    "filenames = ['../data/pbp2016-clean.csv', '../data/pbp2015-clean.csv', '../data/pbp2014-clean.csv', '../data/pbp2013-clean.csv']\n",
    "pbp = combine(filenames)"
   ]
  },
  {
   "cell_type": "code",
   "execution_count": 91,
   "metadata": {
    "collapsed": false
   },
   "outputs": [
    {
     "name": "stdout",
     "output_type": "stream",
     "text": [
      "<class 'pandas.core.frame.DataFrame'>\n",
      "Int64Index: 134998 entries, 0 to 39489\n",
      "Data columns (total 9 columns):\n",
      "Quarter        134998 non-null int64\n",
      "Minute         134998 non-null int64\n",
      "Second         134998 non-null int64\n",
      "OffenseTeam    134998 non-null object\n",
      "Down           134998 non-null int64\n",
      "ToGo           134998 non-null int64\n",
      "YardLine       134998 non-null int64\n",
      "Formation      134993 non-null object\n",
      "Play           134998 non-null object\n",
      "dtypes: int64(6), object(3)\n",
      "memory usage: 10.3+ MB\n"
     ]
    }
   ],
   "source": [
    "pbp.info()"
   ]
  },
  {
   "cell_type": "code",
   "execution_count": 87,
   "metadata": {
    "collapsed": true
   },
   "outputs": [],
   "source": [
    "prep_pbp = prep(pbp)"
   ]
  },
  {
   "cell_type": "code",
   "execution_count": 88,
   "metadata": {
    "collapsed": true
   },
   "outputs": [],
   "source": [
    "# prep the data for modeling and then save it to file\n",
    "prep_pbp.to_csv('../data/pbp-prepped.csv', index=False)"
   ]
  },
  {
   "cell_type": "code",
   "execution_count": 92,
   "metadata": {
    "collapsed": false
   },
   "outputs": [
    {
     "name": "stdout",
     "output_type": "stream",
     "text": [
      "<class 'pandas.core.frame.DataFrame'>\n",
      "Int64Index: 134998 entries, 0 to 39489\n",
      "Data columns (total 46 columns):\n",
      "Quarter                        134998 non-null int64\n",
      "Minute                         134998 non-null int64\n",
      "Second                         134998 non-null int64\n",
      "Down                           134998 non-null int64\n",
      "ToGo                           134998 non-null int64\n",
      "YardLine                       134998 non-null int64\n",
      "Play                           134998 non-null object\n",
      "TEAM_ARI                       134998 non-null uint8\n",
      "TEAM_ATL                       134998 non-null uint8\n",
      "TEAM_BAL                       134998 non-null uint8\n",
      "TEAM_BUF                       134998 non-null uint8\n",
      "TEAM_CAR                       134998 non-null uint8\n",
      "TEAM_CHI                       134998 non-null uint8\n",
      "TEAM_CIN                       134998 non-null uint8\n",
      "TEAM_CLE                       134998 non-null uint8\n",
      "TEAM_DAL                       134998 non-null uint8\n",
      "TEAM_DEN                       134998 non-null uint8\n",
      "TEAM_DET                       134998 non-null uint8\n",
      "TEAM_GB                        134998 non-null uint8\n",
      "TEAM_HOU                       134998 non-null uint8\n",
      "TEAM_IND                       134998 non-null uint8\n",
      "TEAM_JAX                       134998 non-null uint8\n",
      "TEAM_KC                        134998 non-null uint8\n",
      "TEAM_LA                        134998 non-null uint8\n",
      "TEAM_MIA                       134998 non-null uint8\n",
      "TEAM_MIN                       134998 non-null uint8\n",
      "TEAM_NE                        134998 non-null uint8\n",
      "TEAM_NO                        134998 non-null uint8\n",
      "TEAM_NYG                       134998 non-null uint8\n",
      "TEAM_NYJ                       134998 non-null uint8\n",
      "TEAM_OAK                       134998 non-null uint8\n",
      "TEAM_PHI                       134998 non-null uint8\n",
      "TEAM_PIT                       134998 non-null uint8\n",
      "TEAM_SD                        134998 non-null uint8\n",
      "TEAM_SEA                       134998 non-null uint8\n",
      "TEAM_SF                        134998 non-null uint8\n",
      "TEAM_TB                        134998 non-null uint8\n",
      "TEAM_TEN                       134998 non-null uint8\n",
      "TEAM_WAS                       134998 non-null uint8\n",
      "FORMATION_FIELD_GOAL           134998 non-null uint8\n",
      "FORMATION_NO_HUDDLE            134998 non-null uint8\n",
      "FORMATION_NO_HUDDLE_SHOTGUN    134998 non-null uint8\n",
      "FORMATION_PUNT                 134998 non-null uint8\n",
      "FORMATION_SHOTGUN              134998 non-null uint8\n",
      "FORMATION_UNDER_CENTER         134998 non-null uint8\n",
      "FORMATION_WILDCAT              134998 non-null uint8\n",
      "dtypes: int64(6), object(1), uint8(39)\n",
      "memory usage: 13.3+ MB\n"
     ]
    }
   ],
   "source": [
    "prep_pbp.info()"
   ]
  },
  {
   "cell_type": "code",
   "execution_count": null,
   "metadata": {
    "collapsed": true
   },
   "outputs": [],
   "source": []
  }
 ],
 "metadata": {
  "anaconda-cloud": {},
  "kernelspec": {
   "display_name": "Python [conda root]",
   "language": "python",
   "name": "conda-root-py"
  },
  "language_info": {
   "codemirror_mode": {
    "name": "ipython",
    "version": 2
   },
   "file_extension": ".py",
   "mimetype": "text/x-python",
   "name": "python",
   "nbconvert_exporter": "python",
   "pygments_lexer": "ipython2",
   "version": "2.7.12"
  }
 },
 "nbformat": 4,
 "nbformat_minor": 1
}
